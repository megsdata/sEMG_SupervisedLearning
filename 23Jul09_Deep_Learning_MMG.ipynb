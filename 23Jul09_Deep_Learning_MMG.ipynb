{
  "nbformat": 4,
  "nbformat_minor": 0,
  "metadata": {
    "colab": {
      "provenance": [],
      "machine_shape": "hm",
      "gpuType": "T4",
      "authorship_tag": "ABX9TyPfThxTJf/XMQ+jJyoSNPBT",
      "include_colab_link": true
    },
    "kernelspec": {
      "name": "python3",
      "display_name": "Python 3"
    },
    "language_info": {
      "name": "python"
    },
    "accelerator": "GPU",
    "gpuClass": "standard"
  },
  "cells": [
    {
      "cell_type": "markdown",
      "metadata": {
        "id": "view-in-github",
        "colab_type": "text"
      },
      "source": [
        "<a href=\"https://colab.research.google.com/github/megsdata/sEMG_SupervisedLearning/blob/main/23Jul09_Deep_Learning_MMG.ipynb\" target=\"_parent\"><img src=\"https://colab.research.google.com/assets/colab-badge.svg\" alt=\"Open In Colab\"/></a>"
      ]
    },
    {
      "cell_type": "code",
      "execution_count": 3,
      "metadata": {
        "id": "blOYjYQr6ZDj",
        "colab": {
          "base_uri": "https://localhost:8080/"
        },
        "outputId": "c8d642a8-9ab3-412c-9854-40bce21e90c0"
      },
      "outputs": [
        {
          "output_type": "stream",
          "name": "stdout",
          "text": [
            "2.12.0\n"
          ]
        }
      ],
      "source": [
        "import pandas as pd\n",
        "import numpy as np\n",
        "import pathlib\n",
        "import os\n",
        "import datetime\n",
        "import matplotlib.pyplot as plt\n",
        "import tensorflow as tf\n",
        "from tensorflow import keras\n",
        "from tensorflow.keras import layers\n",
        "from tensorflow.keras.layers import Dropout\n",
        "from tensorflow.keras.regularizers import l2\n",
        "import weightwatcher as ww\n",
        "import warnings\n",
        "warnings.simplefilter(action='ignore', category=RuntimeWarning)\n",
        "np.set_printoptions(precision=4)\n",
        "print(tf.version.VERSION)"
      ]
    },
    {
      "cell_type": "code",
      "source": [
        "!pip install WeightWatcher\n",
        "#!pip install pyyaml\n",
        "#!pip install h5py"
      ],
      "metadata": {
        "colab": {
          "base_uri": "https://localhost:8080/"
        },
        "id": "hirSelhpo1hB",
        "outputId": "f2d6ee28-e69f-451d-a1fa-f97186566078"
      },
      "execution_count": 2,
      "outputs": [
        {
          "output_type": "stream",
          "name": "stdout",
          "text": [
            "Collecting WeightWatcher\n",
            "  Downloading weightwatcher-0.7.1.5-py3-none-any.whl (69 kB)\n",
            "\u001b[?25l     \u001b[90m━━━━━━━━━━━━━━━━━━━━━━━━━━━━━━━━━━━━━━━━\u001b[0m \u001b[32m0.0/69.8 kB\u001b[0m \u001b[31m?\u001b[0m eta \u001b[36m-:--:--\u001b[0m\r\u001b[2K     \u001b[90m━━━━━━━━━━━━━━━━━━━━━━━━━━━━━━━━━━━━━━━━\u001b[0m \u001b[32m69.8/69.8 kB\u001b[0m \u001b[31m3.0 MB/s\u001b[0m eta \u001b[36m0:00:00\u001b[0m\n",
            "\u001b[?25hRequirement already satisfied: numpy in /usr/local/lib/python3.10/dist-packages (from WeightWatcher) (1.22.4)\n",
            "Requirement already satisfied: pandas in /usr/local/lib/python3.10/dist-packages (from WeightWatcher) (1.5.3)\n",
            "Requirement already satisfied: matplotlib in /usr/local/lib/python3.10/dist-packages (from WeightWatcher) (3.7.1)\n",
            "Requirement already satisfied: matplotlib-inline in /usr/local/lib/python3.10/dist-packages (from WeightWatcher) (0.1.6)\n",
            "Collecting powerlaw (from WeightWatcher)\n",
            "  Downloading powerlaw-1.5-py3-none-any.whl (24 kB)\n",
            "Requirement already satisfied: scikit-learn in /usr/local/lib/python3.10/dist-packages (from WeightWatcher) (1.2.2)\n",
            "Requirement already satisfied: tqdm in /usr/local/lib/python3.10/dist-packages (from WeightWatcher) (4.65.0)\n",
            "Requirement already satisfied: contourpy>=1.0.1 in /usr/local/lib/python3.10/dist-packages (from matplotlib->WeightWatcher) (1.1.0)\n",
            "Requirement already satisfied: cycler>=0.10 in /usr/local/lib/python3.10/dist-packages (from matplotlib->WeightWatcher) (0.11.0)\n",
            "Requirement already satisfied: fonttools>=4.22.0 in /usr/local/lib/python3.10/dist-packages (from matplotlib->WeightWatcher) (4.40.0)\n",
            "Requirement already satisfied: kiwisolver>=1.0.1 in /usr/local/lib/python3.10/dist-packages (from matplotlib->WeightWatcher) (1.4.4)\n",
            "Requirement already satisfied: packaging>=20.0 in /usr/local/lib/python3.10/dist-packages (from matplotlib->WeightWatcher) (23.1)\n",
            "Requirement already satisfied: pillow>=6.2.0 in /usr/local/lib/python3.10/dist-packages (from matplotlib->WeightWatcher) (8.4.0)\n",
            "Requirement already satisfied: pyparsing>=2.3.1 in /usr/local/lib/python3.10/dist-packages (from matplotlib->WeightWatcher) (3.1.0)\n",
            "Requirement already satisfied: python-dateutil>=2.7 in /usr/local/lib/python3.10/dist-packages (from matplotlib->WeightWatcher) (2.8.2)\n",
            "Requirement already satisfied: traitlets in /usr/local/lib/python3.10/dist-packages (from matplotlib-inline->WeightWatcher) (5.7.1)\n",
            "Requirement already satisfied: pytz>=2020.1 in /usr/local/lib/python3.10/dist-packages (from pandas->WeightWatcher) (2022.7.1)\n",
            "Requirement already satisfied: scipy in /usr/local/lib/python3.10/dist-packages (from powerlaw->WeightWatcher) (1.10.1)\n",
            "Requirement already satisfied: mpmath in /usr/local/lib/python3.10/dist-packages (from powerlaw->WeightWatcher) (1.3.0)\n",
            "Requirement already satisfied: joblib>=1.1.1 in /usr/local/lib/python3.10/dist-packages (from scikit-learn->WeightWatcher) (1.2.0)\n",
            "Requirement already satisfied: threadpoolctl>=2.0.0 in /usr/local/lib/python3.10/dist-packages (from scikit-learn->WeightWatcher) (3.1.0)\n",
            "Requirement already satisfied: six>=1.5 in /usr/local/lib/python3.10/dist-packages (from python-dateutil>=2.7->matplotlib->WeightWatcher) (1.16.0)\n",
            "Installing collected packages: powerlaw, WeightWatcher\n",
            "Successfully installed WeightWatcher-0.7.1.5 powerlaw-1.5\n"
          ]
        }
      ]
    },
    {
      "cell_type": "code",
      "source": [
        "import logging\n",
        "logging.basicConfig(level=logging.INFO)\n",
        "logger = logging.getLogger(ww.__name__)\n",
        "logger.setLevel(logging.INFO)\n",
        "checkpoint_path = \"logs/cp.ckpt\"\n",
        "checkpoint_dir = os.path.dirname(checkpoint_path)\n",
        "cp_callback = tf.keras.callbacks.ModelCheckpoint(filepath=checkpoint_path,\n",
        "                                                 save_weights_only=True,\n",
        "                                                 verbose=1)"
      ],
      "metadata": {
        "id": "zsy1JI542cwN"
      },
      "execution_count": 4,
      "outputs": []
    },
    {
      "cell_type": "code",
      "source": [
        "from google.colab import drive\n",
        "drive.mount('/MSC_THESIS/')\n",
        "%cd /MSC_THESIS/MyDrive/School - Ryerson Graduate/MSC_THESIS/23Jul09_Envelope_DL_Data\n",
        "import pathlib\n",
        "all_files =  sorted(str(p) for p in pathlib.Path('/MSC_THESIS/MyDrive/School - Ryerson Graduate/MSC_THESIS/23Jul09_Envelope_DL_Data/').glob(\"*.csv\"))\n",
        "#print(all_files)\n",
        "df = pd.read_csv(\"/MSC_THESIS/MyDrive/School - Ryerson Graduate/MSC_THESIS/23Jul09_Envelope_DL_Data/_11_MATRIX.csv\")\n",
        "for i in range(len(all_files)-1):\n",
        "  temp = pd.read_csv(all_files[i])\n",
        "  df = pd.concat([df, temp], axis=0)\n",
        "  #print(len(df.index))\n",
        "df['ContractionDuration'] = df['Contraction End Time (s)'] - df['Contraction Start Time(s)']"
      ],
      "metadata": {
        "id": "7f56ggMv615g",
        "colab": {
          "base_uri": "https://localhost:8080/"
        },
        "outputId": "67f93552-f692-47fe-ed49-a5572a440510"
      },
      "execution_count": 5,
      "outputs": [
        {
          "output_type": "stream",
          "name": "stdout",
          "text": [
            "Mounted at /MSC_THESIS/\n",
            "/MSC_THESIS/MyDrive/School - Ryerson Graduate/MSC_THESIS/23Jul09_Envelope_DL_Data\n"
          ]
        }
      ]
    },
    {
      "cell_type": "code",
      "source": [
        "df.head()"
      ],
      "metadata": {
        "colab": {
          "base_uri": "https://localhost:8080/",
          "height": 334
        },
        "id": "o9tz2xEywT3N",
        "outputId": "5d507d11-a7a9-4a75-d6f6-dade24c285e9"
      },
      "execution_count": 6,
      "outputs": [
        {
          "output_type": "execute_result",
          "data": {
            "text/plain": [
              "   Participant ID  Trial ID  Trial Type  Pulse Width  \\\n",
              "0               1        11           1     2.677351   \n",
              "1               1        11           1     2.677351   \n",
              "2               1        11           1     2.677351   \n",
              "3               1        11           1     2.677351   \n",
              "4               1        11           1     2.677351   \n",
              "\n",
              "   Contraction Start Time(s)  Contraction End Time (s)  ContractionNo  \\\n",
              "0                   6.506103                  9.183454              1   \n",
              "1                   6.506103                  9.183454              1   \n",
              "2                   6.506103                  9.183454              1   \n",
              "3                   6.506103                  9.183454              1   \n",
              "4                   6.506103                  9.183454              1   \n",
              "\n",
              "   Pain Label  Sex  Age  ...  Weight  Previous Injury  Fibula Length  \\\n",
              "0           1    1   23  ...    50.0                0           35.0   \n",
              "1           1    1   23  ...    50.0                0           35.0   \n",
              "2           1    1   23  ...    50.0                0           35.0   \n",
              "3           1    1   23  ...    50.0                0           35.0   \n",
              "4           1    1   23  ...    50.0                0           35.0   \n",
              "\n",
              "   Shank Girth  Time(s)    EMG(mv)     MMG_x     MMG_y     MMG_z  \\\n",
              "0         35.0   6.5062  95.524229  1.591994  1.301494  1.546334   \n",
              "1         35.0   6.5064  95.876228  1.596378  1.301486  1.546180   \n",
              "2         35.0   6.5066  96.267965  1.600714  1.301478  1.546035   \n",
              "3         35.0   6.5068  96.670317  1.604998  1.301471  1.545901   \n",
              "4         35.0   6.5070  97.063615  1.609228  1.301467  1.545781   \n",
              "\n",
              "   ContractionDuration  \n",
              "0             2.677351  \n",
              "1             2.677351  \n",
              "2             2.677351  \n",
              "3             2.677351  \n",
              "4             2.677351  \n",
              "\n",
              "[5 rows x 21 columns]"
            ],
            "text/html": [
              "\n",
              "  <div id=\"df-6d21b3e4-b40a-45ca-a26d-b9e53802ae4d\">\n",
              "    <div class=\"colab-df-container\">\n",
              "      <div>\n",
              "<style scoped>\n",
              "    .dataframe tbody tr th:only-of-type {\n",
              "        vertical-align: middle;\n",
              "    }\n",
              "\n",
              "    .dataframe tbody tr th {\n",
              "        vertical-align: top;\n",
              "    }\n",
              "\n",
              "    .dataframe thead th {\n",
              "        text-align: right;\n",
              "    }\n",
              "</style>\n",
              "<table border=\"1\" class=\"dataframe\">\n",
              "  <thead>\n",
              "    <tr style=\"text-align: right;\">\n",
              "      <th></th>\n",
              "      <th>Participant ID</th>\n",
              "      <th>Trial ID</th>\n",
              "      <th>Trial Type</th>\n",
              "      <th>Pulse Width</th>\n",
              "      <th>Contraction Start Time(s)</th>\n",
              "      <th>Contraction End Time (s)</th>\n",
              "      <th>ContractionNo</th>\n",
              "      <th>Pain Label</th>\n",
              "      <th>Sex</th>\n",
              "      <th>Age</th>\n",
              "      <th>...</th>\n",
              "      <th>Weight</th>\n",
              "      <th>Previous Injury</th>\n",
              "      <th>Fibula Length</th>\n",
              "      <th>Shank Girth</th>\n",
              "      <th>Time(s)</th>\n",
              "      <th>EMG(mv)</th>\n",
              "      <th>MMG_x</th>\n",
              "      <th>MMG_y</th>\n",
              "      <th>MMG_z</th>\n",
              "      <th>ContractionDuration</th>\n",
              "    </tr>\n",
              "  </thead>\n",
              "  <tbody>\n",
              "    <tr>\n",
              "      <th>0</th>\n",
              "      <td>1</td>\n",
              "      <td>11</td>\n",
              "      <td>1</td>\n",
              "      <td>2.677351</td>\n",
              "      <td>6.506103</td>\n",
              "      <td>9.183454</td>\n",
              "      <td>1</td>\n",
              "      <td>1</td>\n",
              "      <td>1</td>\n",
              "      <td>23</td>\n",
              "      <td>...</td>\n",
              "      <td>50.0</td>\n",
              "      <td>0</td>\n",
              "      <td>35.0</td>\n",
              "      <td>35.0</td>\n",
              "      <td>6.5062</td>\n",
              "      <td>95.524229</td>\n",
              "      <td>1.591994</td>\n",
              "      <td>1.301494</td>\n",
              "      <td>1.546334</td>\n",
              "      <td>2.677351</td>\n",
              "    </tr>\n",
              "    <tr>\n",
              "      <th>1</th>\n",
              "      <td>1</td>\n",
              "      <td>11</td>\n",
              "      <td>1</td>\n",
              "      <td>2.677351</td>\n",
              "      <td>6.506103</td>\n",
              "      <td>9.183454</td>\n",
              "      <td>1</td>\n",
              "      <td>1</td>\n",
              "      <td>1</td>\n",
              "      <td>23</td>\n",
              "      <td>...</td>\n",
              "      <td>50.0</td>\n",
              "      <td>0</td>\n",
              "      <td>35.0</td>\n",
              "      <td>35.0</td>\n",
              "      <td>6.5064</td>\n",
              "      <td>95.876228</td>\n",
              "      <td>1.596378</td>\n",
              "      <td>1.301486</td>\n",
              "      <td>1.546180</td>\n",
              "      <td>2.677351</td>\n",
              "    </tr>\n",
              "    <tr>\n",
              "      <th>2</th>\n",
              "      <td>1</td>\n",
              "      <td>11</td>\n",
              "      <td>1</td>\n",
              "      <td>2.677351</td>\n",
              "      <td>6.506103</td>\n",
              "      <td>9.183454</td>\n",
              "      <td>1</td>\n",
              "      <td>1</td>\n",
              "      <td>1</td>\n",
              "      <td>23</td>\n",
              "      <td>...</td>\n",
              "      <td>50.0</td>\n",
              "      <td>0</td>\n",
              "      <td>35.0</td>\n",
              "      <td>35.0</td>\n",
              "      <td>6.5066</td>\n",
              "      <td>96.267965</td>\n",
              "      <td>1.600714</td>\n",
              "      <td>1.301478</td>\n",
              "      <td>1.546035</td>\n",
              "      <td>2.677351</td>\n",
              "    </tr>\n",
              "    <tr>\n",
              "      <th>3</th>\n",
              "      <td>1</td>\n",
              "      <td>11</td>\n",
              "      <td>1</td>\n",
              "      <td>2.677351</td>\n",
              "      <td>6.506103</td>\n",
              "      <td>9.183454</td>\n",
              "      <td>1</td>\n",
              "      <td>1</td>\n",
              "      <td>1</td>\n",
              "      <td>23</td>\n",
              "      <td>...</td>\n",
              "      <td>50.0</td>\n",
              "      <td>0</td>\n",
              "      <td>35.0</td>\n",
              "      <td>35.0</td>\n",
              "      <td>6.5068</td>\n",
              "      <td>96.670317</td>\n",
              "      <td>1.604998</td>\n",
              "      <td>1.301471</td>\n",
              "      <td>1.545901</td>\n",
              "      <td>2.677351</td>\n",
              "    </tr>\n",
              "    <tr>\n",
              "      <th>4</th>\n",
              "      <td>1</td>\n",
              "      <td>11</td>\n",
              "      <td>1</td>\n",
              "      <td>2.677351</td>\n",
              "      <td>6.506103</td>\n",
              "      <td>9.183454</td>\n",
              "      <td>1</td>\n",
              "      <td>1</td>\n",
              "      <td>1</td>\n",
              "      <td>23</td>\n",
              "      <td>...</td>\n",
              "      <td>50.0</td>\n",
              "      <td>0</td>\n",
              "      <td>35.0</td>\n",
              "      <td>35.0</td>\n",
              "      <td>6.5070</td>\n",
              "      <td>97.063615</td>\n",
              "      <td>1.609228</td>\n",
              "      <td>1.301467</td>\n",
              "      <td>1.545781</td>\n",
              "      <td>2.677351</td>\n",
              "    </tr>\n",
              "  </tbody>\n",
              "</table>\n",
              "<p>5 rows × 21 columns</p>\n",
              "</div>\n",
              "      <button class=\"colab-df-convert\" onclick=\"convertToInteractive('df-6d21b3e4-b40a-45ca-a26d-b9e53802ae4d')\"\n",
              "              title=\"Convert this dataframe to an interactive table.\"\n",
              "              style=\"display:none;\">\n",
              "        \n",
              "  <svg xmlns=\"http://www.w3.org/2000/svg\" height=\"24px\"viewBox=\"0 0 24 24\"\n",
              "       width=\"24px\">\n",
              "    <path d=\"M0 0h24v24H0V0z\" fill=\"none\"/>\n",
              "    <path d=\"M18.56 5.44l.94 2.06.94-2.06 2.06-.94-2.06-.94-.94-2.06-.94 2.06-2.06.94zm-11 1L8.5 8.5l.94-2.06 2.06-.94-2.06-.94L8.5 2.5l-.94 2.06-2.06.94zm10 10l.94 2.06.94-2.06 2.06-.94-2.06-.94-.94-2.06-.94 2.06-2.06.94z\"/><path d=\"M17.41 7.96l-1.37-1.37c-.4-.4-.92-.59-1.43-.59-.52 0-1.04.2-1.43.59L10.3 9.45l-7.72 7.72c-.78.78-.78 2.05 0 2.83L4 21.41c.39.39.9.59 1.41.59.51 0 1.02-.2 1.41-.59l7.78-7.78 2.81-2.81c.8-.78.8-2.07 0-2.86zM5.41 20L4 18.59l7.72-7.72 1.47 1.35L5.41 20z\"/>\n",
              "  </svg>\n",
              "      </button>\n",
              "      \n",
              "  <style>\n",
              "    .colab-df-container {\n",
              "      display:flex;\n",
              "      flex-wrap:wrap;\n",
              "      gap: 12px;\n",
              "    }\n",
              "\n",
              "    .colab-df-convert {\n",
              "      background-color: #E8F0FE;\n",
              "      border: none;\n",
              "      border-radius: 50%;\n",
              "      cursor: pointer;\n",
              "      display: none;\n",
              "      fill: #1967D2;\n",
              "      height: 32px;\n",
              "      padding: 0 0 0 0;\n",
              "      width: 32px;\n",
              "    }\n",
              "\n",
              "    .colab-df-convert:hover {\n",
              "      background-color: #E2EBFA;\n",
              "      box-shadow: 0px 1px 2px rgba(60, 64, 67, 0.3), 0px 1px 3px 1px rgba(60, 64, 67, 0.15);\n",
              "      fill: #174EA6;\n",
              "    }\n",
              "\n",
              "    [theme=dark] .colab-df-convert {\n",
              "      background-color: #3B4455;\n",
              "      fill: #D2E3FC;\n",
              "    }\n",
              "\n",
              "    [theme=dark] .colab-df-convert:hover {\n",
              "      background-color: #434B5C;\n",
              "      box-shadow: 0px 1px 3px 1px rgba(0, 0, 0, 0.15);\n",
              "      filter: drop-shadow(0px 1px 2px rgba(0, 0, 0, 0.3));\n",
              "      fill: #FFFFFF;\n",
              "    }\n",
              "  </style>\n",
              "\n",
              "      <script>\n",
              "        const buttonEl =\n",
              "          document.querySelector('#df-6d21b3e4-b40a-45ca-a26d-b9e53802ae4d button.colab-df-convert');\n",
              "        buttonEl.style.display =\n",
              "          google.colab.kernel.accessAllowed ? 'block' : 'none';\n",
              "\n",
              "        async function convertToInteractive(key) {\n",
              "          const element = document.querySelector('#df-6d21b3e4-b40a-45ca-a26d-b9e53802ae4d');\n",
              "          const dataTable =\n",
              "            await google.colab.kernel.invokeFunction('convertToInteractive',\n",
              "                                                     [key], {});\n",
              "          if (!dataTable) return;\n",
              "\n",
              "          const docLinkHtml = 'Like what you see? Visit the ' +\n",
              "            '<a target=\"_blank\" href=https://colab.research.google.com/notebooks/data_table.ipynb>data table notebook</a>'\n",
              "            + ' to learn more about interactive tables.';\n",
              "          element.innerHTML = '';\n",
              "          dataTable['output_type'] = 'display_data';\n",
              "          await google.colab.output.renderOutput(dataTable, element);\n",
              "          const docLink = document.createElement('div');\n",
              "          docLink.innerHTML = docLinkHtml;\n",
              "          element.appendChild(docLink);\n",
              "        }\n",
              "      </script>\n",
              "    </div>\n",
              "  </div>\n",
              "  "
            ]
          },
          "metadata": {},
          "execution_count": 6
        }
      ]
    },
    {
      "cell_type": "markdown",
      "source": [
        "Helper Functions"
      ],
      "metadata": {
        "id": "Yh6lUYosBTc0"
      }
    },
    {
      "cell_type": "code",
      "source": [
        "def data_prep(my_state):\n",
        "  #select features\n",
        "  X = df[['Trial Type', 'ContractionDuration', 'Pulse Width', \\\n",
        "          'Contraction Start Time(s)', 'Contraction End Time (s)', 'ContractionNo', \\\n",
        "          'Sex', 'Age', 'Height', 'Weight', 'Previous Injury', 'Fibula Length', 'Shank Girth', \\\n",
        "          'Time(s)', 'EMG(mv)', 'MMG_x', 'MMG_y', 'MMG_z', 'ContractionDuration'\n",
        "          ]]\n",
        "  y = df['Pain Label']\n",
        "  #create data split\n",
        "  from sklearn.model_selection import train_test_split\n",
        "  X_train, X_test, y_train, y_test = train_test_split(X, y, test_size=0.2, random_state=my_state)\n",
        "  X_train, X_val, y_train, y_val = train_test_split(X_train, y_train, test_size=0.2, random_state=my_state)\n",
        "  print(\"Number of samples in the training set: \", len(X_train))\n",
        "  print(\"Number of samples in the test set: \", len(X_test))\n",
        "  print(\"Number of samples in the validation set: \", len(X_val))\n",
        "  #scale the data\n",
        "  from sklearn.preprocessing import StandardScaler\n",
        "  scaler = StandardScaler()\n",
        "  X_train_scaled = scaler.fit_transform(X_train)\n",
        "  X_test_scaled = scaler.transform(X_test)\n",
        "  X_val_scaled = scaler.transform(X_val)\n",
        "  return X_train_scaled, X_test_scaled, X_val_scaled, y_train, y_test, y_val"
      ],
      "metadata": {
        "id": "Mm4ntKYDqJ6J"
      },
      "execution_count": 7,
      "outputs": []
    },
    {
      "cell_type": "code",
      "source": [
        "def create_CNN_model(my_state, num_feat):\n",
        "  tf.random.set_seed(my_state)\n",
        "  model = tf.keras.Sequential([\n",
        "      tf.keras.layers.Conv1D(100, num_feat, activation='relu', name=\"convLayer\", input_shape=(num_feat, 1)),\n",
        "      tf.keras.layers.Dense(1024, activation='relu', name=\"relu1Layer\"),\n",
        "      #tf.keras.layers.Conv1D(100, num_feat, activation='relu', name=\"2ndconvLayer\", input_shape=(None, 1, 100000)),\n",
        "      tf.keras.layers.Dense(256, activation='relu', name=\"relu2Layer\"),\n",
        "      tf.keras.layers.Dense(256, activation='relu', name=\"relu3Layer\"),\n",
        "      tf.keras.layers.Dense(256, activation='relu', name=\"relu4Layer\"),\n",
        "      tf.keras.layers.Dense(256, activation='relu', name=\"relu5Layer\"),\n",
        "      tf.keras.layers.Dense(256, activation='relu', name=\"relu6Layer\"),\n",
        "      tf.keras.layers.Dense(256, activation='relu', name=\"relu7Layer\"),\n",
        "      tf.keras.layers.Dense(256, activation='relu', name=\"relu8Layer\"),\n",
        "      tf.keras.layers.Dense(256, activation='relu', name=\"relu9Layer\"),\n",
        "      tf.keras.layers.Dense(256, activation='relu', name=\"relu10Layer\"),\n",
        "      tf.keras.layers.Dense(1, activation='sigmoid', name=\"sigmoidLayer\")\n",
        "      #tf.keras.layers.Dense(1, activation='relu', name=\"sigmoidLayer\")\n",
        "  ])\n",
        "\n",
        "  model.compile(\n",
        "    loss=tf.keras.losses.binary_crossentropy,\n",
        "    optimizer=tf.keras.optimizers.Adam(learning_rate=0.01),\n",
        "    metrics=[\n",
        "        tf.keras.metrics.BinaryAccuracy(name='accuracy'),\n",
        "        tf.keras.metrics.Precision(name='precision'),\n",
        "        tf.keras.metrics.Recall(name='recall'),\n",
        "        tf.keras.metrics.BinaryCrossentropy(name='binary cross entropy'),\n",
        "        tf.keras.metrics.BinaryIoU(name='binary IoU'),\n",
        "        tf.keras.metrics.F1Score(average=None, threshold=None, name='f1_score', dtype=None)\n",
        "    ]\n",
        "  )\n",
        "  return model\n",
        "\n",
        "def create_LSTM_model(my_state, num_feat):\n",
        "  tf.random.set_seed(my_state)\n",
        "  model = tf.keras.Sequential([\n",
        "      #tf.keras.layers.LSTM(128, input_shape=(num_feat, 1)),\n",
        "      tf.keras.layers.LSTM(256, input_shape=(num_feat, 1)),\n",
        "      tf.keras.layers.Dense(128, activation='relu', name=\"relu1Layer\"),\n",
        "      tf.keras.layers.Dense(256, activation='relu', name=\"relu2Layer\"),\n",
        "      tf.keras.layers.Dense(256, activation='relu', name=\"relu3Layer\"),\n",
        "      tf.keras.layers.Dense(1, activation='sigmoid', name=\"sigmoidLayer\")\n",
        "  ])\n",
        "  model.compile(\n",
        "    loss=tf.keras.losses.binary_crossentropy,\n",
        "    optimizer=tf.keras.optimizers.Adam(learning_rate=0.01),\n",
        "    metrics=[\n",
        "        tf.keras.metrics.BinaryAccuracy(name='accuracy'),\n",
        "        tf.keras.metrics.Precision(name='precision'),\n",
        "        tf.keras.metrics.Recall(name='recall'),\n",
        "        tf.keras.metrics.BinaryCrossentropy(name='binary cross entropy'),\n",
        "        tf.keras.metrics.BinaryIoU(name='binary IoU'),\n",
        "        tf.keras.metrics.F1Score(average=None, threshold=None, name='f1_score', dtype=None)\n",
        "    ]\n",
        "  )\n",
        "  return model\n",
        "\n",
        "def create_regularized_LSTM_model(my_state, factor, rate, num_feat):\n",
        "  tf.random.set_seed(my_state)\n",
        "  model = tf.keras.Sequential([\n",
        "      #Dropout(rate),\n",
        "      tf.keras.layers.LSTM(256, kernel_regularizer=l2(factor), input_shape=(num_feat, 1)),\n",
        "      Dropout(rate),\n",
        "      tf.keras.layers.LSTM(128, input_shape=(256, 1)),\n",
        "      Dropout(rate),\n",
        "      tf.keras.layers.Dense(128, kernel_regularizer=l2(factor), activation='relu', name=\"relu1Layer\"),\n",
        "      Dropout(rate),\n",
        "      tf.keras.layers.Dense(256, kernel_regularizer=l2(factor), activation='relu', name=\"relu2Layer\"),\n",
        "      Dropout(rate),\n",
        "      tf.keras.layers.Dense(256, kernel_regularizer=l2(factor), activation='relu', name=\"relu3Layer\"),\n",
        "      Dropout(rate),\n",
        "      tf.keras.layers.Dense(1, activation='sigmoid', name=\"sigmoidLayer\")\n",
        "      #tf.keras.layers.Dense(1, activation='relu', name=\"reluLayer\")\n",
        "  ])\n",
        "\n",
        "  model.compile(\n",
        "      loss=tf.keras.losses.binary_crossentropy,\n",
        "      optimizer=tf.keras.optimizers.Adam(learning_rate=0.01),\n",
        "      metrics=[\n",
        "          tf.keras.metrics.BinaryAccuracy(name='accuracy'),\n",
        "          tf.keras.metrics.Precision(name='precision'),\n",
        "          tf.keras.metrics.Recall(name='recall'),\n",
        "          tf.keras.metrics.BinaryCrossentropy(name='binary cross entropy'),\n",
        "          tf.keras.metrics.BinaryIoU(name='binary IoU'),\n",
        "          tf.keras.metrics.F1Score(average=None, threshold=None, name='f1_score', dtype=None)\n",
        "      ]\n",
        "  )\n",
        "  return model\n",
        "\n",
        "def train_model(X_train_scaled, y_train, num_epochs):\n",
        "  tensorboard_callback = tf.keras.callbacks.TensorBoard(log_dir=log_dir, histogram_freq=1)\n",
        "  print(\"Training the neural network.. \")\n",
        "  history = model.fit(X_train_scaled, y_train, batch_size=32, epochs=num_epochs, callbacks=[cp_callback])\n",
        "  model.summary()\n",
        "  return history\n",
        "\n",
        "def visualize_performance(num_epochs, history):\n",
        "  import matplotlib.pyplot as plt\n",
        "  from matplotlib import rcParams\n",
        "  rcParams['figure.figsize'] = (18, 8)\n",
        "  rcParams['axes.spines.top'] = False\n",
        "  rcParams['axes.spines.right'] = False\n",
        "  plt.plot(\n",
        "      np.arange(1, num_epochs+1),\n",
        "      history.history['loss'], label='Loss'\n",
        "  )\n",
        "  plt.plot(\n",
        "      np.arange(1, num_epochs+1),\n",
        "      history.history['accuracy'], label='Accuracy'\n",
        "  )\n",
        "  plt.plot(\n",
        "      np.arange(1, num_epochs+1),\n",
        "      history.history['precision'], label='Precision'\n",
        "  )\n",
        "  plt.plot(\n",
        "      np.arange(1, num_epochs+1),\n",
        "      history.history['recall'], label='Recall'\n",
        "  )\n",
        "  plt.title('Evaluation metrics', size=20)\n",
        "  plt.xlabel('Epoch', size=14)\n",
        "  plt.legend();\n",
        "\n",
        "def evaluate_performance(model, X_test_scaled, y_test):\n",
        "  predictions = model.predict(X_test_scaled)\n",
        "  prediction_classes = [\n",
        "      1 if prob > 0.5 else 0 for prob in np.ravel(predictions)\n",
        "  ]\n",
        "  prediction_classes = [\n",
        "      1 if prob > 0.5 else 0 for prob in np.ravel(predictions)\n",
        "  ]\n",
        "  from sklearn.metrics import accuracy_score, precision_score, recall_score\n",
        "\n",
        "  print(f'Accuracy: {accuracy_score(y_test, prediction_classes):.4f}')\n",
        "  print(f'Precision: {precision_score(y_test, prediction_classes):.4f}')\n",
        "  print(f'Recall: {recall_score(y_test, prediction_classes):.4f}')"
      ],
      "metadata": {
        "id": "-wMATkSU1tqs"
      },
      "execution_count": 47,
      "outputs": []
    },
    {
      "cell_type": "code",
      "source": [
        "#choose a random state\n",
        "%load_ext tensorboard\n",
        "checkpoint_dir = \"/MSC_THESIS/MyDrive/School - Ryerson Graduate/MSC_THESIS/logs/fit/\" + datetime.datetime.now().strftime(\"%Y%m%d-%H%M%S\")\n",
        "my_state = 16\n",
        "num_epochs = 1\n",
        "X_train_scaled, X_test_scaled, X_val_scaled, y_train, y_test, y_val = data_prep(my_state)"
      ],
      "metadata": {
        "colab": {
          "base_uri": "https://localhost:8080/"
        },
        "id": "Bu9HX5-yqCfK",
        "outputId": "f1144791-0091-4225-eb75-0a24a2c76fbb"
      },
      "execution_count": 23,
      "outputs": [
        {
          "output_type": "stream",
          "name": "stdout",
          "text": [
            "The tensorboard extension is already loaded. To reload it, use:\n",
            "  %reload_ext tensorboard\n",
            "Number of samples in the training set:  3240141\n",
            "Number of samples in the test set:  1012545\n",
            "Number of samples in the validation set:  810036\n"
          ]
        }
      ]
    },
    {
      "cell_type": "code",
      "source": [
        "model = create_CNN_model(my_state, 19) #model creation and compilation\n",
        "history = train_model(X_val_scaled, y_val, num_epochs) #validation\n",
        "visualize_performance(num_epochs, history)\n",
        "evaluate_performance(model, X_test_scaled, y_test)\n",
        "model.summary()"
      ],
      "metadata": {
        "colab": {
          "base_uri": "https://localhost:8080/",
          "height": 1000
        },
        "id": "WHyo3vSk7kaO",
        "outputId": "847d1122-1f76-42a6-9302-ee0c40c00ba1"
      },
      "execution_count": 18,
      "outputs": [
        {
          "output_type": "stream",
          "name": "stdout",
          "text": [
            "Training the neural network.. \n",
            "25307/25314 [============================>.] - ETA: 0s - loss: 4.5391 - accuracy: 0.7023 - precision: 0.7024 - recall: 1.0000 - binary cross entropy: 4.5391 - binary IoU: 0.3512\n",
            "Epoch 1: saving model to logs/cp.ckpt\n",
            "25314/25314 [==============================] - 183s 7ms/step - loss: 4.5390 - accuracy: 0.7024 - precision: 0.7024 - recall: 1.0000 - binary cross entropy: 4.5390 - binary IoU: 0.3512\n",
            "Model: \"sequential_6\"\n",
            "_________________________________________________________________\n",
            " Layer (type)                Output Shape              Param #   \n",
            "=================================================================\n",
            " relu1Layer (Dense)          (None, 1024)              20480     \n",
            "                                                                 \n",
            " relu2Layer (Dense)          (None, 256)               262400    \n",
            "                                                                 \n",
            " relu3Layer (Dense)          (None, 256)               65792     \n",
            "                                                                 \n",
            " relu4Layer (Dense)          (None, 256)               65792     \n",
            "                                                                 \n",
            " relu5Layer (Dense)          (None, 256)               65792     \n",
            "                                                                 \n",
            " relu6Layer (Dense)          (None, 256)               65792     \n",
            "                                                                 \n",
            " relu7Layer (Dense)          (None, 256)               65792     \n",
            "                                                                 \n",
            " relu8Layer (Dense)          (None, 256)               65792     \n",
            "                                                                 \n",
            " relu9Layer (Dense)          (None, 256)               65792     \n",
            "                                                                 \n",
            " relu10Layer (Dense)         (None, 256)               65792     \n",
            "                                                                 \n",
            " sigmoidLayer (Dense)        (None, 1)                 257       \n",
            "                                                                 \n",
            "=================================================================\n",
            "Total params: 809,473\n",
            "Trainable params: 809,473\n",
            "Non-trainable params: 0\n",
            "_________________________________________________________________\n",
            "31643/31643 [==============================] - 49s 2ms/step\n",
            "Accuracy: 0.7032\n",
            "Precision: 0.7032\n",
            "Recall: 1.0000\n",
            "Model: \"sequential_6\"\n",
            "_________________________________________________________________\n",
            " Layer (type)                Output Shape              Param #   \n",
            "=================================================================\n",
            " relu1Layer (Dense)          (None, 1024)              20480     \n",
            "                                                                 \n",
            " relu2Layer (Dense)          (None, 256)               262400    \n",
            "                                                                 \n",
            " relu3Layer (Dense)          (None, 256)               65792     \n",
            "                                                                 \n",
            " relu4Layer (Dense)          (None, 256)               65792     \n",
            "                                                                 \n",
            " relu5Layer (Dense)          (None, 256)               65792     \n",
            "                                                                 \n",
            " relu6Layer (Dense)          (None, 256)               65792     \n",
            "                                                                 \n",
            " relu7Layer (Dense)          (None, 256)               65792     \n",
            "                                                                 \n",
            " relu8Layer (Dense)          (None, 256)               65792     \n",
            "                                                                 \n",
            " relu9Layer (Dense)          (None, 256)               65792     \n",
            "                                                                 \n",
            " relu10Layer (Dense)         (None, 256)               65792     \n",
            "                                                                 \n",
            " sigmoidLayer (Dense)        (None, 1)                 257       \n",
            "                                                                 \n",
            "=================================================================\n",
            "Total params: 809,473\n",
            "Trainable params: 809,473\n",
            "Non-trainable params: 0\n",
            "_________________________________________________________________\n"
          ]
        },
        {
          "output_type": "display_data",
          "data": {
            "text/plain": [
              "<Figure size 1800x800 with 1 Axes>"
            ],
            "image/png": "[encoded data removed]"
          },
          "metadata": {}
        }
      ]
    },
    {
      "cell_type": "code",
      "source": [
        "my_state = 18\n",
        "num_epochs = 10\n",
        "# Create a callback that saves the model's weights\n",
        "checkpoint_path = \"/MSC_THESIS/MyDrive/School - Ryerson Graduate/MSC_THESIS/logs/23Jul09/cp-{epoch:04d}.ckpt\"\n",
        "checkpoint_dir = os.path.dirname(checkpoint_path)\n",
        "cp_callback = tf.keras.callbacks.ModelCheckpoint(filepath=checkpoint_path,\n",
        "                                                 save_weights_only=True,\n",
        "                                                 verbose=1)\n",
        "model = create_LSTM_model(my_state, 19) #model creation and compilation\n",
        "model.save_weights(checkpoint_path.format(epoch=0))\n",
        "print(model)"
      ],
      "metadata": {
        "colab": {
          "base_uri": "https://localhost:8080/"
        },
        "id": "t9fXSWTrzcjR",
        "outputId": "6b46b834-fba0-47a7-b24e-89d942db4165"
      },
      "execution_count": 42,
      "outputs": [
        {
          "output_type": "stream",
          "name": "stdout",
          "text": [
            "<keras.engine.sequential.Sequential object at 0x7f68ec58c880>\n"
          ]
        }
      ]
    },
    {
      "cell_type": "code",
      "source": [
        "history = train_model(X_train_scaled, y_train, num_epochs)\n",
        "visualize_performance(num_epochs, history)\n",
        "evaluate_performance(model, X_test_scaled, y_test)\n",
        "os.listdir(checkpoint_dir)\n"
      ],
      "metadata": {
        "colab": {
          "base_uri": "https://localhost:8080/",
          "height": 1000
        },
        "id": "myTr0DMS-Qqh",
        "outputId": "240bd151-fdf1-4a55-9df1-4e365641505c"
      },
      "execution_count": 43,
      "outputs": [
        {
          "output_type": "stream",
          "name": "stdout",
          "text": [
            "Training the neural network.. \n",
            "Epoch 1/10\n",
            "101253/101255 [============================>.] - ETA: 0s - loss: 0.0578 - accuracy: 0.9791 - precision: 0.9859 - recall: 0.9844 - binary cross entropy: 0.0578 - binary IoU: 0.9515\n",
            "Epoch 1: saving model to /MSC_THESIS/MyDrive/School - Ryerson Graduate/MSC_THESIS/logs/23Jul09/cp-0001.ckpt\n",
            "101255/101255 [==============================] - 652s 6ms/step - loss: 0.0578 - accuracy: 0.9791 - precision: 0.9859 - recall: 0.9844 - binary cross entropy: 0.0578 - binary IoU: 0.9515\n",
            "Epoch 2/10\n",
            "101252/101255 [============================>.] - ETA: 0s - loss: 0.1212 - accuracy: 0.9519 - precision: 0.9683 - recall: 0.9630 - binary cross entropy: 0.1212 - binary IoU: 0.8924\n",
            "Epoch 2: saving model to /MSC_THESIS/MyDrive/School - Ryerson Graduate/MSC_THESIS/logs/23Jul09/cp-0002.ckpt\n",
            "101255/101255 [==============================] - 635s 6ms/step - loss: 0.1213 - accuracy: 0.9519 - precision: 0.9683 - recall: 0.9630 - binary cross entropy: 0.1213 - binary IoU: 0.8924\n",
            "Epoch 3/10\n",
            "101252/101255 [============================>.] - ETA: 0s - loss: 0.5973 - accuracy: 0.7069 - precision: 0.7131 - recall: 0.9753 - binary cross entropy: 0.5973 - binary IoU: 0.3844\n",
            "Epoch 3: saving model to /MSC_THESIS/MyDrive/School - Ryerson Graduate/MSC_THESIS/logs/23Jul09/cp-0003.ckpt\n",
            "101255/101255 [==============================] - 634s 6ms/step - loss: 0.5973 - accuracy: 0.7069 - precision: 0.7131 - recall: 0.9753 - binary cross entropy: 0.5973 - binary IoU: 0.3844\n",
            "Epoch 4/10\n",
            "101249/101255 [============================>.] - ETA: 0s - loss: 0.6087 - accuracy: 0.7027 - precision: 0.7027 - recall: 1.0000 - binary cross entropy: 0.6087 - binary IoU: 0.3513\n",
            "Epoch 4: saving model to /MSC_THESIS/MyDrive/School - Ryerson Graduate/MSC_THESIS/logs/23Jul09/cp-0004.ckpt\n",
            "101255/101255 [==============================] - 641s 6ms/step - loss: 0.6087 - accuracy: 0.7027 - precision: 0.7027 - recall: 1.0000 - binary cross entropy: 0.6087 - binary IoU: 0.3513\n",
            "Epoch 5/10\n",
            "101251/101255 [============================>.] - ETA: 0s - loss: 0.6087 - accuracy: 0.7027 - precision: 0.7027 - recall: 1.0000 - binary cross entropy: 0.6087 - binary IoU: 0.3513\n",
            "Epoch 5: saving model to /MSC_THESIS/MyDrive/School - Ryerson Graduate/MSC_THESIS/logs/23Jul09/cp-0005.ckpt\n",
            "101255/101255 [==============================] - 644s 6ms/step - loss: 0.6087 - accuracy: 0.7027 - precision: 0.7027 - recall: 1.0000 - binary cross entropy: 0.6087 - binary IoU: 0.3513\n",
            "Epoch 6/10\n",
            "101255/101255 [==============================] - ETA: 0s - loss: 0.6087 - accuracy: 0.7027 - precision: 0.7027 - recall: 1.0000 - binary cross entropy: 0.6087 - binary IoU: 0.3513\n",
            "Epoch 6: saving model to /MSC_THESIS/MyDrive/School - Ryerson Graduate/MSC_THESIS/logs/23Jul09/cp-0006.ckpt\n",
            "101255/101255 [==============================] - 640s 6ms/step - loss: 0.6087 - accuracy: 0.7027 - precision: 0.7027 - recall: 1.0000 - binary cross entropy: 0.6087 - binary IoU: 0.3513\n",
            "Epoch 7/10\n",
            "101255/101255 [==============================] - ETA: 0s - loss: 0.6087 - accuracy: 0.7027 - precision: 0.7027 - recall: 1.0000 - binary cross entropy: 0.6087 - binary IoU: 0.3513\n",
            "Epoch 7: saving model to /MSC_THESIS/MyDrive/School - Ryerson Graduate/MSC_THESIS/logs/23Jul09/cp-0007.ckpt\n",
            "101255/101255 [==============================] - 645s 6ms/step - loss: 0.6087 - accuracy: 0.7027 - precision: 0.7027 - recall: 1.0000 - binary cross entropy: 0.6087 - binary IoU: 0.3513\n",
            "Epoch 8/10\n",
            "101253/101255 [============================>.] - ETA: 0s - loss: 0.6087 - accuracy: 0.7027 - precision: 0.7027 - recall: 1.0000 - binary cross entropy: 0.6087 - binary IoU: 0.3513\n",
            "Epoch 8: saving model to /MSC_THESIS/MyDrive/School - Ryerson Graduate/MSC_THESIS/logs/23Jul09/cp-0008.ckpt\n",
            "101255/101255 [==============================] - 640s 6ms/step - loss: 0.6087 - accuracy: 0.7027 - precision: 0.7027 - recall: 1.0000 - binary cross entropy: 0.6087 - binary IoU: 0.3513\n",
            "Epoch 9/10\n",
            "101250/101255 [============================>.] - ETA: 0s - loss: 0.6087 - accuracy: 0.7027 - precision: 0.7027 - recall: 1.0000 - binary cross entropy: 0.6087 - binary IoU: 0.3513\n",
            "Epoch 9: saving model to /MSC_THESIS/MyDrive/School - Ryerson Graduate/MSC_THESIS/logs/23Jul09/cp-0009.ckpt\n",
            "101255/101255 [==============================] - 640s 6ms/step - loss: 0.6087 - accuracy: 0.7027 - precision: 0.7027 - recall: 1.0000 - binary cross entropy: 0.6087 - binary IoU: 0.3513\n",
            "Epoch 10/10\n",
            "101250/101255 [============================>.] - ETA: 0s - loss: 0.6087 - accuracy: 0.7027 - precision: 0.7027 - recall: 1.0000 - binary cross entropy: 0.6087 - binary IoU: 0.3513\n",
            "Epoch 10: saving model to /MSC_THESIS/MyDrive/School - Ryerson Graduate/MSC_THESIS/logs/23Jul09/cp-0010.ckpt\n",
            "101255/101255 [==============================] - 645s 6ms/step - loss: 0.6087 - accuracy: 0.7027 - precision: 0.7027 - recall: 1.0000 - binary cross entropy: 0.6087 - binary IoU: 0.3513\n",
            "Model: \"sequential_18\"\n",
            "_________________________________________________________________\n",
            " Layer (type)                Output Shape              Param #   \n",
            "=================================================================\n",
            " lstm_12 (LSTM)              (None, 256)               264192    \n",
            "                                                                 \n",
            " relu1Layer (Dense)          (None, 128)               32896     \n",
            "                                                                 \n",
            " relu2Layer (Dense)          (None, 256)               33024     \n",
            "                                                                 \n",
            " relu3Layer (Dense)          (None, 256)               65792     \n",
            "                                                                 \n",
            " sigmoidLayer (Dense)        (None, 1)                 257       \n",
            "                                                                 \n",
            "=================================================================\n",
            "Total params: 396,161\n",
            "Trainable params: 396,161\n",
            "Non-trainable params: 0\n",
            "_________________________________________________________________\n",
            "31643/31643 [==============================] - 62s 2ms/step\n",
            "Accuracy: 0.7028\n",
            "Precision: 0.7028\n",
            "Recall: 1.0000\n"
          ]
        },
        {
          "output_type": "execute_result",
          "data": {
            "text/plain": [
              "['cp-0000.ckpt.data-00000-of-00001',\n",
              " 'cp-0000.ckpt.index',\n",
              " 'checkpoint',\n",
              " 'cp-0001.ckpt.data-00000-of-00001',\n",
              " 'cp-0001.ckpt.index',\n",
              " 'cp-0002.ckpt.data-00000-of-00001',\n",
              " 'cp-0002.ckpt.index',\n",
              " 'cp-0003.ckpt.data-00000-of-00001',\n",
              " 'cp-0003.ckpt.index',\n",
              " 'cp-0004.ckpt.data-00000-of-00001',\n",
              " 'cp-0004.ckpt.index',\n",
              " 'cp-0005.ckpt.data-00000-of-00001',\n",
              " 'cp-0005.ckpt.index',\n",
              " 'cp-0006.ckpt.data-00000-of-00001',\n",
              " 'cp-0006.ckpt.index',\n",
              " 'cp-0007.ckpt.data-00000-of-00001',\n",
              " 'cp-0007.ckpt.index',\n",
              " 'cp-0008.ckpt.data-00000-of-00001',\n",
              " 'cp-0008.ckpt.index',\n",
              " 'cp-0009.ckpt.data-00000-of-00001',\n",
              " 'cp-0009.ckpt.index',\n",
              " 'cp-0010.ckpt.data-00000-of-00001',\n",
              " 'cp-0010.ckpt.index']"
            ]
          },
          "metadata": {},
          "execution_count": 43
        },
        {
          "output_type": "display_data",
          "data": {
            "text/plain": [
              "<Figure size 1800x800 with 1 Axes>"
            ],
            "image/png": "[encoded data removed]"
          },
          "metadata": {}
        }
      ]
    },
    {
      "cell_type": "code",
      "source": [
        "latest = tf.train.latest_checkpoint(checkpoint_dir)\n",
        "latest"
      ],
      "metadata": {
        "colab": {
          "base_uri": "https://localhost:8080/",
          "height": 35
        },
        "id": "uLNMNq1nP2Sn",
        "outputId": "64580a55-7165-41e5-9038-d8b5aa61fd77"
      },
      "execution_count": 44,
      "outputs": [
        {
          "output_type": "execute_result",
          "data": {
            "text/plain": [
              "'/MSC_THESIS/MyDrive/School - Ryerson Graduate/MSC_THESIS/logs/23Jul09/cp-0010.ckpt'"
            ],
            "application/vnd.google.colaboratory.intrinsic+json": {
              "type": "string"
            }
          },
          "metadata": {},
          "execution_count": 44
        }
      ]
    },
    {
      "cell_type": "code",
      "source": [
        "y_pred= model.predict(X_test_scaled)\n"
      ],
      "metadata": {
        "colab": {
          "base_uri": "https://localhost:8080/"
        },
        "id": "n4YRgW34LGhD",
        "outputId": "bc0fc47b-0f96-4049-ea56-f4184a6a4bc2"
      },
      "execution_count": 45,
      "outputs": [
        {
          "output_type": "stream",
          "name": "stdout",
          "text": [
            "31643/31643 [==============================] - 63s 2ms/step\n"
          ]
        }
      ]
    },
    {
      "cell_type": "code",
      "source": [
        "import seaborn as sns\n",
        "confusion_mtx = tf.math.confusion_matrix(\n",
        "    y_test,\n",
        "    y_pred,\n",
        "    num_classes=2,\n",
        "    weights=None,\n",
        "    dtype=tf.dtypes.int32,\n",
        "    name=None\n",
        ")\n",
        "plt.figure(figsize=(10, 8))\n",
        "sns.heatmap(confusion_mtx, \\\n",
        "            annot=True, fmt='g')\n",
        "plt.xlabel('Prediction')\n",
        "plt.ylabel('Label')\n",
        "plt.show()"
      ],
      "metadata": {
        "colab": {
          "base_uri": "https://localhost:8080/",
          "height": 696
        },
        "id": "9AZz4oa5Mswr",
        "outputId": "129e2112-fe44-4b36-aa44-5de1065a412a"
      },
      "execution_count": 46,
      "outputs": [
        {
          "output_type": "display_data",
          "data": {
            "text/plain": [
              "<Figure size 1000x800 with 2 Axes>"
            ],
            "image/png": "[encoded data removed]"
          },
          "metadata": {}
        }
      ]
    },
    {
      "cell_type": "code",
      "source": [
        "my_state = 19\n",
        "num_epochs = 10\n",
        "# Create a callback that saves the model's weights\n",
        "checkpoint_path = \"/MSC_THESIS/MyDrive/School - Ryerson Graduate/MSC_THESIS/logs/23Jul09_Regularized_LSTM/cp-{epoch:04d}.ckpt\"\n",
        "checkpoint_dir = os.path.dirname(checkpoint_path)\n",
        "cp_callback = tf.keras.callbacks.ModelCheckpoint(filepath=checkpoint_path,\n",
        "                                                 save_weights_only=True,\n",
        "                                                 verbose=1)\n",
        "model = create_LSTM_model(my_state, 19) #model creation and compilation\n",
        "model.save_weights(checkpoint_path.format(epoch=0))\n",
        "print(model)"
      ],
      "metadata": {
        "id": "V5m83BWqpyYK"
      },
      "execution_count": null,
      "outputs": []
    },
    {
      "cell_type": "code",
      "source": [
        "model = create_regularized_LSTM_model(my_state, 1e-5, 0.3, 19) #model creation and compilation\n",
        "#model = create_CNN_model(my_state, 4) #model creation and compilation\n",
        "#history = train_model(X_train_scaled, y_train, num_epochs) #training\n",
        "history = train_model(X_val_scaled, y_val, num_epochs) #regularize on validation set\n",
        "visualize_performance(num_epochs, history)\n",
        "evaluate_performance(model, X_test_scaled, y_test)"
      ],
      "metadata": {
        "id": "G2jZUTyYxNPM",
        "colab": {
          "base_uri": "https://localhost:8080/",
          "height": 389
        },
        "outputId": "d09e7c5c-00be-41fb-e3bd-299180b936bc"
      },
      "execution_count": 11,
      "outputs": [
        {
          "output_type": "error",
          "ename": "ValueError",
          "evalue": "ignored",
          "traceback": [
            "\u001b[0;31m---------------------------------------------------------------------------\u001b[0m",
            "\u001b[0;31mValueError\u001b[0m                                Traceback (most recent call last)",
            "\u001b[0;32m<ipython-input-11-be956a5c05cb>\u001b[0m in \u001b[0;36m<cell line: 1>\u001b[0;34m()\u001b[0m\n\u001b[0;32m----> 1\u001b[0;31m \u001b[0mmodel\u001b[0m \u001b[0;34m=\u001b[0m \u001b[0mcreate_regularized_LSTM_model\u001b[0m\u001b[0;34m(\u001b[0m\u001b[0mmy_state\u001b[0m\u001b[0;34m,\u001b[0m \u001b[0;36m1e-5\u001b[0m\u001b[0;34m,\u001b[0m \u001b[0;36m0.3\u001b[0m\u001b[0;34m,\u001b[0m \u001b[0;36m19\u001b[0m\u001b[0;34m)\u001b[0m \u001b[0;31m#model creation and compilation\u001b[0m\u001b[0;34m\u001b[0m\u001b[0;34m\u001b[0m\u001b[0m\n\u001b[0m\u001b[1;32m      2\u001b[0m \u001b[0;31m#model = create_CNN_model(my_state, 4) #model creation and compilation\u001b[0m\u001b[0;34m\u001b[0m\u001b[0;34m\u001b[0m\u001b[0m\n\u001b[1;32m      3\u001b[0m \u001b[0;31m#history = train_model(X_train_scaled, y_train, num_epochs) #training\u001b[0m\u001b[0;34m\u001b[0m\u001b[0;34m\u001b[0m\u001b[0m\n\u001b[1;32m      4\u001b[0m \u001b[0mhistory\u001b[0m \u001b[0;34m=\u001b[0m \u001b[0mtrain_model\u001b[0m\u001b[0;34m(\u001b[0m\u001b[0mX_val_scaled\u001b[0m\u001b[0;34m,\u001b[0m \u001b[0my_val\u001b[0m\u001b[0;34m,\u001b[0m \u001b[0mnum_epochs\u001b[0m\u001b[0;34m)\u001b[0m \u001b[0;31m#validation\u001b[0m\u001b[0;34m\u001b[0m\u001b[0;34m\u001b[0m\u001b[0m\n\u001b[1;32m      5\u001b[0m \u001b[0mvisualize_performance\u001b[0m\u001b[0;34m(\u001b[0m\u001b[0mnum_epochs\u001b[0m\u001b[0;34m,\u001b[0m \u001b[0mhistory\u001b[0m\u001b[0;34m)\u001b[0m\u001b[0;34m\u001b[0m\u001b[0;34m\u001b[0m\u001b[0m\n",
            "\u001b[0;32m<ipython-input-8-631dfe9b31d1>\u001b[0m in \u001b[0;36mcreate_regularized_LSTM_model\u001b[0;34m(my_state, factor, rate, num_feat)\u001b[0m\n\u001b[1;32m     44\u001b[0m \u001b[0;32mdef\u001b[0m \u001b[0mcreate_regularized_LSTM_model\u001b[0m\u001b[0;34m(\u001b[0m\u001b[0mmy_state\u001b[0m\u001b[0;34m,\u001b[0m \u001b[0mfactor\u001b[0m\u001b[0;34m,\u001b[0m \u001b[0mrate\u001b[0m\u001b[0;34m,\u001b[0m \u001b[0mnum_feat\u001b[0m\u001b[0;34m)\u001b[0m\u001b[0;34m:\u001b[0m\u001b[0;34m\u001b[0m\u001b[0;34m\u001b[0m\u001b[0m\n\u001b[1;32m     45\u001b[0m   \u001b[0mtf\u001b[0m\u001b[0;34m.\u001b[0m\u001b[0mrandom\u001b[0m\u001b[0;34m.\u001b[0m\u001b[0mset_seed\u001b[0m\u001b[0;34m(\u001b[0m\u001b[0mmy_state\u001b[0m\u001b[0;34m)\u001b[0m\u001b[0;34m\u001b[0m\u001b[0;34m\u001b[0m\u001b[0m\n\u001b[0;32m---> 46\u001b[0;31m   model = tf.keras.Sequential([\n\u001b[0m\u001b[1;32m     47\u001b[0m       \u001b[0;31m#Dropout(rate),\u001b[0m\u001b[0;34m\u001b[0m\u001b[0;34m\u001b[0m\u001b[0m\n\u001b[1;32m     48\u001b[0m       \u001b[0mtf\u001b[0m\u001b[0;34m.\u001b[0m\u001b[0mkeras\u001b[0m\u001b[0;34m.\u001b[0m\u001b[0mlayers\u001b[0m\u001b[0;34m.\u001b[0m\u001b[0mLSTM\u001b[0m\u001b[0;34m(\u001b[0m\u001b[0;36m256\u001b[0m\u001b[0;34m,\u001b[0m \u001b[0mkernel_regularizer\u001b[0m\u001b[0;34m=\u001b[0m\u001b[0ml2\u001b[0m\u001b[0;34m(\u001b[0m\u001b[0mfactor\u001b[0m\u001b[0;34m)\u001b[0m\u001b[0;34m,\u001b[0m \u001b[0minput_shape\u001b[0m\u001b[0;34m=\u001b[0m\u001b[0;34m(\u001b[0m\u001b[0mnum_feat\u001b[0m\u001b[0;34m,\u001b[0m \u001b[0;36m1\u001b[0m\u001b[0;34m)\u001b[0m\u001b[0;34m)\u001b[0m\u001b[0;34m,\u001b[0m\u001b[0;34m\u001b[0m\u001b[0;34m\u001b[0m\u001b[0m\n",
            "\u001b[0;32m/usr/local/lib/python3.10/dist-packages/tensorflow/python/trackable/base.py\u001b[0m in \u001b[0;36m_method_wrapper\u001b[0;34m(self, *args, **kwargs)\u001b[0m\n\u001b[1;32m    203\u001b[0m     \u001b[0mself\u001b[0m\u001b[0;34m.\u001b[0m\u001b[0m_self_setattr_tracking\u001b[0m \u001b[0;34m=\u001b[0m \u001b[0;32mFalse\u001b[0m  \u001b[0;31m# pylint: disable=protected-access\u001b[0m\u001b[0;34m\u001b[0m\u001b[0;34m\u001b[0m\u001b[0m\n\u001b[1;32m    204\u001b[0m     \u001b[0;32mtry\u001b[0m\u001b[0;34m:\u001b[0m\u001b[0;34m\u001b[0m\u001b[0;34m\u001b[0m\u001b[0m\n\u001b[0;32m--> 205\u001b[0;31m       \u001b[0mresult\u001b[0m \u001b[0;34m=\u001b[0m \u001b[0mmethod\u001b[0m\u001b[0;34m(\u001b[0m\u001b[0mself\u001b[0m\u001b[0;34m,\u001b[0m \u001b[0;34m*\u001b[0m\u001b[0margs\u001b[0m\u001b[0;34m,\u001b[0m \u001b[0;34m**\u001b[0m\u001b[0mkwargs\u001b[0m\u001b[0;34m)\u001b[0m\u001b[0;34m\u001b[0m\u001b[0;34m\u001b[0m\u001b[0m\n\u001b[0m\u001b[1;32m    206\u001b[0m     \u001b[0;32mfinally\u001b[0m\u001b[0;34m:\u001b[0m\u001b[0;34m\u001b[0m\u001b[0;34m\u001b[0m\u001b[0m\n\u001b[1;32m    207\u001b[0m       \u001b[0mself\u001b[0m\u001b[0;34m.\u001b[0m\u001b[0m_self_setattr_tracking\u001b[0m \u001b[0;34m=\u001b[0m \u001b[0mprevious_value\u001b[0m  \u001b[0;31m# pylint: disable=protected-access\u001b[0m\u001b[0;34m\u001b[0m\u001b[0;34m\u001b[0m\u001b[0m\n",
            "\u001b[0;32m/usr/local/lib/python3.10/dist-packages/keras/utils/traceback_utils.py\u001b[0m in \u001b[0;36merror_handler\u001b[0;34m(*args, **kwargs)\u001b[0m\n\u001b[1;32m     68\u001b[0m             \u001b[0;31m# To get the full stack trace, call:\u001b[0m\u001b[0;34m\u001b[0m\u001b[0;34m\u001b[0m\u001b[0m\n\u001b[1;32m     69\u001b[0m             \u001b[0;31m# `tf.debugging.disable_traceback_filtering()`\u001b[0m\u001b[0;34m\u001b[0m\u001b[0;34m\u001b[0m\u001b[0m\n\u001b[0;32m---> 70\u001b[0;31m             \u001b[0;32mraise\u001b[0m \u001b[0me\u001b[0m\u001b[0;34m.\u001b[0m\u001b[0mwith_traceback\u001b[0m\u001b[0;34m(\u001b[0m\u001b[0mfiltered_tb\u001b[0m\u001b[0;34m)\u001b[0m \u001b[0;32mfrom\u001b[0m \u001b[0;32mNone\u001b[0m\u001b[0;34m\u001b[0m\u001b[0;34m\u001b[0m\u001b[0m\n\u001b[0m\u001b[1;32m     71\u001b[0m         \u001b[0;32mfinally\u001b[0m\u001b[0;34m:\u001b[0m\u001b[0;34m\u001b[0m\u001b[0;34m\u001b[0m\u001b[0m\n\u001b[1;32m     72\u001b[0m             \u001b[0;32mdel\u001b[0m \u001b[0mfiltered_tb\u001b[0m\u001b[0;34m\u001b[0m\u001b[0;34m\u001b[0m\u001b[0m\n",
            "\u001b[0;32m/usr/local/lib/python3.10/dist-packages/keras/engine/input_spec.py\u001b[0m in \u001b[0;36massert_input_compatibility\u001b[0;34m(input_spec, inputs, layer_name)\u001b[0m\n\u001b[1;32m    233\u001b[0m             \u001b[0mndim\u001b[0m \u001b[0;34m=\u001b[0m \u001b[0mshape\u001b[0m\u001b[0;34m.\u001b[0m\u001b[0mrank\u001b[0m\u001b[0;34m\u001b[0m\u001b[0;34m\u001b[0m\u001b[0m\n\u001b[1;32m    234\u001b[0m             \u001b[0;32mif\u001b[0m \u001b[0mndim\u001b[0m \u001b[0;34m!=\u001b[0m \u001b[0mspec\u001b[0m\u001b[0;34m.\u001b[0m\u001b[0mndim\u001b[0m\u001b[0;34m:\u001b[0m\u001b[0;34m\u001b[0m\u001b[0;34m\u001b[0m\u001b[0m\n\u001b[0;32m--> 235\u001b[0;31m                 raise ValueError(\n\u001b[0m\u001b[1;32m    236\u001b[0m                     \u001b[0;34mf'Input {input_index} of layer \"{layer_name}\" '\u001b[0m\u001b[0;34m\u001b[0m\u001b[0;34m\u001b[0m\u001b[0m\n\u001b[1;32m    237\u001b[0m                     \u001b[0;34m\"is incompatible with the layer: \"\u001b[0m\u001b[0;34m\u001b[0m\u001b[0;34m\u001b[0m\u001b[0m\n",
            "\u001b[0;31mValueError\u001b[0m: Input 0 of layer \"lstm_3\" is incompatible with the layer: expected ndim=3, found ndim=2. Full shape received: (None, 256)"
          ]
        }
      ]
    }
  ]
}