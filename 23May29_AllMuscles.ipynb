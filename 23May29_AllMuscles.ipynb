{
  "nbformat": 4,
  "nbformat_minor": 0,
  "metadata": {
    "colab": {
      "provenance": [],
      "machine_shape": "hm",
      "gpuType": "T4",
      "authorship_tag": "ABX9TyOBBSmn5IRQVqajt8H/O/AP",
      "include_colab_link": true
    },
    "kernelspec": {
      "name": "python3",
      "display_name": "Python 3"
    },
    "language_info": {
      "name": "python"
    },
    "accelerator": "GPU",
    "gpuClass": "standard"
  },
  "cells": [
    {
      "cell_type": "markdown",
      "metadata": {
        "id": "view-in-github",
        "colab_type": "text"
      },
      "source": [
        "<a href=\"https://colab.research.google.com/github/megsdata/sEMG_SupervisedLearning/blob/main/23May29_AllMuscles.ipynb\" target=\"_parent\"><img src=\"https://colab.research.google.com/assets/colab-badge.svg\" alt=\"Open In Colab\"/></a>"
      ]
    },
    {
      "cell_type": "code",
      "execution_count": 1,
      "metadata": {
        "id": "blOYjYQr6ZDj"
      },
      "outputs": [],
      "source": [
        "import pandas as pd\n",
        "import numpy as np\n",
        "import pathlib\n",
        "import os\n",
        "import datetime\n",
        "import matplotlib.pyplot as plt\n",
        "import tensorflow as tf \n",
        "from tensorflow import keras\n",
        "from tensorflow.keras import layers\n",
        "np.set_printoptions(precision=4)\n",
        "print(tf.version.VERSION)"
      ]
    },
    {
      "cell_type": "code",
      "source": [
        "pip install pyyaml h5py  # Required to save models in HDF5 format"
      ],
      "metadata": {
        "colab": {
          "base_uri": "https://localhost:8080/"
        },
        "id": "8gHFDsUikIgV",
        "outputId": "37d48c55-6667-4e9f-bf57-cceeaac4953c"
      },
      "execution_count": 9,
      "outputs": [
        {
          "output_type": "stream",
          "name": "stdout",
          "text": [
            "Looking in indexes: https://pypi.org/simple, https://us-python.pkg.dev/colab-wheels/public/simple/\n",
            "Requirement already satisfied: pyyaml in /usr/local/lib/python3.10/dist-packages (6.0)\n",
            "Requirement already satisfied: h5py in /usr/local/lib/python3.10/dist-packages (3.8.0)\n",
            "Requirement already satisfied: numpy>=1.14.5 in /usr/local/lib/python3.10/dist-packages (from h5py) (1.22.4)\n"
          ]
        }
      ]
    },
    {
      "cell_type": "code",
      "source": [
        "from google.colab import drive\n",
        "drive.mount('/MSC_THESIS/')\n",
        "%cd /MSC_THESIS/MyDrive/School - Ryerson Graduate/MSC_THESIS/23May24_All_Data\n",
        "import pathlib\n",
        "all_files =  sorted(str(p) for p in pathlib.Path('/MSC_THESIS/MyDrive/School - Ryerson Graduate/MSC_THESIS/23May28_Training_Data/').glob(\"*.csv\"))"
      ],
      "metadata": {
        "id": "7f56ggMv615g",
        "colab": {
          "base_uri": "https://localhost:8080/"
        },
        "outputId": "ba4064c6-05d6-443e-b018-dac20518d218"
      },
      "execution_count": 2,
      "outputs": [
        {
          "output_type": "stream",
          "name": "stdout",
          "text": [
            "Mounted at /MSC_THESIS/\n",
            "/MSC_THESIS/MyDrive/School - Ryerson Graduate/MSC_THESIS/23May24_All_Data\n"
          ]
        }
      ]
    },
    {
      "cell_type": "code",
      "source": [
        "#model\n",
        "tf.random.set_seed(44)\n",
        "single_feature_normalizer = tf.keras.layers.Normalization(input_shape=[1,], axis=None)\n",
        "model = tf.keras.Sequential([\n",
        "    tf.keras.layers.Flatten(),\n",
        "    tf.keras.layers.Dense(128, activation='relu'),\n",
        "    tf.keras.layers.Dense(256, activation='relu'),\n",
        "    tf.keras.layers.Dense(256, activation='relu'),\n",
        "    tf.keras.layers.Dense(1, activation='sigmoid')\n",
        "])\n",
        "\n",
        "model.compile(\n",
        "    loss=tf.keras.losses.binary_crossentropy,\n",
        "    optimizer=tf.keras.optimizers.Adam(learning_rate=0.03),\n",
        "    metrics=[\n",
        "        tf.keras.metrics.BinaryAccuracy(name='accuracy'),\n",
        "        tf.keras.metrics.Precision(name='precision'),\n",
        "        tf.keras.metrics.Recall(name='recall')\n",
        "    ]\n",
        ")"
      ],
      "metadata": {
        "id": "C3oLgUKN5O-G"
      },
      "execution_count": null,
      "outputs": []
    },
    {
      "cell_type": "code",
      "source": [
        "my_batches = tf.data.experimental.make_csv_dataset(\n",
        "\t#file_pattern=\"/MSC_THESIS/MyDrive/School - Ryerson Graduate/MSC_THESIS/23May24_All_Data/*.csv\",\n",
        "  all_files[0],\n",
        "  #batch_size=500000, num_epochs=1,\n",
        "  batch_size=10, num_epochs=1,\n",
        "  select_columns=[\"EMG(mv)\", \"Pain Label\"],\n",
        "\tnum_parallel_reads=20,\n",
        "\t#shuffle_buffer_size=500000, label_name=\"Pain Label\")\n",
        "  shuffle_buffer_size=10000, label_name=\"Pain Label\")\n",
        "\n",
        "for feature_batch, label_batch in my_batches.take(5):\n",
        "  dataset = tf.data.Dataset.from_tensor_slices((feature_batch, label_batch))\n",
        "  training_batches = dataset.shuffle(len(label_batch)).batch(32).repeat().cache().prefetch(5)#shuffle the data\n",
        "  ids, label_no = list(next(iter(training_batches)))\n",
        "  myarray = np.asarray(list(ids.values()))\n",
        "  history = model.fit(all_files[0], label_no, epochs=10)\n",
        "history.history"
      ],
      "metadata": {
        "id": "ea_glpDMBqlT"
      },
      "execution_count": null,
      "outputs": []
    },
    {
      "cell_type": "code",
      "source": [
        "dataset2 = tf.data.Dataset.list_files(\"/MSC_THESIS/MyDrive/School - Ryerson Graduate/MSC_THESIS/23May28_Training_Data/*.csv\")\n",
        "print(dataset2)\n",
        "training_data = list(dataset.as_numpy_iterator())"
      ],
      "metadata": {
        "colab": {
          "base_uri": "https://localhost:8080/"
        },
        "id": "FQh370AVCjGt",
        "outputId": "b2b42d0c-9075-4f7c-c8cd-f943956286ba"
      },
      "execution_count": null,
      "outputs": [
        {
          "output_type": "stream",
          "name": "stdout",
          "text": [
            "<_ShuffleDataset element_spec=TensorSpec(shape=(), dtype=tf.string, name=None)>\n"
          ]
        }
      ]
    },
    {
      "cell_type": "markdown",
      "source": [
        "Loading the Dataset"
      ],
      "metadata": {
        "id": "hPrV1KRzTCRu"
      }
    },
    {
      "cell_type": "code",
      "source": [
        "#load Rectus femoris ON\n",
        "df = pd.read_csv(\"/MSC_THESIS/MyDrive/School - Ryerson Graduate/MSC_THESIS/23May28_Training_Data/24-May-2023_21_MATRIX.csv\")\n",
        "temp = pd.read_csv(\"/MSC_THESIS/MyDrive/School - Ryerson Graduate/MSC_THESIS/23May28_Training_Data/24-May-2023_31_MATRIX.csv\")\n",
        "df = pd.concat([df, temp], axis=0)\n",
        "print(len(df.index))\n",
        "temp = pd.read_csv(\"/MSC_THESIS/MyDrive/School - Ryerson Graduate/MSC_THESIS/23May28_Training_Data/24-May-2023_41_MATRIX.csv\")\n",
        "df = pd.concat([df, temp], axis=0)\n",
        "print(len(df.index))\n",
        "temp = pd.read_csv(\"/MSC_THESIS/MyDrive/School - Ryerson Graduate/MSC_THESIS/23May28_Training_Data/24-May-2023_51_MATRIX.csv\")\n",
        "df = pd.concat([df, temp], axis=0)\n",
        "print(len(df.index))\n",
        "temp = pd.read_csv(\"/MSC_THESIS/MyDrive/School - Ryerson Graduate/MSC_THESIS/23May28_Training_Data/24-May-2023_61_MATRIX.csv\")\n",
        "df = pd.concat([df, temp], axis=0)\n",
        "print(len(df.index))\n",
        "temp = pd.read_csv(\"/MSC_THESIS/MyDrive/School - Ryerson Graduate/MSC_THESIS/23May28_Training_Data/24-May-2023_71_MATRIX.csv\")\n",
        "df = pd.concat([df, temp], axis=0)\n",
        "print(len(df.index))\n",
        "temp = pd.read_csv(\"/MSC_THESIS/MyDrive/School - Ryerson Graduate/MSC_THESIS/23May28_Training_Data/24-May-2023_81_MATRIX.csv\")\n",
        "df = pd.concat([df, temp], axis=0)\n",
        "print(len(df.index))\n",
        "temp = pd.read_csv(\"/MSC_THESIS/MyDrive/School - Ryerson Graduate/MSC_THESIS/23May28_Training_Data/24-May-2023_101_MATRIX.csv\")\n",
        "df = pd.concat([df, temp], axis=0)\n",
        "print(len(df.index))\n",
        "temp = pd.read_csv(\"/MSC_THESIS/MyDrive/School - Ryerson Graduate/MSC_THESIS/23May28_Training_Data/24-May-2023_121_MATRIX.csv\")\n",
        "df = pd.concat([df, temp], axis=0)\n",
        "print(len(df.index))\n",
        "\n",
        "#load Vastus lateralis ON\n",
        "temp = pd.read_csv(\"/MSC_THESIS/MyDrive/School - Ryerson Graduate/MSC_THESIS/23May28_Training_Data/24-May-2023_12_MATRIX.csv\")\n",
        "df = pd.concat([df, temp], axis=0)\n",
        "print(len(df.index))\n",
        "temp = pd.read_csv(\"/MSC_THESIS/MyDrive/School - Ryerson Graduate/MSC_THESIS/23May28_Training_Data/24-May-2023_22_MATRIX.csv\")\n",
        "df = pd.concat([df, temp], axis=0)\n",
        "print(len(df.index))\n",
        "temp = pd.read_csv(\"/MSC_THESIS/MyDrive/School - Ryerson Graduate/MSC_THESIS/23May28_Training_Data/24-May-2023_32_MATRIX.csv\")\n",
        "df = pd.concat([df, temp], axis=0)\n",
        "print(len(df.index))\n",
        "temp = pd.read_csv(\"/MSC_THESIS/MyDrive/School - Ryerson Graduate/MSC_THESIS/23May28_Training_Data/24-May-2023_42_MATRIX.csv\")\n",
        "df = pd.concat([df, temp], axis=0)\n",
        "print(len(df.index))\n",
        "temp = pd.read_csv(\"/MSC_THESIS/MyDrive/School - Ryerson Graduate/MSC_THESIS/23May28_Training_Data/24-May-2023_52_MATRIX.csv\")\n",
        "df = pd.concat([df, temp], axis=0)\n",
        "print(len(df.index))\n",
        "temp = pd.read_csv(\"/MSC_THESIS/MyDrive/School - Ryerson Graduate/MSC_THESIS/23May28_Training_Data/24-May-2023_62_MATRIX.csv\")\n",
        "df = pd.concat([df, temp], axis=0)\n",
        "print(len(df.index))\n",
        "temp = pd.read_csv(\"/MSC_THESIS/MyDrive/School - Ryerson Graduate/MSC_THESIS/23May28_Training_Data/24-May-2023_72_MATRIX.csv\")\n",
        "df = pd.concat([df, temp], axis=0)\n",
        "print(len(df.index))\n",
        "temp = pd.read_csv(\"/MSC_THESIS/MyDrive/School - Ryerson Graduate/MSC_THESIS/23May28_Training_Data/24-May-2023_82_MATRIX.csv\")\n",
        "df = pd.concat([df, temp], axis=0)\n",
        "print(len(df.index))\n",
        "temp = pd.read_csv(\"/MSC_THESIS/MyDrive/School - Ryerson Graduate/MSC_THESIS/23May28_Training_Data/24-May-2023_102_MATRIX.csv\")\n",
        "df = pd.concat([df, temp], axis=0)\n",
        "print(len(df.index))\n",
        "temp = pd.read_csv(\"/MSC_THESIS/MyDrive/School - Ryerson Graduate/MSC_THESIS/23May28_Training_Data/24-May-2023_122_MATRIX.csv\")\n",
        "df = pd.concat([df, temp], axis=0)\n",
        "print(len(df.index))\n",
        "\n",
        "#Tibialis anterior ON\n",
        "temp = pd.read_csv(\"/MSC_THESIS/MyDrive/School - Ryerson Graduate/MSC_THESIS/23May28_Training_Data/24-May-2023_13_MATRIX.csv\")\n",
        "df = pd.concat([df, temp], axis=0)\n",
        "print(len(df.index))\n",
        "temp = pd.read_csv(\"/MSC_THESIS/MyDrive/School - Ryerson Graduate/MSC_THESIS/23May28_Training_Data/24-May-2023_23_MATRIX.csv\")\n",
        "df = pd.concat([df, temp], axis=0)\n",
        "print(len(df.index))\n",
        "temp = pd.read_csv(\"/MSC_THESIS/MyDrive/School - Ryerson Graduate/MSC_THESIS/23May28_Training_Data/24-May-2023_33_MATRIX.csv\")\n",
        "df = pd.concat([df, temp], axis=0)\n",
        "print(len(df.index))\n",
        "temp = pd.read_csv(\"/MSC_THESIS/MyDrive/School - Ryerson Graduate/MSC_THESIS/23May28_Training_Data/24-May-2023_43_MATRIX.csv\")\n",
        "df = pd.concat([df, temp], axis=0)\n",
        "print(len(df.index))\n",
        "temp = pd.read_csv(\"/MSC_THESIS/MyDrive/School - Ryerson Graduate/MSC_THESIS/23May28_Training_Data/24-May-2023_53_MATRIX.csv\")\n",
        "df = pd.concat([df, temp], axis=0)\n",
        "print(len(df.index))\n",
        "temp = pd.read_csv(\"/MSC_THESIS/MyDrive/School - Ryerson Graduate/MSC_THESIS/23May28_Training_Data/24-May-2023_63_MATRIX.csv\")\n",
        "df = pd.concat([df, temp], axis=0)\n",
        "print(len(df.index))\n",
        "temp = pd.read_csv(\"/MSC_THESIS/MyDrive/School - Ryerson Graduate/MSC_THESIS/23May28_Training_Data/24-May-2023_73_MATRIX.csv\")\n",
        "df = pd.concat([df, temp], axis=0)\n",
        "print(len(df.index))\n",
        "temp = pd.read_csv(\"/MSC_THESIS/MyDrive/School - Ryerson Graduate/MSC_THESIS/23May28_Training_Data/24-May-2023_83_MATRIX.csv\")\n",
        "df = pd.concat([df, temp], axis=0)\n",
        "print(len(df.index))\n",
        "temp = pd.read_csv(\"/MSC_THESIS/MyDrive/School - Ryerson Graduate/MSC_THESIS/23May28_Training_Data/24-May-2023_103_MATRIX.csv\")\n",
        "df = pd.concat([df, temp], axis=0)\n",
        "print(len(df.index))\n",
        "temp = pd.read_csv(\"/MSC_THESIS/MyDrive/School - Ryerson Graduate/MSC_THESIS/23May28_Training_Data/24-May-2023_123_MATRIX.csv\")\n",
        "df = pd.concat([df, temp], axis=0)\n",
        "print(len(df.index))\n",
        "\n",
        "#Rectus femoris OFF\n",
        "temp = pd.read_csv(\"/MSC_THESIS/MyDrive/School - Ryerson Graduate/MSC_THESIS/23May28_Training_Data/24-May-2023_14_MATRIX.csv\")\n",
        "df = pd.concat([df, temp], axis=0)\n",
        "print(len(df.index))\n",
        "temp = pd.read_csv(\"/MSC_THESIS/MyDrive/School - Ryerson Graduate/MSC_THESIS/23May28_Training_Data/24-May-2023_24_MATRIX.csv\")\n",
        "df = pd.concat([df, temp], axis=0)\n",
        "print(len(df.index))\n",
        "temp = pd.read_csv(\"/MSC_THESIS/MyDrive/School - Ryerson Graduate/MSC_THESIS/23May28_Training_Data/24-May-2023_44_MATRIX.csv\")\n",
        "df = pd.concat([df, temp], axis=0)\n",
        "print(len(df.index))\n",
        "temp = pd.read_csv(\"/MSC_THESIS/MyDrive/School - Ryerson Graduate/MSC_THESIS/23May28_Training_Data/24-May-2023_54_MATRIX.csv\")\n",
        "df = pd.concat([df, temp], axis=0)\n",
        "print(len(df.index))\n",
        "temp = pd.read_csv(\"/MSC_THESIS/MyDrive/School - Ryerson Graduate/MSC_THESIS/23May28_Training_Data/24-May-2023_64_MATRIX.csv\")\n",
        "df = pd.concat([df, temp], axis=0)\n",
        "print(len(df.index))\n",
        "temp = pd.read_csv(\"/MSC_THESIS/MyDrive/School - Ryerson Graduate/MSC_THESIS/23May28_Training_Data/24-May-2023_74_MATRIX.csv\")\n",
        "df = pd.concat([df, temp], axis=0)\n",
        "print(len(df.index))\n",
        "temp = pd.read_csv(\"/MSC_THESIS/MyDrive/School - Ryerson Graduate/MSC_THESIS/23May28_Training_Data/24-May-2023_84_MATRIX.csv\")\n",
        "df = pd.concat([df, temp], axis=0)\n",
        "print(len(df.index))\n",
        "temp = pd.read_csv(\"/MSC_THESIS/MyDrive/School - Ryerson Graduate/MSC_THESIS/23May28_Training_Data/24-May-2023_124_MATRIX.csv\")\n",
        "df = pd.concat([df, temp], axis=0)\n",
        "print(len(df.index))\n",
        "\n",
        "\n",
        "#Vastus lateralis OFF\n",
        "temp = pd.read_csv(\"/MSC_THESIS/MyDrive/School - Ryerson Graduate/MSC_THESIS/23May28_Training_Data/24-May-2023_15_MATRIX.csv\")\n",
        "df = pd.concat([df, temp], axis=0)\n",
        "print(len(df.index))\n",
        "temp = pd.read_csv(\"/MSC_THESIS/MyDrive/School - Ryerson Graduate/MSC_THESIS/23May28_Training_Data/24-May-2023_25_MATRIX.csv\")\n",
        "df = pd.concat([df, temp], axis=0)\n",
        "print(len(df.index))\n",
        "temp = pd.read_csv(\"/MSC_THESIS/MyDrive/School - Ryerson Graduate/MSC_THESIS/23May28_Training_Data/24-May-2023_35_MATRIX.csv\")\n",
        "df = pd.concat([df, temp], axis=0)\n",
        "print(len(df.index))\n",
        "temp = pd.read_csv(\"/MSC_THESIS/MyDrive/School - Ryerson Graduate/MSC_THESIS/23May28_Training_Data/24-May-2023_45_MATRIX.csv\")\n",
        "df = pd.concat([df, temp], axis=0)\n",
        "print(len(df.index))\n",
        "temp = pd.read_csv(\"/MSC_THESIS/MyDrive/School - Ryerson Graduate/MSC_THESIS/23May28_Training_Data/24-May-2023_55_MATRIX.csv\")\n",
        "df = pd.concat([df, temp], axis=0)\n",
        "print(len(df.index))\n",
        "temp = pd.read_csv(\"/MSC_THESIS/MyDrive/School - Ryerson Graduate/MSC_THESIS/23May28_Training_Data/24-May-2023_65_MATRIX.csv\")\n",
        "df = pd.concat([df, temp], axis=0)\n",
        "print(len(df.index))\n",
        "temp = pd.read_csv(\"/MSC_THESIS/MyDrive/School - Ryerson Graduate/MSC_THESIS/23May28_Training_Data/24-May-2023_75_MATRIX.csv\")\n",
        "df = pd.concat([df, temp], axis=0)\n",
        "print(len(df.index))\n",
        "temp = pd.read_csv(\"/MSC_THESIS/MyDrive/School - Ryerson Graduate/MSC_THESIS/23May28_Training_Data/24-May-2023_85_MATRIX.csv\")\n",
        "df = pd.concat([df, temp], axis=0)\n",
        "print(len(df.index))\n",
        "temp = pd.read_csv(\"/MSC_THESIS/MyDrive/School - Ryerson Graduate/MSC_THESIS/23May28_Training_Data/24-May-2023_125_MATRIX.csv\")\n",
        "df = pd.concat([df, temp], axis=0)\n",
        "print(len(df.index))\n",
        "\n",
        "#Tibialis anterior OFF\n",
        "temp = pd.read_csv(\"/MSC_THESIS/MyDrive/School - Ryerson Graduate/MSC_THESIS/23May28_Training_Data/24-May-2023_16_MATRIX.csv\")\n",
        "df = pd.concat([df, temp], axis=0)\n",
        "print(len(df.index))\n",
        "temp = pd.read_csv(\"/MSC_THESIS/MyDrive/School - Ryerson Graduate/MSC_THESIS/23May28_Training_Data/24-May-2023_26_MATRIX.csv\")\n",
        "df = pd.concat([df, temp], axis=0)\n",
        "print(len(df.index))\n",
        "temp = pd.read_csv(\"/MSC_THESIS/MyDrive/School - Ryerson Graduate/MSC_THESIS/23May28_Training_Data/24-May-2023_36_MATRIX.csv\")\n",
        "df = pd.concat([df, temp], axis=0)\n",
        "print(len(df.index))\n",
        "temp = pd.read_csv(\"/MSC_THESIS/MyDrive/School - Ryerson Graduate/MSC_THESIS/23May28_Training_Data/24-May-2023_46_MATRIX.csv\")\n",
        "df = pd.concat([df, temp], axis=0)\n",
        "print(len(df.index))\n",
        "temp = pd.read_csv(\"/MSC_THESIS/MyDrive/School - Ryerson Graduate/MSC_THESIS/23May28_Training_Data/24-May-2023_56_MATRIX.csv\")\n",
        "df = pd.concat([df, temp], axis=0)\n",
        "print(len(df.index))\n",
        "temp = pd.read_csv(\"/MSC_THESIS/MyDrive/School - Ryerson Graduate/MSC_THESIS/23May28_Training_Data/24-May-2023_66_MATRIX.csv\")\n",
        "df = pd.concat([df, temp], axis=0)\n",
        "print(len(df.index))\n",
        "temp = pd.read_csv(\"/MSC_THESIS/MyDrive/School - Ryerson Graduate/MSC_THESIS/23May28_Training_Data/24-May-2023_76_MATRIX.csv\")\n",
        "df = pd.concat([df, temp], axis=0)\n",
        "print(len(df.index))\n",
        "temp = pd.read_csv(\"/MSC_THESIS/MyDrive/School - Ryerson Graduate/MSC_THESIS/23May28_Training_Data/24-May-2023_86_MATRIX.csv\")\n",
        "df = pd.concat([df, temp], axis=0)\n",
        "print(len(df.index))\n",
        "\n",
        "df.head()"
      ],
      "metadata": {
        "id": "gTIVcJ8XCwKK",
        "colab": {
          "base_uri": "https://localhost:8080/",
          "height": 1000
        },
        "outputId": "dc396fb8-298f-436e-b932-67392adca36c"
      },
      "execution_count": 3,
      "outputs": [
        {
          "output_type": "stream",
          "name": "stdout",
          "text": [
            "185964\n",
            "275662\n",
            "366300\n",
            "431952\n",
            "477782\n",
            "565566\n",
            "646300\n",
            "716023\n",
            "807866\n",
            "907022\n",
            "999059\n",
            "1108260\n",
            "1199160\n",
            "1262277\n",
            "1323509\n",
            "1371712\n",
            "1455405\n",
            "1484158\n",
            "1578424\n",
            "1676051\n",
            "1764910\n",
            "1815009\n",
            "1906037\n",
            "1989103\n",
            "2133080\n",
            "2217200\n",
            "2299467\n",
            "2370380\n",
            "2474176\n",
            "2558286\n",
            "2665559\n",
            "2745042\n",
            "2810182\n",
            "2838907\n",
            "2931249\n",
            "2983107\n",
            "3086112\n",
            "3170772\n",
            "3237906\n",
            "3282451\n",
            "3366833\n",
            "3453936\n",
            "3534701\n",
            "3623715\n",
            "3673000\n",
            "3784203\n",
            "3855999\n",
            "3944796\n",
            "4041588\n",
            "4129225\n",
            "4217077\n",
            "4306149\n",
            "4392336\n"
          ]
        },
        {
          "output_type": "execute_result",
          "data": {
            "text/plain": [
              "   Participant ID  Trial ID  Trial Type  Pulse Width  \\\n",
              "0               2        21           1     2.770736   \n",
              "1               2        21           1     2.770736   \n",
              "2               2        21           1     2.770736   \n",
              "3               2        21           1     2.770736   \n",
              "4               2        21           1     2.770736   \n",
              "\n",
              "   Contraction Start Time(s)  Contraction End Time (s)  ContractionNo  \\\n",
              "0                   8.156866                 10.927602              1   \n",
              "1                   8.156866                 10.927602              1   \n",
              "2                   8.156866                 10.927602              1   \n",
              "3                   8.156866                 10.927602              1   \n",
              "4                   8.156866                 10.927602              1   \n",
              "\n",
              "   Pain Label  Time(s)   EMG(mv)  Pulse  Stimulus     MMG_x     MMG_y  \\\n",
              "0           1   8.1570  1.720270    547         7  0.505105  2.012084   \n",
              "1           1   8.1572  2.646474    547         7  0.539575  1.966835   \n",
              "2           1   8.1574  3.926238    547         7  0.573916  1.920676   \n",
              "3           1   8.1576  5.511613    546         7  0.607993  1.873812   \n",
              "4           1   8.1578  7.348377    546         7  0.641678  1.826453   \n",
              "\n",
              "      MMG_z  Ch7    Ch8  \n",
              "0  0.431214  617  65535  \n",
              "1  0.413001  617  65535  \n",
              "2  0.396449  617  65535  \n",
              "3  0.381605  617  65535  \n",
              "4  0.368481  617  65535  "
            ],
            "text/html": [
              "\n",
              "  <div id=\"df-507df9d0-e336-4f64-84dd-baacda8c2c38\">\n",
              "    <div class=\"colab-df-container\">\n",
              "      <div>\n",
              "<style scoped>\n",
              "    .dataframe tbody tr th:only-of-type {\n",
              "        vertical-align: middle;\n",
              "    }\n",
              "\n",
              "    .dataframe tbody tr th {\n",
              "        vertical-align: top;\n",
              "    }\n",
              "\n",
              "    .dataframe thead th {\n",
              "        text-align: right;\n",
              "    }\n",
              "</style>\n",
              "<table border=\"1\" class=\"dataframe\">\n",
              "  <thead>\n",
              "    <tr style=\"text-align: right;\">\n",
              "      <th></th>\n",
              "      <th>Participant ID</th>\n",
              "      <th>Trial ID</th>\n",
              "      <th>Trial Type</th>\n",
              "      <th>Pulse Width</th>\n",
              "      <th>Contraction Start Time(s)</th>\n",
              "      <th>Contraction End Time (s)</th>\n",
              "      <th>ContractionNo</th>\n",
              "      <th>Pain Label</th>\n",
              "      <th>Time(s)</th>\n",
              "      <th>EMG(mv)</th>\n",
              "      <th>Pulse</th>\n",
              "      <th>Stimulus</th>\n",
              "      <th>MMG_x</th>\n",
              "      <th>MMG_y</th>\n",
              "      <th>MMG_z</th>\n",
              "      <th>Ch7</th>\n",
              "      <th>Ch8</th>\n",
              "    </tr>\n",
              "  </thead>\n",
              "  <tbody>\n",
              "    <tr>\n",
              "      <th>0</th>\n",
              "      <td>2</td>\n",
              "      <td>21</td>\n",
              "      <td>1</td>\n",
              "      <td>2.770736</td>\n",
              "      <td>8.156866</td>\n",
              "      <td>10.927602</td>\n",
              "      <td>1</td>\n",
              "      <td>1</td>\n",
              "      <td>8.1570</td>\n",
              "      <td>1.720270</td>\n",
              "      <td>547</td>\n",
              "      <td>7</td>\n",
              "      <td>0.505105</td>\n",
              "      <td>2.012084</td>\n",
              "      <td>0.431214</td>\n",
              "      <td>617</td>\n",
              "      <td>65535</td>\n",
              "    </tr>\n",
              "    <tr>\n",
              "      <th>1</th>\n",
              "      <td>2</td>\n",
              "      <td>21</td>\n",
              "      <td>1</td>\n",
              "      <td>2.770736</td>\n",
              "      <td>8.156866</td>\n",
              "      <td>10.927602</td>\n",
              "      <td>1</td>\n",
              "      <td>1</td>\n",
              "      <td>8.1572</td>\n",
              "      <td>2.646474</td>\n",
              "      <td>547</td>\n",
              "      <td>7</td>\n",
              "      <td>0.539575</td>\n",
              "      <td>1.966835</td>\n",
              "      <td>0.413001</td>\n",
              "      <td>617</td>\n",
              "      <td>65535</td>\n",
              "    </tr>\n",
              "    <tr>\n",
              "      <th>2</th>\n",
              "      <td>2</td>\n",
              "      <td>21</td>\n",
              "      <td>1</td>\n",
              "      <td>2.770736</td>\n",
              "      <td>8.156866</td>\n",
              "      <td>10.927602</td>\n",
              "      <td>1</td>\n",
              "      <td>1</td>\n",
              "      <td>8.1574</td>\n",
              "      <td>3.926238</td>\n",
              "      <td>547</td>\n",
              "      <td>7</td>\n",
              "      <td>0.573916</td>\n",
              "      <td>1.920676</td>\n",
              "      <td>0.396449</td>\n",
              "      <td>617</td>\n",
              "      <td>65535</td>\n",
              "    </tr>\n",
              "    <tr>\n",
              "      <th>3</th>\n",
              "      <td>2</td>\n",
              "      <td>21</td>\n",
              "      <td>1</td>\n",
              "      <td>2.770736</td>\n",
              "      <td>8.156866</td>\n",
              "      <td>10.927602</td>\n",
              "      <td>1</td>\n",
              "      <td>1</td>\n",
              "      <td>8.1576</td>\n",
              "      <td>5.511613</td>\n",
              "      <td>546</td>\n",
              "      <td>7</td>\n",
              "      <td>0.607993</td>\n",
              "      <td>1.873812</td>\n",
              "      <td>0.381605</td>\n",
              "      <td>617</td>\n",
              "      <td>65535</td>\n",
              "    </tr>\n",
              "    <tr>\n",
              "      <th>4</th>\n",
              "      <td>2</td>\n",
              "      <td>21</td>\n",
              "      <td>1</td>\n",
              "      <td>2.770736</td>\n",
              "      <td>8.156866</td>\n",
              "      <td>10.927602</td>\n",
              "      <td>1</td>\n",
              "      <td>1</td>\n",
              "      <td>8.1578</td>\n",
              "      <td>7.348377</td>\n",
              "      <td>546</td>\n",
              "      <td>7</td>\n",
              "      <td>0.641678</td>\n",
              "      <td>1.826453</td>\n",
              "      <td>0.368481</td>\n",
              "      <td>617</td>\n",
              "      <td>65535</td>\n",
              "    </tr>\n",
              "  </tbody>\n",
              "</table>\n",
              "</div>\n",
              "      <button class=\"colab-df-convert\" onclick=\"convertToInteractive('df-507df9d0-e336-4f64-84dd-baacda8c2c38')\"\n",
              "              title=\"Convert this dataframe to an interactive table.\"\n",
              "              style=\"display:none;\">\n",
              "        \n",
              "  <svg xmlns=\"http://www.w3.org/2000/svg\" height=\"24px\"viewBox=\"0 0 24 24\"\n",
              "       width=\"24px\">\n",
              "    <path d=\"M0 0h24v24H0V0z\" fill=\"none\"/>\n",
              "    <path d=\"M18.56 5.44l.94 2.06.94-2.06 2.06-.94-2.06-.94-.94-2.06-.94 2.06-2.06.94zm-11 1L8.5 8.5l.94-2.06 2.06-.94-2.06-.94L8.5 2.5l-.94 2.06-2.06.94zm10 10l.94 2.06.94-2.06 2.06-.94-2.06-.94-.94-2.06-.94 2.06-2.06.94z\"/><path d=\"M17.41 7.96l-1.37-1.37c-.4-.4-.92-.59-1.43-.59-.52 0-1.04.2-1.43.59L10.3 9.45l-7.72 7.72c-.78.78-.78 2.05 0 2.83L4 21.41c.39.39.9.59 1.41.59.51 0 1.02-.2 1.41-.59l7.78-7.78 2.81-2.81c.8-.78.8-2.07 0-2.86zM5.41 20L4 18.59l7.72-7.72 1.47 1.35L5.41 20z\"/>\n",
              "  </svg>\n",
              "      </button>\n",
              "      \n",
              "  <style>\n",
              "    .colab-df-container {\n",
              "      display:flex;\n",
              "      flex-wrap:wrap;\n",
              "      gap: 12px;\n",
              "    }\n",
              "\n",
              "    .colab-df-convert {\n",
              "      background-color: #E8F0FE;\n",
              "      border: none;\n",
              "      border-radius: 50%;\n",
              "      cursor: pointer;\n",
              "      display: none;\n",
              "      fill: #1967D2;\n",
              "      height: 32px;\n",
              "      padding: 0 0 0 0;\n",
              "      width: 32px;\n",
              "    }\n",
              "\n",
              "    .colab-df-convert:hover {\n",
              "      background-color: #E2EBFA;\n",
              "      box-shadow: 0px 1px 2px rgba(60, 64, 67, 0.3), 0px 1px 3px 1px rgba(60, 64, 67, 0.15);\n",
              "      fill: #174EA6;\n",
              "    }\n",
              "\n",
              "    [theme=dark] .colab-df-convert {\n",
              "      background-color: #3B4455;\n",
              "      fill: #D2E3FC;\n",
              "    }\n",
              "\n",
              "    [theme=dark] .colab-df-convert:hover {\n",
              "      background-color: #434B5C;\n",
              "      box-shadow: 0px 1px 3px 1px rgba(0, 0, 0, 0.15);\n",
              "      filter: drop-shadow(0px 1px 2px rgba(0, 0, 0, 0.3));\n",
              "      fill: #FFFFFF;\n",
              "    }\n",
              "  </style>\n",
              "\n",
              "      <script>\n",
              "        const buttonEl =\n",
              "          document.querySelector('#df-507df9d0-e336-4f64-84dd-baacda8c2c38 button.colab-df-convert');\n",
              "        buttonEl.style.display =\n",
              "          google.colab.kernel.accessAllowed ? 'block' : 'none';\n",
              "\n",
              "        async function convertToInteractive(key) {\n",
              "          const element = document.querySelector('#df-507df9d0-e336-4f64-84dd-baacda8c2c38');\n",
              "          const dataTable =\n",
              "            await google.colab.kernel.invokeFunction('convertToInteractive',\n",
              "                                                     [key], {});\n",
              "          if (!dataTable) return;\n",
              "\n",
              "          const docLinkHtml = 'Like what you see? Visit the ' +\n",
              "            '<a target=\"_blank\" href=https://colab.research.google.com/notebooks/data_table.ipynb>data table notebook</a>'\n",
              "            + ' to learn more about interactive tables.';\n",
              "          element.innerHTML = '';\n",
              "          dataTable['output_type'] = 'display_data';\n",
              "          await google.colab.output.renderOutput(dataTable, element);\n",
              "          const docLink = document.createElement('div');\n",
              "          docLink.innerHTML = docLinkHtml;\n",
              "          element.appendChild(docLink);\n",
              "        }\n",
              "      </script>\n",
              "    </div>\n",
              "  </div>\n",
              "  "
            ]
          },
          "metadata": {},
          "execution_count": 3
        }
      ]
    },
    {
      "cell_type": "code",
      "source": [
        "import sys\n",
        "import gc\n",
        "def obj_size_fmt(num):\n",
        "    if num<10**3:\n",
        "        return \"{:.2f}{}\".format(num,\"B\")\n",
        "    elif ((num>=10**3)&(num<10**6)):\n",
        "        return \"{:.2f}{}\".format(num/(1.024*10**3),\"KB\")\n",
        "    elif ((num>=10**6)&(num<10**9)):\n",
        "        return \"{:.2f}{}\".format(num/(1.024*10**6),\"MB\")\n",
        "    else:\n",
        "        return \"{:.2f}{}\".format(num/(1.024*10**9),\"GB\")\n",
        "\n",
        "\n",
        "def memory_usage():\n",
        "    memory_usage_by_variable=pd.DataFrame({k:sys.getsizeof(v)\\\n",
        "    for (k,v) in globals().items()},index=['Size'])\n",
        "    memory_usage_by_variable=memory_usage_by_variable.T\n",
        "    memory_usage_by_variable=memory_usage_by_variable\\\n",
        "    .sort_values(by='Size',ascending=False).head(10)\n",
        "    memory_usage_by_variable['Size']=memory_usage_by_variable['Size']\\\n",
        "    .apply(lambda x: obj_size_fmt(x))\n",
        "    return memory_usage_by_variable\n",
        "memory_usage()"
      ],
      "metadata": {
        "colab": {
          "base_uri": "https://localhost:8080/",
          "height": 363
        },
        "id": "h4K9TJfSlX6Q",
        "outputId": "0d625ce8-17af-4560-e084-1343cb8ccfa8"
      },
      "execution_count": null,
      "outputs": [
        {
          "output_type": "execute_result",
          "data": {
            "text/plain": [
              "          Size\n",
              "df    617.67MB\n",
              "temp   11.45MB\n",
              "_i1     9.98KB\n",
              "_ii     9.98KB\n",
              "_i5     9.98KB\n",
              "_i6     9.80KB\n",
              "_i      9.80KB\n",
              "_i7    868.00B\n",
              "_6     736.00B\n",
              "_i4    736.00B"
            ],
            "text/html": [
              "\n",
              "  <div id=\"df-c0fed540-8afc-4aff-93c4-189ed026306f\">\n",
              "    <div class=\"colab-df-container\">\n",
              "      <div>\n",
              "<style scoped>\n",
              "    .dataframe tbody tr th:only-of-type {\n",
              "        vertical-align: middle;\n",
              "    }\n",
              "\n",
              "    .dataframe tbody tr th {\n",
              "        vertical-align: top;\n",
              "    }\n",
              "\n",
              "    .dataframe thead th {\n",
              "        text-align: right;\n",
              "    }\n",
              "</style>\n",
              "<table border=\"1\" class=\"dataframe\">\n",
              "  <thead>\n",
              "    <tr style=\"text-align: right;\">\n",
              "      <th></th>\n",
              "      <th>Size</th>\n",
              "    </tr>\n",
              "  </thead>\n",
              "  <tbody>\n",
              "    <tr>\n",
              "      <th>df</th>\n",
              "      <td>617.67MB</td>\n",
              "    </tr>\n",
              "    <tr>\n",
              "      <th>temp</th>\n",
              "      <td>11.45MB</td>\n",
              "    </tr>\n",
              "    <tr>\n",
              "      <th>_i1</th>\n",
              "      <td>9.98KB</td>\n",
              "    </tr>\n",
              "    <tr>\n",
              "      <th>_ii</th>\n",
              "      <td>9.98KB</td>\n",
              "    </tr>\n",
              "    <tr>\n",
              "      <th>_i5</th>\n",
              "      <td>9.98KB</td>\n",
              "    </tr>\n",
              "    <tr>\n",
              "      <th>_i6</th>\n",
              "      <td>9.80KB</td>\n",
              "    </tr>\n",
              "    <tr>\n",
              "      <th>_i</th>\n",
              "      <td>9.80KB</td>\n",
              "    </tr>\n",
              "    <tr>\n",
              "      <th>_i7</th>\n",
              "      <td>868.00B</td>\n",
              "    </tr>\n",
              "    <tr>\n",
              "      <th>_6</th>\n",
              "      <td>736.00B</td>\n",
              "    </tr>\n",
              "    <tr>\n",
              "      <th>_i4</th>\n",
              "      <td>736.00B</td>\n",
              "    </tr>\n",
              "  </tbody>\n",
              "</table>\n",
              "</div>\n",
              "      <button class=\"colab-df-convert\" onclick=\"convertToInteractive('df-c0fed540-8afc-4aff-93c4-189ed026306f')\"\n",
              "              title=\"Convert this dataframe to an interactive table.\"\n",
              "              style=\"display:none;\">\n",
              "        \n",
              "  <svg xmlns=\"http://www.w3.org/2000/svg\" height=\"24px\"viewBox=\"0 0 24 24\"\n",
              "       width=\"24px\">\n",
              "    <path d=\"M0 0h24v24H0V0z\" fill=\"none\"/>\n",
              "    <path d=\"M18.56 5.44l.94 2.06.94-2.06 2.06-.94-2.06-.94-.94-2.06-.94 2.06-2.06.94zm-11 1L8.5 8.5l.94-2.06 2.06-.94-2.06-.94L8.5 2.5l-.94 2.06-2.06.94zm10 10l.94 2.06.94-2.06 2.06-.94-2.06-.94-.94-2.06-.94 2.06-2.06.94z\"/><path d=\"M17.41 7.96l-1.37-1.37c-.4-.4-.92-.59-1.43-.59-.52 0-1.04.2-1.43.59L10.3 9.45l-7.72 7.72c-.78.78-.78 2.05 0 2.83L4 21.41c.39.39.9.59 1.41.59.51 0 1.02-.2 1.41-.59l7.78-7.78 2.81-2.81c.8-.78.8-2.07 0-2.86zM5.41 20L4 18.59l7.72-7.72 1.47 1.35L5.41 20z\"/>\n",
              "  </svg>\n",
              "      </button>\n",
              "      \n",
              "  <style>\n",
              "    .colab-df-container {\n",
              "      display:flex;\n",
              "      flex-wrap:wrap;\n",
              "      gap: 12px;\n",
              "    }\n",
              "\n",
              "    .colab-df-convert {\n",
              "      background-color: #E8F0FE;\n",
              "      border: none;\n",
              "      border-radius: 50%;\n",
              "      cursor: pointer;\n",
              "      display: none;\n",
              "      fill: #1967D2;\n",
              "      height: 32px;\n",
              "      padding: 0 0 0 0;\n",
              "      width: 32px;\n",
              "    }\n",
              "\n",
              "    .colab-df-convert:hover {\n",
              "      background-color: #E2EBFA;\n",
              "      box-shadow: 0px 1px 2px rgba(60, 64, 67, 0.3), 0px 1px 3px 1px rgba(60, 64, 67, 0.15);\n",
              "      fill: #174EA6;\n",
              "    }\n",
              "\n",
              "    [theme=dark] .colab-df-convert {\n",
              "      background-color: #3B4455;\n",
              "      fill: #D2E3FC;\n",
              "    }\n",
              "\n",
              "    [theme=dark] .colab-df-convert:hover {\n",
              "      background-color: #434B5C;\n",
              "      box-shadow: 0px 1px 3px 1px rgba(0, 0, 0, 0.15);\n",
              "      filter: drop-shadow(0px 1px 2px rgba(0, 0, 0, 0.3));\n",
              "      fill: #FFFFFF;\n",
              "    }\n",
              "  </style>\n",
              "\n",
              "      <script>\n",
              "        const buttonEl =\n",
              "          document.querySelector('#df-c0fed540-8afc-4aff-93c4-189ed026306f button.colab-df-convert');\n",
              "        buttonEl.style.display =\n",
              "          google.colab.kernel.accessAllowed ? 'block' : 'none';\n",
              "\n",
              "        async function convertToInteractive(key) {\n",
              "          const element = document.querySelector('#df-c0fed540-8afc-4aff-93c4-189ed026306f');\n",
              "          const dataTable =\n",
              "            await google.colab.kernel.invokeFunction('convertToInteractive',\n",
              "                                                     [key], {});\n",
              "          if (!dataTable) return;\n",
              "\n",
              "          const docLinkHtml = 'Like what you see? Visit the ' +\n",
              "            '<a target=\"_blank\" href=https://colab.research.google.com/notebooks/data_table.ipynb>data table notebook</a>'\n",
              "            + ' to learn more about interactive tables.';\n",
              "          element.innerHTML = '';\n",
              "          dataTable['output_type'] = 'display_data';\n",
              "          await google.colab.output.renderOutput(dataTable, element);\n",
              "          const docLink = document.createElement('div');\n",
              "          docLink.innerHTML = docLinkHtml;\n",
              "          element.appendChild(docLink);\n",
              "        }\n",
              "      </script>\n",
              "    </div>\n",
              "  </div>\n",
              "  "
            ]
          },
          "metadata": {},
          "execution_count": 7
        }
      ]
    },
    {
      "cell_type": "markdown",
      "source": [
        "Prepping the Features and Labels"
      ],
      "metadata": {
        "id": "nC9UvXa3SzUc"
      }
    },
    {
      "cell_type": "code",
      "source": [
        "#select features\n",
        "X = df[['EMG(mv)', 'Trial Type']]\n",
        "y = df['Pain Label']"
      ],
      "metadata": {
        "id": "-Xkt4H7OhynP"
      },
      "execution_count": 4,
      "outputs": []
    },
    {
      "cell_type": "code",
      "source": [
        "#create data split\n",
        "from sklearn.model_selection import train_test_split\n",
        "X_train, X_test, y_train, y_test = train_test_split(X, y, test_size=0.2, random_state=44)\n",
        "X_train, X_val, y_train, y_val = train_test_split(X_train, y_train, test_size=0.2, random_state=44)"
      ],
      "metadata": {
        "id": "X130m0h7iXnk"
      },
      "execution_count": 5,
      "outputs": []
    },
    {
      "cell_type": "code",
      "source": [
        "print(\"Number of samples in the training set: \", len(X_train))\n",
        "print(\"Number of samples in the test set: \", len(X_test))\n",
        "print(\"Number of samples in the validation set: \", len(X_val))"
      ],
      "metadata": {
        "colab": {
          "base_uri": "https://localhost:8080/"
        },
        "id": "PI0MrOcTEW4m",
        "outputId": "255cc9fa-ae3f-4838-d432-4460d345cb68"
      },
      "execution_count": 6,
      "outputs": [
        {
          "output_type": "stream",
          "name": "stdout",
          "text": [
            "Number of samples in the training set:  2811094\n",
            "Number of samples in the test set:  878468\n",
            "Number of samples in the validation set:  702774\n"
          ]
        }
      ]
    },
    {
      "cell_type": "code",
      "source": [
        "from sklearn.preprocessing import StandardScaler\n",
        "scaler = StandardScaler()\n",
        "X_train_scaled = scaler.fit_transform(X_train)\n",
        "X_test_scaled = scaler.transform(X_test)\n",
        "X_val_scaled = scaler.transform(X_val)"
      ],
      "metadata": {
        "id": "FdAqcjphiczW"
      },
      "execution_count": 7,
      "outputs": []
    },
    {
      "cell_type": "markdown",
      "source": [
        "Classic Deep Network (Fully Connected)"
      ],
      "metadata": {
        "id": "6y-gYlK-SpmD"
      }
    },
    {
      "cell_type": "code",
      "source": [
        "\n",
        "tf.random.set_seed(42)\n",
        "model = tf.keras.Sequential([\n",
        "    \n",
        "    tf.keras.layers.Dense(128, activation='relu'),\n",
        "    tf.keras.layers.Dense(256, activation='relu'),\n",
        "    tf.keras.layers.Dense(256, activation='relu'),\n",
        "    tf.keras.layers.Dense(1, activation='sigmoid')\n",
        "])\n",
        "\n",
        "model.compile(\n",
        "    loss=tf.keras.losses.binary_crossentropy,\n",
        "    optimizer=tf.keras.optimizers.Adam(lr=0.03),\n",
        "    metrics=[\n",
        "        tf.keras.metrics.BinaryAccuracy(name='accuracy'),\n",
        "        tf.keras.metrics.Precision(name='precision'),\n",
        "        tf.keras.metrics.Recall(name='recall')\n",
        "    ]\n",
        ")\n",
        "\n",
        "history = model.fit(X_train_scaled, y_train, epochs=3)"
      ],
      "metadata": {
        "colab": {
          "base_uri": "https://localhost:8080/"
        },
        "id": "mhcPTvjEifZE",
        "outputId": "992e673f-b708-405d-bfd3-e5feb92638c2"
      },
      "execution_count": 8,
      "outputs": [
        {
          "output_type": "stream",
          "name": "stderr",
          "text": [
            "WARNING:absl:`lr` is deprecated in Keras optimizer, please use `learning_rate` or use the legacy optimizer, e.g.,tf.keras.optimizers.legacy.Adam.\n"
          ]
        },
        {
          "output_type": "stream",
          "name": "stdout",
          "text": [
            "Epoch 1/3\n",
            "87847/87847 [==============================] - 295s 3ms/step - loss: 0.4848 - accuracy: 0.7525 - precision: 0.8593 - recall: 0.7458\n",
            "Epoch 2/3\n",
            "87847/87847 [==============================] - 286s 3ms/step - loss: 0.4831 - accuracy: 0.7528 - precision: 0.8583 - recall: 0.7475\n",
            "Epoch 3/3\n",
            "87847/87847 [==============================] - 283s 3ms/step - loss: 0.4827 - accuracy: 0.7528 - precision: 0.8603 - recall: 0.7452\n"
          ]
        }
      ]
    },
    {
      "cell_type": "code",
      "source": [
        "model.summary()"
      ],
      "metadata": {
        "colab": {
          "base_uri": "https://localhost:8080/"
        },
        "id": "O7LG-UISrVVl",
        "outputId": "968f5719-536b-474f-87b7-f5d1c0690473"
      },
      "execution_count": null,
      "outputs": [
        {
          "output_type": "stream",
          "name": "stdout",
          "text": [
            "Model: \"sequential_1\"\n",
            "_________________________________________________________________\n",
            " Layer (type)                Output Shape              Param #   \n",
            "=================================================================\n",
            " dense_4 (Dense)             (None, 128)               384       \n",
            "                                                                 \n",
            " dense_5 (Dense)             (None, 256)               33024     \n",
            "                                                                 \n",
            " dense_6 (Dense)             (None, 256)               65792     \n",
            "                                                                 \n",
            " dense_7 (Dense)             (None, 1)                 257       \n",
            "                                                                 \n",
            "=================================================================\n",
            "Total params: 99,457\n",
            "Trainable params: 99,457\n",
            "Non-trainable params: 0\n",
            "_________________________________________________________________\n"
          ]
        }
      ]
    },
    {
      "cell_type": "code",
      "source": [
        "#visualize performance\n",
        "import matplotlib.pyplot as plt\n",
        "from matplotlib import rcParams\n",
        "\n",
        "rcParams['figure.figsize'] = (18, 8)\n",
        "rcParams['axes.spines.top'] = False\n",
        "rcParams['axes.spines.right'] = False\n",
        "plt.plot(\n",
        "    np.arange(1, 11), \n",
        "    history.history['loss'], label='Loss'\n",
        ")\n",
        "plt.plot(\n",
        "    np.arange(1, 11), \n",
        "    history.history['accuracy'], label='Accuracy'\n",
        ")\n",
        "plt.plot(\n",
        "    np.arange(1, 11), \n",
        "    history.history['precision'], label='Precision'\n",
        ")\n",
        "plt.plot(\n",
        "    np.arange(1, 11), \n",
        "    history.history['recall'], label='Recall'\n",
        ")\n",
        "plt.title('Evaluation metrics', size=20)\n",
        "plt.xlabel('Epoch', size=14)\n",
        "plt.legend();"
      ],
      "metadata": {
        "colab": {
          "base_uri": "https://localhost:8080/",
          "height": 626
        },
        "id": "SyLTccnoimh-",
        "outputId": "4cba58a3-0e25-4214-b129-4db3517438b2"
      },
      "execution_count": null,
      "outputs": [
        {
          "output_type": "display_data",
          "data": {
            "text/plain": [
              "<Figure size 1800x800 with 1 Axes>"
            ],
            "image/png": "[encoded data removed]"
          },
          "metadata": {}
        }
      ]
    },
    {
      "cell_type": "code",
      "source": [
        "#evaluate performance\n",
        "predictions = model.predict(X_test_scaled)\n",
        "prediction_classes = [\n",
        "    1 if prob > 0.5 else 0 for prob in np.ravel(predictions)\n",
        "]\n",
        "prediction_classes = [\n",
        "    1 if prob > 0.5 else 0 for prob in np.ravel(predictions)\n",
        "]\n",
        "from sklearn.metrics import accuracy_score, precision_score, recall_score\n",
        "\n",
        "print(f'Accuracy: {accuracy_score(y_test, prediction_classes):.4f}')\n",
        "print(f'Precision: {precision_score(y_test, prediction_classes):.4f}')\n",
        "print(f'Recall: {recall_score(y_test, prediction_classes):.4f}')"
      ],
      "metadata": {
        "colab": {
          "base_uri": "https://localhost:8080/"
        },
        "id": "46qoF6WtipRo",
        "outputId": "6100c0ca-eb1a-438d-9e2d-c58d790fdba8"
      },
      "execution_count": null,
      "outputs": [
        {
          "output_type": "stream",
          "name": "stdout",
          "text": [
            "27453/27453 [==============================] - 36s 1ms/step\n",
            "Accuracy: 0.7506\n",
            "Precision: 0.8336\n",
            "Recall: 0.7758\n"
          ]
        }
      ]
    },
    {
      "cell_type": "markdown",
      "source": [
        "1D Convolutional Neural Network"
      ],
      "metadata": {
        "id": "Yh6lUYosBTc0"
      }
    },
    {
      "cell_type": "code",
      "source": [
        "tf.random.set_seed(42)\n",
        "time_steps = 2\n",
        "model = tf.keras.Sequential([\n",
        "    #tf.keras.layers.Input(shape=(None, None, 5, None), name=\"input\"),\n",
        "    #tf.keras.layers.RepeatVector(time_steps, name=\"repeatLayer\"),\n",
        "    tf.keras.layers.Conv1D(100, 2, activation='relu', name=\"convLayer\", input_shape=(2, 1)),\n",
        "    tf.keras.layers.Dense(128, activation='relu', name=\"relu1Layer\"),\n",
        "    tf.keras.layers.Dense(256, activation='relu', name=\"relu2Layer\"),\n",
        "    tf.keras.layers.Dense(256, activation='relu', name=\"relu3Layer\"),\n",
        "    #tf.keras.layers.MaxPooling1D(),\n",
        "    tf.keras.layers.Flatten(),\n",
        "    tf.keras.layers.Dense(1, activation='sigmoid', name=\"sigmoidLayer\")\n",
        "])\n",
        "\n",
        "model.compile(\n",
        "    loss=tf.keras.losses.binary_crossentropy,\n",
        "    optimizer=tf.keras.optimizers.Adam(learning_rate=0.03),\n",
        "    metrics=[\n",
        "        tf.keras.metrics.BinaryAccuracy(name='accuracy'),\n",
        "        tf.keras.metrics.Precision(name='precision'),\n",
        "        tf.keras.metrics.Recall(name='recall')\n",
        "    ]\n",
        ")\n"
      ],
      "metadata": {
        "id": "eup-a4LmCT55"
      },
      "execution_count": null,
      "outputs": []
    },
    {
      "cell_type": "code",
      "source": [
        "time_steps = 5\n",
        "model = tf.keras.Sequential()\n",
        "model.add(tf.keras.layers.Input(shape=(time_steps, 64), name=\"input\"))\n",
        "model.add(tf.keras.layers.Conv1D(64, 2, activation=\"relu\", padding=\"same\", name=\"convLayer\"))"
      ],
      "metadata": {
        "id": "rpDFY4rsOulq"
      },
      "execution_count": null,
      "outputs": []
    },
    {
      "cell_type": "code",
      "source": [
        "history = model.fit(X_train_scaled, y_train, batch_size=100, epochs=1)\n",
        "history.history"
      ],
      "metadata": {
        "colab": {
          "base_uri": "https://localhost:8080/"
        },
        "id": "GHoZCWMSCVY-",
        "outputId": "4ed50a0b-8c9c-4844-95f4-e5a340a07739"
      },
      "execution_count": null,
      "outputs": [
        {
          "output_type": "stream",
          "name": "stdout",
          "text": [
            "28111/28111 [==============================] - 141s 5ms/step - loss: 0.4974 - accuracy: 0.7510 - precision: 0.8774 - recall: 0.7221\n"
          ]
        },
        {
          "output_type": "execute_result",
          "data": {
            "text/plain": [
              "{'loss': [0.4973910450935364],\n",
              " 'accuracy': [0.7509902119636536],\n",
              " 'precision': [0.8774018883705139],\n",
              " 'recall': [0.7220987677574158]}"
            ]
          },
          "metadata": {},
          "execution_count": 63
        }
      ]
    },
    {
      "cell_type": "code",
      "source": [
        "model.summary()"
      ],
      "metadata": {
        "colab": {
          "base_uri": "https://localhost:8080/"
        },
        "id": "Yly10aTJDZEd",
        "outputId": "ba2637c6-acbe-47a5-8521-6a5aa32f1ae7"
      },
      "execution_count": null,
      "outputs": [
        {
          "output_type": "stream",
          "name": "stdout",
          "text": [
            "Model: \"sequential_28\"\n",
            "_________________________________________________________________\n",
            " Layer (type)                Output Shape              Param #   \n",
            "=================================================================\n",
            " convLayer (Conv1D)          (None, 1, 100)            300       \n",
            "                                                                 \n",
            " relu1Layer (Dense)          (None, 1, 128)            12928     \n",
            "                                                                 \n",
            " relu2Layer (Dense)          (None, 1, 256)            33024     \n",
            "                                                                 \n",
            " relu3Layer (Dense)          (None, 1, 256)            65792     \n",
            "                                                                 \n",
            " flatten_9 (Flatten)         (None, 256)               0         \n",
            "                                                                 \n",
            " sigmoidLayer (Dense)        (None, 1)                 257       \n",
            "                                                                 \n",
            "=================================================================\n",
            "Total params: 112,301\n",
            "Trainable params: 112,301\n",
            "Non-trainable params: 0\n",
            "_________________________________________________________________\n"
          ]
        }
      ]
    },
    {
      "cell_type": "code",
      "source": [
        "history = model.fit(X_train_scaled, y_train, batch_size=100, epochs=5)\n",
        "history.history"
      ],
      "metadata": {
        "colab": {
          "base_uri": "https://localhost:8080/"
        },
        "id": "bZD1bzC-N1VT",
        "outputId": "8085f8fb-8616-49a6-88e5-8ece07f0ad9a"
      },
      "execution_count": null,
      "outputs": [
        {
          "output_type": "stream",
          "name": "stdout",
          "text": [
            "Epoch 1/5\n",
            "28111/28111 [==============================] - 138s 5ms/step - loss: 0.4998 - accuracy: 0.7517 - precision: 0.8790 - recall: 0.7215\n",
            "Epoch 2/5\n",
            "28111/28111 [==============================] - 139s 5ms/step - loss: 0.5007 - accuracy: 0.7500 - precision: 0.8775 - recall: 0.7202\n",
            "Epoch 3/5\n",
            "28111/28111 [==============================] - 136s 5ms/step - loss: 0.4998 - accuracy: 0.7515 - precision: 0.8792 - recall: 0.7210\n",
            "Epoch 4/5\n",
            "28111/28111 [==============================] - 134s 5ms/step - loss: 0.4996 - accuracy: 0.7517 - precision: 0.8790 - recall: 0.7217\n",
            "Epoch 5/5\n",
            "28111/28111 [==============================] - 135s 5ms/step - loss: 0.5011 - accuracy: 0.7491 - precision: 0.8767 - recall: 0.7196\n"
          ]
        },
        {
          "output_type": "execute_result",
          "data": {
            "text/plain": [
              "{'loss': [0.49983155727386475,\n",
              "  0.5006890892982483,\n",
              "  0.4998264014720917,\n",
              "  0.499641478061676,\n",
              "  0.5010513663291931],\n",
              " 'accuracy': [0.7516664266586304,\n",
              "  0.7499791979789734,\n",
              "  0.7514853477478027,\n",
              "  0.7517390251159668,\n",
              "  0.7491464018821716],\n",
              " 'precision': [0.8790265321731567,\n",
              "  0.8774856925010681,\n",
              "  0.879181444644928,\n",
              "  0.8790208101272583,\n",
              "  0.8766576051712036],\n",
              " 'recall': [0.7215278148651123,\n",
              "  0.7202198505401611,\n",
              "  0.7210407853126526,\n",
              "  0.7216620445251465,\n",
              "  0.7196478843688965]}"
            ]
          },
          "metadata": {},
          "execution_count": 66
        }
      ]
    },
    {
      "cell_type": "code",
      "source": [
        "#visualize performance\n",
        "num_epochs = 5\n",
        "import matplotlib.pyplot as plt\n",
        "from matplotlib import rcParams\n",
        "\n",
        "rcParams['figure.figsize'] = (18, 8)\n",
        "rcParams['axes.spines.top'] = False\n",
        "rcParams['axes.spines.right'] = False\n",
        "plt.plot(\n",
        "    np.arange(1, num_epochs+1), \n",
        "    history.history['loss'], label='Loss'\n",
        ")\n",
        "plt.plot(\n",
        "    np.arange(1, num_epochs+1), \n",
        "    history.history['accuracy'], label='Accuracy'\n",
        ")\n",
        "plt.plot(\n",
        "    np.arange(1, num_epochs+1), \n",
        "    history.history['precision'], label='Precision'\n",
        ")\n",
        "plt.plot(\n",
        "    np.arange(1, num_epochs+1), \n",
        "    history.history['recall'], label='Recall'\n",
        ")\n",
        "plt.title('Evaluation metrics', size=20)\n",
        "plt.xlabel('Epoch', size=14)\n",
        "plt.legend();"
      ],
      "metadata": {
        "colab": {
          "base_uri": "https://localhost:8080/",
          "height": 626
        },
        "id": "ZMnnU3lUNnoe",
        "outputId": "33dab060-39e6-4800-8ebd-586a315ad185"
      },
      "execution_count": null,
      "outputs": [
        {
          "output_type": "display_data",
          "data": {
            "text/plain": [
              "<Figure size 1800x800 with 1 Axes>"
            ],
            "image/png": "[encoded data removed]"
          },
          "metadata": {}
        }
      ]
    },
    {
      "cell_type": "code",
      "source": [
        "#evaluate performance\n",
        "predictions = model.predict(X_test_scaled)\n",
        "prediction_classes = [\n",
        "    1 if prob > 0.5 else 0 for prob in np.ravel(predictions)\n",
        "]\n",
        "prediction_classes = [\n",
        "    1 if prob > 0.5 else 0 for prob in np.ravel(predictions)\n",
        "]\n",
        "from sklearn.metrics import accuracy_score, precision_score, recall_score\n",
        "\n",
        "print(f'Accuracy: {accuracy_score(y_test, prediction_classes):.4f}')\n",
        "print(f'Precision: {precision_score(y_test, prediction_classes):.4f}')\n",
        "print(f'Recall: {recall_score(y_test, prediction_classes):.4f}')"
      ],
      "metadata": {
        "colab": {
          "base_uri": "https://localhost:8080/"
        },
        "id": "7Y5JzHcMRX1V",
        "outputId": "0c03f9a4-728c-4a44-e491-4d2b92242515"
      },
      "execution_count": null,
      "outputs": [
        {
          "output_type": "stream",
          "name": "stdout",
          "text": [
            "27453/27453 [==============================] - 73s 3ms/step\n",
            "Accuracy: 0.7508\n",
            "Precision: 0.8792\n",
            "Recall: 0.7201\n"
          ]
        }
      ]
    },
    {
      "cell_type": "markdown",
      "source": [
        "LSTM"
      ],
      "metadata": {
        "id": "kOlopTJnOVcl"
      }
    },
    {
      "cell_type": "code",
      "source": [
        "tf.random.set_seed(42)\n",
        "time_steps = 2\n",
        "model = tf.keras.Sequential([\n",
        "    #tf.keras.layers.Conv1D(100, 2, activation='relu', name=\"convLayer\", input_shape=(2, 1)),\n",
        "    tf.keras.layers.LSTM(128, input_shape=(2, 1)),\n",
        "    tf.keras.layers.Dense(128, activation='relu', name=\"relu1Layer\"),\n",
        "    tf.keras.layers.Dense(256, activation='relu', name=\"relu2Layer\"),\n",
        "    tf.keras.layers.Dense(256, activation='relu', name=\"relu3Layer\"),\n",
        "    #tf.keras.layers.Flatten(),\n",
        "    tf.keras.layers.Dense(1, activation='sigmoid', name=\"sigmoidLayer\")\n",
        "])\n",
        "\n",
        "model.compile(\n",
        "    loss=tf.keras.losses.binary_crossentropy,\n",
        "    #optimizer=tf.keras.optimizers.Adam(learning_rate=0.03),\n",
        "    optimizer=tf.keras.optimizers.Adam(learning_rate=0.001),\n",
        "    metrics=[\n",
        "        tf.keras.metrics.BinaryAccuracy(name='accuracy'),\n",
        "        tf.keras.metrics.Precision(name='precision'),\n",
        "        tf.keras.metrics.Recall(name='recall'),\n",
        "        tf.keras.metrics.BinaryCrossentropy(name='binary cross entropy'),\n",
        "        tf.keras.metrics.BinaryIoU(name='binary IoU')\n",
        "    ]\n",
        ")"
      ],
      "metadata": {
        "id": "uByAv5qPOU0j"
      },
      "execution_count": null,
      "outputs": []
    },
    {
      "cell_type": "code",
      "source": [
        "#train the model\n",
        "print(\"Training the LSTM model: \")\n",
        "num_epochs = 50\n",
        "history = model.fit(X_train_scaled, y_train, batch_size=128, epochs=num_epochs, shuffle=True)\n",
        "model.summary()\n",
        "\n",
        "#visualize performance\n",
        "import matplotlib.pyplot as plt\n",
        "from matplotlib import rcParams\n",
        "\n",
        "rcParams['figure.figsize'] = (18, 8)\n",
        "rcParams['axes.spines.top'] = False\n",
        "rcParams['axes.spines.right'] = False\n",
        "plt.plot(\n",
        "    np.arange(1, num_epochs+1), \n",
        "    history.history['loss'], label='Loss'\n",
        ")\n",
        "plt.plot(\n",
        "    np.arange(1, num_epochs+1), \n",
        "    history.history['accuracy'], label='Accuracy'\n",
        ")\n",
        "plt.plot(\n",
        "    np.arange(1, num_epochs+1), \n",
        "    history.history['precision'], label='Precision'\n",
        ")\n",
        "plt.plot(\n",
        "    np.arange(1, num_epochs+1), \n",
        "    history.history['recall'], label='Recall'\n",
        ")\n",
        "plt.title('Evaluation metrics', size=20)\n",
        "plt.xlabel('Epoch', size=14)\n",
        "plt.legend();\n",
        "\n",
        "#evaluate performance\n",
        "predictions = model.predict(X_test_scaled)\n",
        "prediction_classes = [\n",
        "    1 if prob > 0.5 else 0 for prob in np.ravel(predictions)\n",
        "]\n",
        "prediction_classes = [\n",
        "    1 if prob > 0.5 else 0 for prob in np.ravel(predictions)\n",
        "]\n",
        "from sklearn.metrics import accuracy_score, precision_score, recall_score\n",
        "\n",
        "print(f'Accuracy: {accuracy_score(y_test, prediction_classes):.4f}')\n",
        "print(f'Precision: {precision_score(y_test, prediction_classes):.4f}')\n",
        "print(f'Recall: {recall_score(y_test, prediction_classes):.4f}')\n",
        "\n",
        "print(\"LTSM - finished!\")"
      ],
      "metadata": {
        "colab": {
          "base_uri": "https://localhost:8080/",
          "height": 1000
        },
        "id": "Gyc_3rxYRIcC",
        "outputId": "9ff8e661-0916-460f-b406-41b75235f87a"
      },
      "execution_count": null,
      "outputs": [
        {
          "output_type": "stream",
          "name": "stdout",
          "text": [
            "Training the LSTM model: \n",
            "Epoch 1/50\n",
            "21962/21962 [==============================] - 130s 6ms/step - loss: 0.4834 - accuracy: 0.7528 - precision: 0.8604 - recall: 0.7448 - binary cross entropy: 0.4834 - binary IoU: 0.5901\n",
            "Epoch 2/50\n",
            "21962/21962 [==============================] - 129s 6ms/step - loss: 0.4827 - accuracy: 0.7529 - precision: 0.8603 - recall: 0.7451 - binary cross entropy: 0.4827 - binary IoU: 0.5902\n",
            "Epoch 3/50\n",
            "21962/21962 [==============================] - 129s 6ms/step - loss: 0.4824 - accuracy: 0.7528 - precision: 0.8598 - recall: 0.7456 - binary cross entropy: 0.4824 - binary IoU: 0.5900\n",
            "Epoch 4/50\n",
            "21962/21962 [==============================] - 129s 6ms/step - loss: 0.4822 - accuracy: 0.7530 - precision: 0.8602 - recall: 0.7454 - binary cross entropy: 0.4822 - binary IoU: 0.5902\n",
            "Epoch 5/50\n",
            "21962/21962 [==============================] - 129s 6ms/step - loss: 0.4820 - accuracy: 0.7530 - precision: 0.8605 - recall: 0.7451 - binary cross entropy: 0.4820 - binary IoU: 0.5904\n",
            "Epoch 6/50\n",
            "21962/21962 [==============================] - 128s 6ms/step - loss: 0.4819 - accuracy: 0.7530 - precision: 0.8609 - recall: 0.7445 - binary cross entropy: 0.4819 - binary IoU: 0.5904\n",
            "Epoch 7/50\n",
            "21962/21962 [==============================] - 128s 6ms/step - loss: 0.4819 - accuracy: 0.7530 - precision: 0.8611 - recall: 0.7444 - binary cross entropy: 0.4819 - binary IoU: 0.5905\n",
            "Epoch 8/50\n",
            "21962/21962 [==============================] - 128s 6ms/step - loss: 0.4818 - accuracy: 0.7531 - precision: 0.8606 - recall: 0.7451 - binary cross entropy: 0.4818 - binary IoU: 0.5905\n",
            "Epoch 9/50\n",
            "21962/21962 [==============================] - 128s 6ms/step - loss: 0.4818 - accuracy: 0.7531 - precision: 0.8618 - recall: 0.7436 - binary cross entropy: 0.4818 - binary IoU: 0.5907\n",
            "Epoch 10/50\n",
            "21962/21962 [==============================] - 129s 6ms/step - loss: 0.4817 - accuracy: 0.7531 - precision: 0.8619 - recall: 0.7435 - binary cross entropy: 0.4817 - binary IoU: 0.5907\n",
            "Epoch 11/50\n",
            "21962/21962 [==============================] - 128s 6ms/step - loss: 0.4817 - accuracy: 0.7531 - precision: 0.8612 - recall: 0.7445 - binary cross entropy: 0.4817 - binary IoU: 0.5906\n",
            "Epoch 12/50\n",
            "21962/21962 [==============================] - 129s 6ms/step - loss: 0.4816 - accuracy: 0.7532 - precision: 0.8617 - recall: 0.7441 - binary cross entropy: 0.4816 - binary IoU: 0.5908\n",
            "Epoch 13/50\n",
            "21962/21962 [==============================] - 128s 6ms/step - loss: 0.4816 - accuracy: 0.7532 - precision: 0.8633 - recall: 0.7420 - binary cross entropy: 0.4816 - binary IoU: 0.5911\n",
            "Epoch 14/50\n",
            "21962/21962 [==============================] - 129s 6ms/step - loss: 0.4816 - accuracy: 0.7532 - precision: 0.8623 - recall: 0.7433 - binary cross entropy: 0.4816 - binary IoU: 0.5909\n",
            "Epoch 15/50\n",
            "21962/21962 [==============================] - 128s 6ms/step - loss: 0.4816 - accuracy: 0.7532 - precision: 0.8622 - recall: 0.7433 - binary cross entropy: 0.4816 - binary IoU: 0.5908\n",
            "Epoch 16/50\n",
            "21962/21962 [==============================] - 128s 6ms/step - loss: 0.4816 - accuracy: 0.7532 - precision: 0.8617 - recall: 0.7439 - binary cross entropy: 0.4816 - binary IoU: 0.5908\n",
            "Epoch 17/50\n",
            "21962/21962 [==============================] - 130s 6ms/step - loss: 0.4816 - accuracy: 0.7532 - precision: 0.8622 - recall: 0.7434 - binary cross entropy: 0.4816 - binary IoU: 0.5909\n",
            "Epoch 18/50\n",
            "21962/21962 [==============================] - 131s 6ms/step - loss: 0.4815 - accuracy: 0.7532 - precision: 0.8628 - recall: 0.7427 - binary cross entropy: 0.4815 - binary IoU: 0.5910\n",
            "Epoch 19/50\n",
            "21962/21962 [==============================] - 133s 6ms/step - loss: 0.4815 - accuracy: 0.7532 - precision: 0.8619 - recall: 0.7437 - binary cross entropy: 0.4815 - binary IoU: 0.5909\n",
            "Epoch 20/50\n",
            "21962/21962 [==============================] - 134s 6ms/step - loss: 0.4815 - accuracy: 0.7533 - precision: 0.8620 - recall: 0.7438 - binary cross entropy: 0.4815 - binary IoU: 0.5909\n",
            "Epoch 21/50\n",
            "21962/21962 [==============================] - 132s 6ms/step - loss: 0.4815 - accuracy: 0.7533 - precision: 0.8624 - recall: 0.7433 - binary cross entropy: 0.4815 - binary IoU: 0.5910\n",
            "Epoch 22/50\n",
            "21962/21962 [==============================] - 132s 6ms/step - loss: 0.4815 - accuracy: 0.7532 - precision: 0.8619 - recall: 0.7437 - binary cross entropy: 0.4815 - binary IoU: 0.5909\n",
            "Epoch 23/50\n",
            "21962/21962 [==============================] - 132s 6ms/step - loss: 0.4815 - accuracy: 0.7533 - precision: 0.8632 - recall: 0.7424 - binary cross entropy: 0.4815 - binary IoU: 0.5912\n",
            "Epoch 24/50\n",
            "21962/21962 [==============================] - 131s 6ms/step - loss: 0.4815 - accuracy: 0.7532 - precision: 0.8625 - recall: 0.7431 - binary cross entropy: 0.4815 - binary IoU: 0.5910\n",
            "Epoch 25/50\n",
            "21962/21962 [==============================] - 130s 6ms/step - loss: 0.4815 - accuracy: 0.7533 - precision: 0.8622 - recall: 0.7435 - binary cross entropy: 0.4815 - binary IoU: 0.5910\n",
            "Epoch 26/50\n",
            "21962/21962 [==============================] - 131s 6ms/step - loss: 0.4815 - accuracy: 0.7532 - precision: 0.8628 - recall: 0.7427 - binary cross entropy: 0.4815 - binary IoU: 0.5910\n",
            "Epoch 27/50\n",
            "21962/21962 [==============================] - 131s 6ms/step - loss: 0.4814 - accuracy: 0.7532 - precision: 0.8622 - recall: 0.7433 - binary cross entropy: 0.4814 - binary IoU: 0.5909\n",
            "Epoch 28/50\n",
            "21962/21962 [==============================] - 129s 6ms/step - loss: 0.4815 - accuracy: 0.7532 - precision: 0.8626 - recall: 0.7429 - binary cross entropy: 0.4815 - binary IoU: 0.5909\n",
            "Epoch 29/50\n",
            "21962/21962 [==============================] - 130s 6ms/step - loss: 0.4814 - accuracy: 0.7532 - precision: 0.8632 - recall: 0.7421 - binary cross entropy: 0.4814 - binary IoU: 0.5910\n",
            "Epoch 30/50\n",
            "21962/21962 [==============================] - 130s 6ms/step - loss: 0.4814 - accuracy: 0.7533 - precision: 0.8631 - recall: 0.7426 - binary cross entropy: 0.4814 - binary IoU: 0.5912\n",
            "Epoch 31/50\n",
            "21962/21962 [==============================] - 130s 6ms/step - loss: 0.4814 - accuracy: 0.7533 - precision: 0.8634 - recall: 0.7421 - binary cross entropy: 0.4814 - binary IoU: 0.5912\n",
            "Epoch 32/50\n",
            "21962/21962 [==============================] - 129s 6ms/step - loss: 0.4814 - accuracy: 0.7534 - precision: 0.8630 - recall: 0.7427 - binary cross entropy: 0.4814 - binary IoU: 0.5912\n",
            "Epoch 33/50\n",
            "21962/21962 [==============================] - 129s 6ms/step - loss: 0.4814 - accuracy: 0.7533 - precision: 0.8634 - recall: 0.7421 - binary cross entropy: 0.4814 - binary IoU: 0.5913\n",
            "Epoch 34/50\n",
            "21962/21962 [==============================] - 129s 6ms/step - loss: 0.4814 - accuracy: 0.7533 - precision: 0.8634 - recall: 0.7421 - binary cross entropy: 0.4814 - binary IoU: 0.5912\n",
            "Epoch 35/50\n",
            "21962/21962 [==============================] - 129s 6ms/step - loss: 0.4814 - accuracy: 0.7533 - precision: 0.8634 - recall: 0.7421 - binary cross entropy: 0.4814 - binary IoU: 0.5912\n",
            "Epoch 36/50\n",
            "21962/21962 [==============================] - 130s 6ms/step - loss: 0.4814 - accuracy: 0.7534 - precision: 0.8638 - recall: 0.7418 - binary cross entropy: 0.4814 - binary IoU: 0.5914\n",
            "Epoch 37/50\n",
            "21962/21962 [==============================] - 129s 6ms/step - loss: 0.4814 - accuracy: 0.7533 - precision: 0.8629 - recall: 0.7426 - binary cross entropy: 0.4814 - binary IoU: 0.5911\n",
            "Epoch 38/50\n",
            "21962/21962 [==============================] - 131s 6ms/step - loss: 0.4814 - accuracy: 0.7533 - precision: 0.8633 - recall: 0.7422 - binary cross entropy: 0.4814 - binary IoU: 0.5912\n",
            "Epoch 39/50\n",
            "21962/21962 [==============================] - 129s 6ms/step - loss: 0.4814 - accuracy: 0.7532 - precision: 0.8634 - recall: 0.7420 - binary cross entropy: 0.4814 - binary IoU: 0.5911\n",
            "Epoch 40/50\n",
            "21962/21962 [==============================] - 131s 6ms/step - loss: 0.4814 - accuracy: 0.7532 - precision: 0.8622 - recall: 0.7435 - binary cross entropy: 0.4814 - binary IoU: 0.5909\n",
            "Epoch 41/50\n",
            "21962/21962 [==============================] - 131s 6ms/step - loss: 0.4813 - accuracy: 0.7532 - precision: 0.8625 - recall: 0.7431 - binary cross entropy: 0.4813 - binary IoU: 0.5910\n",
            "Epoch 42/50\n",
            "21962/21962 [==============================] - 131s 6ms/step - loss: 0.4814 - accuracy: 0.7533 - precision: 0.8628 - recall: 0.7427 - binary cross entropy: 0.4814 - binary IoU: 0.5911\n",
            "Epoch 43/50\n",
            "21962/21962 [==============================] - 131s 6ms/step - loss: 0.4814 - accuracy: 0.7533 - precision: 0.8635 - recall: 0.7419 - binary cross entropy: 0.4814 - binary IoU: 0.5912\n",
            "Epoch 44/50\n",
            "21962/21962 [==============================] - 131s 6ms/step - loss: 0.4814 - accuracy: 0.7533 - precision: 0.8633 - recall: 0.7422 - binary cross entropy: 0.4814 - binary IoU: 0.5912\n",
            "Epoch 45/50\n",
            "21962/21962 [==============================] - 132s 6ms/step - loss: 0.4813 - accuracy: 0.7533 - precision: 0.8640 - recall: 0.7414 - binary cross entropy: 0.4813 - binary IoU: 0.5913\n",
            "Epoch 46/50\n",
            "21962/21962 [==============================] - 131s 6ms/step - loss: 0.4813 - accuracy: 0.7533 - precision: 0.8638 - recall: 0.7417 - binary cross entropy: 0.4813 - binary IoU: 0.5914\n",
            "Epoch 47/50\n",
            "21962/21962 [==============================] - 131s 6ms/step - loss: 0.4813 - accuracy: 0.7534 - precision: 0.8631 - recall: 0.7426 - binary cross entropy: 0.4813 - binary IoU: 0.5912\n",
            "Epoch 48/50\n",
            "21962/21962 [==============================] - 132s 6ms/step - loss: 0.4813 - accuracy: 0.7533 - precision: 0.8626 - recall: 0.7431 - binary cross entropy: 0.4813 - binary IoU: 0.5911\n",
            "Epoch 49/50\n",
            "21962/21962 [==============================] - 131s 6ms/step - loss: 0.4813 - accuracy: 0.7532 - precision: 0.8628 - recall: 0.7427 - binary cross entropy: 0.4813 - binary IoU: 0.5910\n",
            "Epoch 50/50\n",
            "21962/21962 [==============================] - 131s 6ms/step - loss: 0.4813 - accuracy: 0.7533 - precision: 0.8627 - recall: 0.7429 - binary cross entropy: 0.4813 - binary IoU: 0.5911\n",
            "Model: \"sequential_36\"\n",
            "_________________________________________________________________\n",
            " Layer (type)                Output Shape              Param #   \n",
            "=================================================================\n",
            " lstm_7 (LSTM)               (None, 128)               66560     \n",
            "                                                                 \n",
            " relu1Layer (Dense)          (None, 128)               16512     \n",
            "                                                                 \n",
            " relu2Layer (Dense)          (None, 256)               33024     \n",
            "                                                                 \n",
            " relu3Layer (Dense)          (None, 256)               65792     \n",
            "                                                                 \n",
            " sigmoidLayer (Dense)        (None, 1)                 257       \n",
            "                                                                 \n",
            "=================================================================\n",
            "Total params: 182,145\n",
            "Trainable params: 182,145\n",
            "Non-trainable params: 0\n",
            "_________________________________________________________________\n",
            "27453/27453 [==============================] - 51s 2ms/step\n",
            "Accuracy: 0.7520\n",
            "Precision: 0.8645\n",
            "Recall: 0.7388\n",
            "LTSM - finished!\n"
          ]
        },
        {
          "output_type": "display_data",
          "data": {
            "text/plain": [
              "<Figure size 1800x800 with 1 Axes>"
            ],
            "image/png": "[encoded data removed]"
          },
          "metadata": {}
        }
      ]
    },
    {
      "cell_type": "code",
      "source": [
        "# Load the TensorBoard notebook extension\n",
        "%load_ext tensorboard"
      ],
      "metadata": {
        "id": "L3iGzqHFVf-h"
      },
      "execution_count": null,
      "outputs": []
    }
  ]
}