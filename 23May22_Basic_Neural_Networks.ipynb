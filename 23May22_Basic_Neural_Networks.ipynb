{
  "nbformat": 4,
  "nbformat_minor": 0,
  "metadata": {
    "colab": {
      "provenance": [],
      "machine_shape": "hm",
      "gpuType": "T4",
      "authorship_tag": "ABX9TyOgYEVCfwoegYONJHm5u77T",
      "include_colab_link": true
    },
    "kernelspec": {
      "name": "python3",
      "display_name": "Python 3"
    },
    "language_info": {
      "name": "python"
    },
    "accelerator": "GPU",
    "gpuClass": "standard"
  },
  "cells": [
    {
      "cell_type": "markdown",
      "metadata": {
        "id": "view-in-github",
        "colab_type": "text"
      },
      "source": [
        "<a href=\"https://colab.research.google.com/github/megsdata/sEMG_SupervisedLearning/blob/main/23May22_Basic_Neural_Networks.ipynb\" target=\"_parent\"><img src=\"https://colab.research.google.com/assets/colab-badge.svg\" alt=\"Open In Colab\"/></a>"
      ]
    },
    {
      "cell_type": "code",
      "execution_count": 3,
      "metadata": {
        "id": "blOYjYQr6ZDj"
      },
      "outputs": [],
      "source": [
        "import pandas as pd\n",
        "import numpy as np\n",
        "import matplotlib.pyplot as plt"
      ]
    },
    {
      "cell_type": "code",
      "source": [
        "from google.colab import drive\n",
        "drive.mount('/MSC_THESIS')"
      ],
      "metadata": {
        "id": "7f56ggMv615g",
        "colab": {
          "base_uri": "https://localhost:8080/"
        },
        "outputId": "0518be76-cbba-4150-cfbe-2600aec86df7"
      },
      "execution_count": 1,
      "outputs": [
        {
          "output_type": "stream",
          "name": "stdout",
          "text": [
            "Mounted at /MSC_THESIS\n"
          ]
        }
      ]
    },
    {
      "cell_type": "code",
      "source": [
        "%cd /MSC_THESIS/MyDrive/School - Ryerson Graduate/MSC_THESIS\n",
        "!ls\n",
        "df = pd.read_excel('22-May-2023_DEEP_LEARNING_3subjects.xlsx')\n",
        "df.head().T"
      ],
      "metadata": {
        "colab": {
          "base_uri": "https://localhost:8080/",
          "height": 707
        },
        "id": "xKW-pwimQtA8",
        "outputId": "ef3782be-5a4e-4e80-cd7e-6ec2caefb1f0"
      },
      "execution_count": 4,
      "outputs": [
        {
          "metadata": {
            "tags": null
          },
          "name": "stdout",
          "output_type": "stream",
          "text": [
            "/MSC_THESIS/MyDrive/School - Ryerson Graduate/MSC_THESIS\n",
            "21-May-2023_COMBINED_ENC.xlsx\t\t  30-Apr-2023_COMBINED.xlsx\n",
            "21-May-2023_COMBINED.xlsx\t\t  deep_learning_experiments.ipynb\n",
            "22-May-2023_DEEP_LEARNING_3subjects.xlsx  results\n",
            "23Apr30_42samples_classical.ipynb\t  results.pdf\n",
            "23May10_42samples_classical.ipynb\t  supervised_learning.ipynb\n",
            "23May21_46samples_classical.ipynb\n"
          ]
        },
        {
          "output_type": "execute_result",
          "data": {
            "text/plain": [
              "                                    0             1             2  \\\n",
              "ParticipantID               10.000000     10.000000     10.000000   \n",
              "TrialID                    101.000000    101.000000    101.000000   \n",
              "TrialType                    1.000000      1.000000      1.000000   \n",
              "PulseWidth                   2.299034      2.299034      2.299034   \n",
              "ContractionStartTime_s_      8.792034      8.792034      8.792034   \n",
              "ContractionEndTime_s_       11.091069     11.091069     11.091069   \n",
              "ContractionNo                1.000000      1.000000      1.000000   \n",
              "PainLabel                    1.000000      1.000000      1.000000   \n",
              "Time_s_                      8.792200      8.792400      8.792600   \n",
              "EMG_mv_                     27.455004     36.682096     48.090407   \n",
              "Pulse                      477.000000    478.000000    477.000000   \n",
              "Stimulus                     7.000000      7.000000      7.000000   \n",
              "MMG_x                       10.342046     10.282717     10.217472   \n",
              "MMG_y                        5.195228      5.219011      5.229001   \n",
              "MMG_z                        0.737273      0.749334      0.761723   \n",
              "Ch7                        609.000000    608.000000    609.000000   \n",
              "Ch8                      65535.000000  65535.000000  65535.000000   \n",
              "\n",
              "                                    3             4  \n",
              "ParticipantID               10.000000     10.000000  \n",
              "TrialID                    101.000000    101.000000  \n",
              "TrialType                    1.000000      1.000000  \n",
              "PulseWidth                   2.299034      2.299034  \n",
              "ContractionStartTime_s_      8.792034      8.792034  \n",
              "ContractionEndTime_s_       11.091069     11.091069  \n",
              "ContractionNo                1.000000      1.000000  \n",
              "PainLabel                    1.000000      1.000000  \n",
              "Time_s_                      8.792800      8.793000  \n",
              "EMG_mv_                     57.477865     55.186837  \n",
              "Pulse                      477.000000    478.000000  \n",
              "Stimulus                     7.000000      7.000000  \n",
              "MMG_x                       10.146210     10.068812  \n",
              "MMG_y                        5.224942      5.206570  \n",
              "MMG_z                        0.773952      0.785494  \n",
              "Ch7                        609.000000    608.000000  \n",
              "Ch8                      65535.000000  65535.000000  "
            ],
            "text/html": [
              "\n",
              "  <div id=\"df-32471c3e-c611-4367-b850-c736100c498a\">\n",
              "    <div class=\"colab-df-container\">\n",
              "      <div>\n",
              "<style scoped>\n",
              "    .dataframe tbody tr th:only-of-type {\n",
              "        vertical-align: middle;\n",
              "    }\n",
              "\n",
              "    .dataframe tbody tr th {\n",
              "        vertical-align: top;\n",
              "    }\n",
              "\n",
              "    .dataframe thead th {\n",
              "        text-align: right;\n",
              "    }\n",
              "</style>\n",
              "<table border=\"1\" class=\"dataframe\">\n",
              "  <thead>\n",
              "    <tr style=\"text-align: right;\">\n",
              "      <th></th>\n",
              "      <th>0</th>\n",
              "      <th>1</th>\n",
              "      <th>2</th>\n",
              "      <th>3</th>\n",
              "      <th>4</th>\n",
              "    </tr>\n",
              "  </thead>\n",
              "  <tbody>\n",
              "    <tr>\n",
              "      <th>ParticipantID</th>\n",
              "      <td>10.000000</td>\n",
              "      <td>10.000000</td>\n",
              "      <td>10.000000</td>\n",
              "      <td>10.000000</td>\n",
              "      <td>10.000000</td>\n",
              "    </tr>\n",
              "    <tr>\n",
              "      <th>TrialID</th>\n",
              "      <td>101.000000</td>\n",
              "      <td>101.000000</td>\n",
              "      <td>101.000000</td>\n",
              "      <td>101.000000</td>\n",
              "      <td>101.000000</td>\n",
              "    </tr>\n",
              "    <tr>\n",
              "      <th>TrialType</th>\n",
              "      <td>1.000000</td>\n",
              "      <td>1.000000</td>\n",
              "      <td>1.000000</td>\n",
              "      <td>1.000000</td>\n",
              "      <td>1.000000</td>\n",
              "    </tr>\n",
              "    <tr>\n",
              "      <th>PulseWidth</th>\n",
              "      <td>2.299034</td>\n",
              "      <td>2.299034</td>\n",
              "      <td>2.299034</td>\n",
              "      <td>2.299034</td>\n",
              "      <td>2.299034</td>\n",
              "    </tr>\n",
              "    <tr>\n",
              "      <th>ContractionStartTime_s_</th>\n",
              "      <td>8.792034</td>\n",
              "      <td>8.792034</td>\n",
              "      <td>8.792034</td>\n",
              "      <td>8.792034</td>\n",
              "      <td>8.792034</td>\n",
              "    </tr>\n",
              "    <tr>\n",
              "      <th>ContractionEndTime_s_</th>\n",
              "      <td>11.091069</td>\n",
              "      <td>11.091069</td>\n",
              "      <td>11.091069</td>\n",
              "      <td>11.091069</td>\n",
              "      <td>11.091069</td>\n",
              "    </tr>\n",
              "    <tr>\n",
              "      <th>ContractionNo</th>\n",
              "      <td>1.000000</td>\n",
              "      <td>1.000000</td>\n",
              "      <td>1.000000</td>\n",
              "      <td>1.000000</td>\n",
              "      <td>1.000000</td>\n",
              "    </tr>\n",
              "    <tr>\n",
              "      <th>PainLabel</th>\n",
              "      <td>1.000000</td>\n",
              "      <td>1.000000</td>\n",
              "      <td>1.000000</td>\n",
              "      <td>1.000000</td>\n",
              "      <td>1.000000</td>\n",
              "    </tr>\n",
              "    <tr>\n",
              "      <th>Time_s_</th>\n",
              "      <td>8.792200</td>\n",
              "      <td>8.792400</td>\n",
              "      <td>8.792600</td>\n",
              "      <td>8.792800</td>\n",
              "      <td>8.793000</td>\n",
              "    </tr>\n",
              "    <tr>\n",
              "      <th>EMG_mv_</th>\n",
              "      <td>27.455004</td>\n",
              "      <td>36.682096</td>\n",
              "      <td>48.090407</td>\n",
              "      <td>57.477865</td>\n",
              "      <td>55.186837</td>\n",
              "    </tr>\n",
              "    <tr>\n",
              "      <th>Pulse</th>\n",
              "      <td>477.000000</td>\n",
              "      <td>478.000000</td>\n",
              "      <td>477.000000</td>\n",
              "      <td>477.000000</td>\n",
              "      <td>478.000000</td>\n",
              "    </tr>\n",
              "    <tr>\n",
              "      <th>Stimulus</th>\n",
              "      <td>7.000000</td>\n",
              "      <td>7.000000</td>\n",
              "      <td>7.000000</td>\n",
              "      <td>7.000000</td>\n",
              "      <td>7.000000</td>\n",
              "    </tr>\n",
              "    <tr>\n",
              "      <th>MMG_x</th>\n",
              "      <td>10.342046</td>\n",
              "      <td>10.282717</td>\n",
              "      <td>10.217472</td>\n",
              "      <td>10.146210</td>\n",
              "      <td>10.068812</td>\n",
              "    </tr>\n",
              "    <tr>\n",
              "      <th>MMG_y</th>\n",
              "      <td>5.195228</td>\n",
              "      <td>5.219011</td>\n",
              "      <td>5.229001</td>\n",
              "      <td>5.224942</td>\n",
              "      <td>5.206570</td>\n",
              "    </tr>\n",
              "    <tr>\n",
              "      <th>MMG_z</th>\n",
              "      <td>0.737273</td>\n",
              "      <td>0.749334</td>\n",
              "      <td>0.761723</td>\n",
              "      <td>0.773952</td>\n",
              "      <td>0.785494</td>\n",
              "    </tr>\n",
              "    <tr>\n",
              "      <th>Ch7</th>\n",
              "      <td>609.000000</td>\n",
              "      <td>608.000000</td>\n",
              "      <td>609.000000</td>\n",
              "      <td>609.000000</td>\n",
              "      <td>608.000000</td>\n",
              "    </tr>\n",
              "    <tr>\n",
              "      <th>Ch8</th>\n",
              "      <td>65535.000000</td>\n",
              "      <td>65535.000000</td>\n",
              "      <td>65535.000000</td>\n",
              "      <td>65535.000000</td>\n",
              "      <td>65535.000000</td>\n",
              "    </tr>\n",
              "  </tbody>\n",
              "</table>\n",
              "</div>\n",
              "      <button class=\"colab-df-convert\" onclick=\"convertToInteractive('df-32471c3e-c611-4367-b850-c736100c498a')\"\n",
              "              title=\"Convert this dataframe to an interactive table.\"\n",
              "              style=\"display:none;\">\n",
              "        \n",
              "  <svg xmlns=\"http://www.w3.org/2000/svg\" height=\"24px\"viewBox=\"0 0 24 24\"\n",
              "       width=\"24px\">\n",
              "    <path d=\"M0 0h24v24H0V0z\" fill=\"none\"/>\n",
              "    <path d=\"M18.56 5.44l.94 2.06.94-2.06 2.06-.94-2.06-.94-.94-2.06-.94 2.06-2.06.94zm-11 1L8.5 8.5l.94-2.06 2.06-.94-2.06-.94L8.5 2.5l-.94 2.06-2.06.94zm10 10l.94 2.06.94-2.06 2.06-.94-2.06-.94-.94-2.06-.94 2.06-2.06.94z\"/><path d=\"M17.41 7.96l-1.37-1.37c-.4-.4-.92-.59-1.43-.59-.52 0-1.04.2-1.43.59L10.3 9.45l-7.72 7.72c-.78.78-.78 2.05 0 2.83L4 21.41c.39.39.9.59 1.41.59.51 0 1.02-.2 1.41-.59l7.78-7.78 2.81-2.81c.8-.78.8-2.07 0-2.86zM5.41 20L4 18.59l7.72-7.72 1.47 1.35L5.41 20z\"/>\n",
              "  </svg>\n",
              "      </button>\n",
              "      \n",
              "  <style>\n",
              "    .colab-df-container {\n",
              "      display:flex;\n",
              "      flex-wrap:wrap;\n",
              "      gap: 12px;\n",
              "    }\n",
              "\n",
              "    .colab-df-convert {\n",
              "      background-color: #E8F0FE;\n",
              "      border: none;\n",
              "      border-radius: 50%;\n",
              "      cursor: pointer;\n",
              "      display: none;\n",
              "      fill: #1967D2;\n",
              "      height: 32px;\n",
              "      padding: 0 0 0 0;\n",
              "      width: 32px;\n",
              "    }\n",
              "\n",
              "    .colab-df-convert:hover {\n",
              "      background-color: #E2EBFA;\n",
              "      box-shadow: 0px 1px 2px rgba(60, 64, 67, 0.3), 0px 1px 3px 1px rgba(60, 64, 67, 0.15);\n",
              "      fill: #174EA6;\n",
              "    }\n",
              "\n",
              "    [theme=dark] .colab-df-convert {\n",
              "      background-color: #3B4455;\n",
              "      fill: #D2E3FC;\n",
              "    }\n",
              "\n",
              "    [theme=dark] .colab-df-convert:hover {\n",
              "      background-color: #434B5C;\n",
              "      box-shadow: 0px 1px 3px 1px rgba(0, 0, 0, 0.15);\n",
              "      filter: drop-shadow(0px 1px 2px rgba(0, 0, 0, 0.3));\n",
              "      fill: #FFFFFF;\n",
              "    }\n",
              "  </style>\n",
              "\n",
              "      <script>\n",
              "        const buttonEl =\n",
              "          document.querySelector('#df-32471c3e-c611-4367-b850-c736100c498a button.colab-df-convert');\n",
              "        buttonEl.style.display =\n",
              "          google.colab.kernel.accessAllowed ? 'block' : 'none';\n",
              "\n",
              "        async function convertToInteractive(key) {\n",
              "          const element = document.querySelector('#df-32471c3e-c611-4367-b850-c736100c498a');\n",
              "          const dataTable =\n",
              "            await google.colab.kernel.invokeFunction('convertToInteractive',\n",
              "                                                     [key], {});\n",
              "          if (!dataTable) return;\n",
              "\n",
              "          const docLinkHtml = 'Like what you see? Visit the ' +\n",
              "            '<a target=\"_blank\" href=https://colab.research.google.com/notebooks/data_table.ipynb>data table notebook</a>'\n",
              "            + ' to learn more about interactive tables.';\n",
              "          element.innerHTML = '';\n",
              "          dataTable['output_type'] = 'display_data';\n",
              "          await google.colab.output.renderOutput(dataTable, element);\n",
              "          const docLink = document.createElement('div');\n",
              "          docLink.innerHTML = docLinkHtml;\n",
              "          element.appendChild(docLink);\n",
              "        }\n",
              "      </script>\n",
              "    </div>\n",
              "  </div>\n",
              "  "
            ]
          },
          "metadata": {},
          "execution_count": 4
        }
      ]
    },
    {
      "cell_type": "code",
      "source": [
        "#select features\n",
        "X = df[['EMG_mv_', 'PulseWidth']]\n",
        "y = df['PainLabel']"
      ],
      "metadata": {
        "id": "iv8ip7YMRfoi"
      },
      "execution_count": 11,
      "outputs": []
    },
    {
      "cell_type": "code",
      "source": [
        "#create data split\n",
        "from sklearn.model_selection import train_test_split\n",
        "X_train, X_test, y_train, y_test = train_test_split(X, y, test_size=0.2, random_state=42)\n",
        "X_train, X_val, y_train, y_val = train_test_split(X_train, y_train, test_size=0.2, random_state=42)"
      ],
      "metadata": {
        "id": "4GP7Q1ZdQtky"
      },
      "execution_count": 12,
      "outputs": []
    },
    {
      "cell_type": "markdown",
      "source": [
        "Fully Connected Multi-Layer Perceptron"
      ],
      "metadata": {
        "id": "BJ-rQsZCWZSj"
      }
    },
    {
      "cell_type": "code",
      "source": [
        "from sklearn.neural_network import MLPClassifier\n",
        "clf = MLPClassifier(hidden_layer_sizes=(6,5),\n",
        "                    random_state=5,\n",
        "                    verbose=True,\n",
        "                    learning_rate_init=0.01)\n",
        "clf.fit(X_train,y_train)"
      ],
      "metadata": {
        "colab": {
          "base_uri": "https://localhost:8080/",
          "height": 717
        },
        "id": "sFVuC_B3UVHM",
        "outputId": "96c32539-5804-45f9-b158-72f7dc200d66"
      },
      "execution_count": 13,
      "outputs": [
        {
          "output_type": "stream",
          "name": "stdout",
          "text": [
            "Iteration 1, loss = 0.19220624\n",
            "Iteration 2, loss = 0.09812790\n",
            "Iteration 3, loss = 0.08449747\n",
            "Iteration 4, loss = 0.08230067\n",
            "Iteration 5, loss = 0.07936839\n",
            "Iteration 6, loss = 0.07914195\n",
            "Iteration 7, loss = 0.07479415\n",
            "Iteration 8, loss = 0.07769555\n",
            "Iteration 9, loss = 0.07626287\n",
            "Iteration 10, loss = 0.07288082\n",
            "Iteration 11, loss = 0.07148175\n",
            "Iteration 12, loss = 0.07270412\n",
            "Iteration 13, loss = 0.07317760\n",
            "Iteration 14, loss = 0.07695082\n",
            "Iteration 15, loss = 0.07401937\n",
            "Iteration 16, loss = 0.07412186\n",
            "Iteration 17, loss = 0.07224974\n",
            "Iteration 18, loss = 0.07180158\n",
            "Iteration 19, loss = 0.07191779\n",
            "Iteration 20, loss = 0.07061667\n",
            "Iteration 21, loss = 0.07049938\n",
            "Iteration 22, loss = 0.07560393\n",
            "Iteration 23, loss = 0.06915324\n",
            "Iteration 24, loss = 0.07094769\n",
            "Iteration 25, loss = 0.07492547\n",
            "Iteration 26, loss = 0.07354193\n",
            "Iteration 27, loss = 0.07117597\n",
            "Iteration 28, loss = 0.07653988\n",
            "Iteration 29, loss = 0.07471582\n",
            "Iteration 30, loss = 0.07351252\n",
            "Iteration 31, loss = 0.07057040\n",
            "Iteration 32, loss = 0.07171944\n",
            "Iteration 33, loss = 0.07267694\n",
            "Iteration 34, loss = 0.07984333\n",
            "Training loss did not improve more than tol=0.000100 for 10 consecutive epochs. Stopping.\n"
          ]
        },
        {
          "output_type": "execute_result",
          "data": {
            "text/plain": [
              "MLPClassifier(hidden_layer_sizes=(6, 5), learning_rate_init=0.01,\n",
              "              random_state=5, verbose=True)"
            ],
            "text/html": [
              "<style>#sk-container-id-1 {color: black;background-color: white;}#sk-container-id-1 pre{padding: 0;}#sk-container-id-1 div.sk-toggleable {background-color: white;}#sk-container-id-1 label.sk-toggleable__label {cursor: pointer;display: block;width: 100%;margin-bottom: 0;padding: 0.3em;box-sizing: border-box;text-align: center;}#sk-container-id-1 label.sk-toggleable__label-arrow:before {content: \"▸\";float: left;margin-right: 0.25em;color: #696969;}#sk-container-id-1 label.sk-toggleable__label-arrow:hover:before {color: black;}#sk-container-id-1 div.sk-estimator:hover label.sk-toggleable__label-arrow:before {color: black;}#sk-container-id-1 div.sk-toggleable__content {max-height: 0;max-width: 0;overflow: hidden;text-align: left;background-color: #f0f8ff;}#sk-container-id-1 div.sk-toggleable__content pre {margin: 0.2em;color: black;border-radius: 0.25em;background-color: #f0f8ff;}#sk-container-id-1 input.sk-toggleable__control:checked~div.sk-toggleable__content {max-height: 200px;max-width: 100%;overflow: auto;}#sk-container-id-1 input.sk-toggleable__control:checked~label.sk-toggleable__label-arrow:before {content: \"▾\";}#sk-container-id-1 div.sk-estimator input.sk-toggleable__control:checked~label.sk-toggleable__label {background-color: #d4ebff;}#sk-container-id-1 div.sk-label input.sk-toggleable__control:checked~label.sk-toggleable__label {background-color: #d4ebff;}#sk-container-id-1 input.sk-hidden--visually {border: 0;clip: rect(1px 1px 1px 1px);clip: rect(1px, 1px, 1px, 1px);height: 1px;margin: -1px;overflow: hidden;padding: 0;position: absolute;width: 1px;}#sk-container-id-1 div.sk-estimator {font-family: monospace;background-color: #f0f8ff;border: 1px dotted black;border-radius: 0.25em;box-sizing: border-box;margin-bottom: 0.5em;}#sk-container-id-1 div.sk-estimator:hover {background-color: #d4ebff;}#sk-container-id-1 div.sk-parallel-item::after {content: \"\";width: 100%;border-bottom: 1px solid gray;flex-grow: 1;}#sk-container-id-1 div.sk-label:hover label.sk-toggleable__label {background-color: #d4ebff;}#sk-container-id-1 div.sk-serial::before {content: \"\";position: absolute;border-left: 1px solid gray;box-sizing: border-box;top: 0;bottom: 0;left: 50%;z-index: 0;}#sk-container-id-1 div.sk-serial {display: flex;flex-direction: column;align-items: center;background-color: white;padding-right: 0.2em;padding-left: 0.2em;position: relative;}#sk-container-id-1 div.sk-item {position: relative;z-index: 1;}#sk-container-id-1 div.sk-parallel {display: flex;align-items: stretch;justify-content: center;background-color: white;position: relative;}#sk-container-id-1 div.sk-item::before, #sk-container-id-1 div.sk-parallel-item::before {content: \"\";position: absolute;border-left: 1px solid gray;box-sizing: border-box;top: 0;bottom: 0;left: 50%;z-index: -1;}#sk-container-id-1 div.sk-parallel-item {display: flex;flex-direction: column;z-index: 1;position: relative;background-color: white;}#sk-container-id-1 div.sk-parallel-item:first-child::after {align-self: flex-end;width: 50%;}#sk-container-id-1 div.sk-parallel-item:last-child::after {align-self: flex-start;width: 50%;}#sk-container-id-1 div.sk-parallel-item:only-child::after {width: 0;}#sk-container-id-1 div.sk-dashed-wrapped {border: 1px dashed gray;margin: 0 0.4em 0.5em 0.4em;box-sizing: border-box;padding-bottom: 0.4em;background-color: white;}#sk-container-id-1 div.sk-label label {font-family: monospace;font-weight: bold;display: inline-block;line-height: 1.2em;}#sk-container-id-1 div.sk-label-container {text-align: center;}#sk-container-id-1 div.sk-container {/* jupyter's `normalize.less` sets `[hidden] { display: none; }` but bootstrap.min.css set `[hidden] { display: none !important; }` so we also need the `!important` here to be able to override the default hidden behavior on the sphinx rendered scikit-learn.org. See: https://github.com/scikit-learn/scikit-learn/issues/21755 */display: inline-block !important;position: relative;}#sk-container-id-1 div.sk-text-repr-fallback {display: none;}</style><div id=\"sk-container-id-1\" class=\"sk-top-container\"><div class=\"sk-text-repr-fallback\"><pre>MLPClassifier(hidden_layer_sizes=(6, 5), learning_rate_init=0.01,\n",
              "              random_state=5, verbose=True)</pre><b>In a Jupyter environment, please rerun this cell to show the HTML representation or trust the notebook. <br />On GitHub, the HTML representation is unable to render, please try loading this page with nbviewer.org.</b></div><div class=\"sk-container\" hidden><div class=\"sk-item\"><div class=\"sk-estimator sk-toggleable\"><input class=\"sk-toggleable__control sk-hidden--visually\" id=\"sk-estimator-id-1\" type=\"checkbox\" checked><label for=\"sk-estimator-id-1\" class=\"sk-toggleable__label sk-toggleable__label-arrow\">MLPClassifier</label><div class=\"sk-toggleable__content\"><pre>MLPClassifier(hidden_layer_sizes=(6, 5), learning_rate_init=0.01,\n",
              "              random_state=5, verbose=True)</pre></div></div></div></div></div>"
            ]
          },
          "metadata": {},
          "execution_count": 13
        }
      ]
    },
    {
      "cell_type": "code",
      "source": [
        "y_pred=clf.predict(X_test)\n",
        "from sklearn.metrics import accuracy_score\n",
        "accuracy_score(y_test,y_pred)"
      ],
      "metadata": {
        "colab": {
          "base_uri": "https://localhost:8080/"
        },
        "id": "DeszPQ0IVAn2",
        "outputId": "471c92b4-96dc-49d7-cd5d-218237d77c6a"
      },
      "execution_count": 14,
      "outputs": [
        {
          "output_type": "execute_result",
          "data": {
            "text/plain": [
              "0.9686423428303941"
            ]
          },
          "metadata": {},
          "execution_count": 14
        }
      ]
    },
    {
      "cell_type": "markdown",
      "source": [
        "Backprogation Neural Network"
      ],
      "metadata": {
        "id": "t0E9BH9SWOXd"
      }
    },
    {
      "cell_type": "code",
      "source": [],
      "metadata": {
        "id": "X80_77RBWNx9"
      },
      "execution_count": null,
      "outputs": []
    }
  ]
}