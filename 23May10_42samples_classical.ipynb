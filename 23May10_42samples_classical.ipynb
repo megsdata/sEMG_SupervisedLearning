{
  "nbformat": 4,
  "nbformat_minor": 0,
  "metadata": {
    "colab": {
      "provenance": [],
      "machine_shape": "hm",
      "gpuType": "V100",
      "authorship_tag": "ABX9TyM02uFlggBpYAnlkvOtsdP8",
      "include_colab_link": true
    },
    "kernelspec": {
      "name": "python3",
      "display_name": "Python 3"
    },
    "language_info": {
      "name": "python"
    },
    "accelerator": "GPU",
    "gpuClass": "standard"
  },
  "cells": [
    {
      "cell_type": "markdown",
      "metadata": {
        "id": "view-in-github",
        "colab_type": "text"
      },
      "source": [
        "<a href=\"https://colab.research.google.com/github/megsdata/sEMG_SupervisedLearning/blob/main/23May10_42samples_classical.ipynb\" target=\"_parent\"><img src=\"https://colab.research.google.com/assets/colab-badge.svg\" alt=\"Open In Colab\"/></a>"
      ]
    },
    {
      "cell_type": "code",
      "execution_count": 1,
      "metadata": {
        "id": "RG7bCVVaOGaD"
      },
      "outputs": [],
      "source": [
        "import pandas as pd\n",
        "import numpy as np\n",
        "import sklearn\n",
        "import matplotlib.pyplot as plt\n",
        "import seaborn as sns\n",
        "from sklearn.preprocessing import MinMaxScaler\n",
        "from sklearn.model_selection import train_test_split\n",
        "from sklearn.metrics import classification_report, confusion_matrix\n",
        "from sklearn.ensemble import GradientBoostingClassifier"
      ]
    },
    {
      "cell_type": "code",
      "source": [
        "from google.colab import drive\n",
        "drive.mount('/MSC_THESIS')"
      ],
      "metadata": {
        "colab": {
          "base_uri": "https://localhost:8080/"
        },
        "id": "lQfCjPvBOSRM",
        "outputId": "39def5bf-2d6c-48b9-fcd2-a32bdc73098f"
      },
      "execution_count": 2,
      "outputs": [
        {
          "output_type": "stream",
          "name": "stdout",
          "text": [
            "Mounted at /MSC_THESIS\n"
          ]
        }
      ]
    },
    {
      "cell_type": "code",
      "source": [
        "%cd /MSC_THESIS/MyDrive/School - Ryerson Graduate/MSC_THESIS\n",
        "!ls\n",
        "df = pd.read_excel('30-Apr-2023_COMBINED.xlsx')\n",
        "df.head()"
      ],
      "metadata": {
        "colab": {
          "base_uri": "https://localhost:8080/",
          "height": 458
        },
        "id": "55OAOcR8PDRn",
        "outputId": "ccd18743-3edc-4707-f500-0b360ed23c98"
      },
      "execution_count": 13,
      "outputs": [
        {
          "output_type": "stream",
          "name": "stdout",
          "text": [
            "/MSC_THESIS/MyDrive/School - Ryerson Graduate/MSC_THESIS\n",
            "23Apr30_42samples_classical.ipynb  deep_learning_experiments.ipynb\n",
            "23May10_42samples_classical.ipynb  supervised_learning.ipynb\n",
            "30-Apr-2023_COMBINED.xlsx\n"
          ]
        },
        {
          "output_type": "execute_result",
          "data": {
            "text/plain": [
              "      SubjectID  RandomizedGroup_1_ONFirst_2_OFFFirst_ SubjectDataFileNames  \\\n",
              "0  20220124M-01                                      1    20220124M-01_T1ON   \n",
              "1  20220124M-01                                      1    20220124M-01_T1ON   \n",
              "2  20220124M-01                                      1    20220124M-01_T1ON   \n",
              "3  20220124M-01                                      1    20220124M-01_T1ON   \n",
              "4  20220124M-01                                      1    20220124M-01_T1ON   \n",
              "\n",
              "  DateOfCollection_dd_mm_yy_  Sex_0_Male_1_Female_  Age_years_  Height_cm_  \\\n",
              "0                 24/01/2022                     1          23         157   \n",
              "1                 24/01/2022                     1          23         157   \n",
              "2                 24/01/2022                     1          23         157   \n",
              "3                 24/01/2022                     1          23         157   \n",
              "4                 24/01/2022                     1          23         157   \n",
              "\n",
              "   Weight_kg_ DominantL_R_L_  \\\n",
              "0          50              R   \n",
              "1          50              R   \n",
              "2          50              R   \n",
              "3          50              R   \n",
              "4          50              R   \n",
              "\n",
              "   PreviousLowerLimbInjury_toDominantSide___0_no_1_yes_  ... ContractionMean  \\\n",
              "0                                                  0     ...      113.480884   \n",
              "1                                                  0     ...       12.889825   \n",
              "2                                                  0     ...      115.756119   \n",
              "3                                                  0     ...       12.994307   \n",
              "4                                                  0     ...      111.474475   \n",
              "\n",
              "   ContractionVariance  ContractionLength  contractionAOC  meanAbsVal  \\\n",
              "0          8290.825064              10201       10.652741  113.480884   \n",
              "1          1137.703458              49676        3.590240   12.889825   \n",
              "2          7034.838019              10300       10.759002  115.756119   \n",
              "3          1161.930534              49879        3.604762   12.994307   \n",
              "4          7354.813448              10300       10.558147  111.474475   \n",
              "\n",
              "   normalizedMean  normalizedRMS  normalizedStDev  stdError     stdDev  \n",
              "0        0.130835       0.361712         0.104979  0.901524  91.053968  \n",
              "1        0.015035       0.122616         0.039343  0.151336  33.729860  \n",
              "2        0.135018       0.367449         0.097831  0.826434  83.873941  \n",
              "3        0.015193       0.123258         0.039853  0.152627  34.087102  \n",
              "4        0.130332       0.361015         0.100268  0.845020  85.760209  \n",
              "\n",
              "[5 rows x 44 columns]"
            ],
            "text/html": [
              "\n",
              "  <div id=\"df-06499318-2201-4a78-b442-3bc72a17d9d0\">\n",
              "    <div class=\"colab-df-container\">\n",
              "      <div>\n",
              "<style scoped>\n",
              "    .dataframe tbody tr th:only-of-type {\n",
              "        vertical-align: middle;\n",
              "    }\n",
              "\n",
              "    .dataframe tbody tr th {\n",
              "        vertical-align: top;\n",
              "    }\n",
              "\n",
              "    .dataframe thead th {\n",
              "        text-align: right;\n",
              "    }\n",
              "</style>\n",
              "<table border=\"1\" class=\"dataframe\">\n",
              "  <thead>\n",
              "    <tr style=\"text-align: right;\">\n",
              "      <th></th>\n",
              "      <th>SubjectID</th>\n",
              "      <th>RandomizedGroup_1_ONFirst_2_OFFFirst_</th>\n",
              "      <th>SubjectDataFileNames</th>\n",
              "      <th>DateOfCollection_dd_mm_yy_</th>\n",
              "      <th>Sex_0_Male_1_Female_</th>\n",
              "      <th>Age_years_</th>\n",
              "      <th>Height_cm_</th>\n",
              "      <th>Weight_kg_</th>\n",
              "      <th>DominantL_R_L_</th>\n",
              "      <th>PreviousLowerLimbInjury_toDominantSide___0_no_1_yes_</th>\n",
              "      <th>...</th>\n",
              "      <th>ContractionMean</th>\n",
              "      <th>ContractionVariance</th>\n",
              "      <th>ContractionLength</th>\n",
              "      <th>contractionAOC</th>\n",
              "      <th>meanAbsVal</th>\n",
              "      <th>normalizedMean</th>\n",
              "      <th>normalizedRMS</th>\n",
              "      <th>normalizedStDev</th>\n",
              "      <th>stdError</th>\n",
              "      <th>stdDev</th>\n",
              "    </tr>\n",
              "  </thead>\n",
              "  <tbody>\n",
              "    <tr>\n",
              "      <th>0</th>\n",
              "      <td>20220124M-01</td>\n",
              "      <td>1</td>\n",
              "      <td>20220124M-01_T1ON</td>\n",
              "      <td>24/01/2022</td>\n",
              "      <td>1</td>\n",
              "      <td>23</td>\n",
              "      <td>157</td>\n",
              "      <td>50</td>\n",
              "      <td>R</td>\n",
              "      <td>0</td>\n",
              "      <td>...</td>\n",
              "      <td>113.480884</td>\n",
              "      <td>8290.825064</td>\n",
              "      <td>10201</td>\n",
              "      <td>10.652741</td>\n",
              "      <td>113.480884</td>\n",
              "      <td>0.130835</td>\n",
              "      <td>0.361712</td>\n",
              "      <td>0.104979</td>\n",
              "      <td>0.901524</td>\n",
              "      <td>91.053968</td>\n",
              "    </tr>\n",
              "    <tr>\n",
              "      <th>1</th>\n",
              "      <td>20220124M-01</td>\n",
              "      <td>1</td>\n",
              "      <td>20220124M-01_T1ON</td>\n",
              "      <td>24/01/2022</td>\n",
              "      <td>1</td>\n",
              "      <td>23</td>\n",
              "      <td>157</td>\n",
              "      <td>50</td>\n",
              "      <td>R</td>\n",
              "      <td>0</td>\n",
              "      <td>...</td>\n",
              "      <td>12.889825</td>\n",
              "      <td>1137.703458</td>\n",
              "      <td>49676</td>\n",
              "      <td>3.590240</td>\n",
              "      <td>12.889825</td>\n",
              "      <td>0.015035</td>\n",
              "      <td>0.122616</td>\n",
              "      <td>0.039343</td>\n",
              "      <td>0.151336</td>\n",
              "      <td>33.729860</td>\n",
              "    </tr>\n",
              "    <tr>\n",
              "      <th>2</th>\n",
              "      <td>20220124M-01</td>\n",
              "      <td>1</td>\n",
              "      <td>20220124M-01_T1ON</td>\n",
              "      <td>24/01/2022</td>\n",
              "      <td>1</td>\n",
              "      <td>23</td>\n",
              "      <td>157</td>\n",
              "      <td>50</td>\n",
              "      <td>R</td>\n",
              "      <td>0</td>\n",
              "      <td>...</td>\n",
              "      <td>115.756119</td>\n",
              "      <td>7034.838019</td>\n",
              "      <td>10300</td>\n",
              "      <td>10.759002</td>\n",
              "      <td>115.756119</td>\n",
              "      <td>0.135018</td>\n",
              "      <td>0.367449</td>\n",
              "      <td>0.097831</td>\n",
              "      <td>0.826434</td>\n",
              "      <td>83.873941</td>\n",
              "    </tr>\n",
              "    <tr>\n",
              "      <th>3</th>\n",
              "      <td>20220124M-01</td>\n",
              "      <td>1</td>\n",
              "      <td>20220124M-01_T1ON</td>\n",
              "      <td>24/01/2022</td>\n",
              "      <td>1</td>\n",
              "      <td>23</td>\n",
              "      <td>157</td>\n",
              "      <td>50</td>\n",
              "      <td>R</td>\n",
              "      <td>0</td>\n",
              "      <td>...</td>\n",
              "      <td>12.994307</td>\n",
              "      <td>1161.930534</td>\n",
              "      <td>49879</td>\n",
              "      <td>3.604762</td>\n",
              "      <td>12.994307</td>\n",
              "      <td>0.015193</td>\n",
              "      <td>0.123258</td>\n",
              "      <td>0.039853</td>\n",
              "      <td>0.152627</td>\n",
              "      <td>34.087102</td>\n",
              "    </tr>\n",
              "    <tr>\n",
              "      <th>4</th>\n",
              "      <td>20220124M-01</td>\n",
              "      <td>1</td>\n",
              "      <td>20220124M-01_T1ON</td>\n",
              "      <td>24/01/2022</td>\n",
              "      <td>1</td>\n",
              "      <td>23</td>\n",
              "      <td>157</td>\n",
              "      <td>50</td>\n",
              "      <td>R</td>\n",
              "      <td>0</td>\n",
              "      <td>...</td>\n",
              "      <td>111.474475</td>\n",
              "      <td>7354.813448</td>\n",
              "      <td>10300</td>\n",
              "      <td>10.558147</td>\n",
              "      <td>111.474475</td>\n",
              "      <td>0.130332</td>\n",
              "      <td>0.361015</td>\n",
              "      <td>0.100268</td>\n",
              "      <td>0.845020</td>\n",
              "      <td>85.760209</td>\n",
              "    </tr>\n",
              "  </tbody>\n",
              "</table>\n",
              "<p>5 rows × 44 columns</p>\n",
              "</div>\n",
              "      <button class=\"colab-df-convert\" onclick=\"convertToInteractive('df-06499318-2201-4a78-b442-3bc72a17d9d0')\"\n",
              "              title=\"Convert this dataframe to an interactive table.\"\n",
              "              style=\"display:none;\">\n",
              "        \n",
              "  <svg xmlns=\"http://www.w3.org/2000/svg\" height=\"24px\"viewBox=\"0 0 24 24\"\n",
              "       width=\"24px\">\n",
              "    <path d=\"M0 0h24v24H0V0z\" fill=\"none\"/>\n",
              "    <path d=\"M18.56 5.44l.94 2.06.94-2.06 2.06-.94-2.06-.94-.94-2.06-.94 2.06-2.06.94zm-11 1L8.5 8.5l.94-2.06 2.06-.94-2.06-.94L8.5 2.5l-.94 2.06-2.06.94zm10 10l.94 2.06.94-2.06 2.06-.94-2.06-.94-.94-2.06-.94 2.06-2.06.94z\"/><path d=\"M17.41 7.96l-1.37-1.37c-.4-.4-.92-.59-1.43-.59-.52 0-1.04.2-1.43.59L10.3 9.45l-7.72 7.72c-.78.78-.78 2.05 0 2.83L4 21.41c.39.39.9.59 1.41.59.51 0 1.02-.2 1.41-.59l7.78-7.78 2.81-2.81c.8-.78.8-2.07 0-2.86zM5.41 20L4 18.59l7.72-7.72 1.47 1.35L5.41 20z\"/>\n",
              "  </svg>\n",
              "      </button>\n",
              "      \n",
              "  <style>\n",
              "    .colab-df-container {\n",
              "      display:flex;\n",
              "      flex-wrap:wrap;\n",
              "      gap: 12px;\n",
              "    }\n",
              "\n",
              "    .colab-df-convert {\n",
              "      background-color: #E8F0FE;\n",
              "      border: none;\n",
              "      border-radius: 50%;\n",
              "      cursor: pointer;\n",
              "      display: none;\n",
              "      fill: #1967D2;\n",
              "      height: 32px;\n",
              "      padding: 0 0 0 0;\n",
              "      width: 32px;\n",
              "    }\n",
              "\n",
              "    .colab-df-convert:hover {\n",
              "      background-color: #E2EBFA;\n",
              "      box-shadow: 0px 1px 2px rgba(60, 64, 67, 0.3), 0px 1px 3px 1px rgba(60, 64, 67, 0.15);\n",
              "      fill: #174EA6;\n",
              "    }\n",
              "\n",
              "    [theme=dark] .colab-df-convert {\n",
              "      background-color: #3B4455;\n",
              "      fill: #D2E3FC;\n",
              "    }\n",
              "\n",
              "    [theme=dark] .colab-df-convert:hover {\n",
              "      background-color: #434B5C;\n",
              "      box-shadow: 0px 1px 3px 1px rgba(0, 0, 0, 0.15);\n",
              "      filter: drop-shadow(0px 1px 2px rgba(0, 0, 0, 0.3));\n",
              "      fill: #FFFFFF;\n",
              "    }\n",
              "  </style>\n",
              "\n",
              "      <script>\n",
              "        const buttonEl =\n",
              "          document.querySelector('#df-06499318-2201-4a78-b442-3bc72a17d9d0 button.colab-df-convert');\n",
              "        buttonEl.style.display =\n",
              "          google.colab.kernel.accessAllowed ? 'block' : 'none';\n",
              "\n",
              "        async function convertToInteractive(key) {\n",
              "          const element = document.querySelector('#df-06499318-2201-4a78-b442-3bc72a17d9d0');\n",
              "          const dataTable =\n",
              "            await google.colab.kernel.invokeFunction('convertToInteractive',\n",
              "                                                     [key], {});\n",
              "          if (!dataTable) return;\n",
              "\n",
              "          const docLinkHtml = 'Like what you see? Visit the ' +\n",
              "            '<a target=\"_blank\" href=https://colab.research.google.com/notebooks/data_table.ipynb>data table notebook</a>'\n",
              "            + ' to learn more about interactive tables.';\n",
              "          element.innerHTML = '';\n",
              "          dataTable['output_type'] = 'display_data';\n",
              "          await google.colab.output.renderOutput(dataTable, element);\n",
              "          const docLink = document.createElement('div');\n",
              "          docLink.innerHTML = docLinkHtml;\n",
              "          element.appendChild(docLink);\n",
              "        }\n",
              "      </script>\n",
              "    </div>\n",
              "  </div>\n",
              "  "
            ]
          },
          "metadata": {},
          "execution_count": 13
        }
      ]
    },
    {
      "cell_type": "code",
      "source": [
        "#select the labels and features\n",
        "labels = df['NPRS_0_10_']\n",
        "features = df[['RMS', 'ContractionMax', 'ContractionMin', 'ContractionMean', 'ContractionVariance', 'ContractionLength',\\\n",
        "               'contractionAOC', 'meanAbsVal', 'normalizedMean', 'normalizedRMS', 'normalizedStDev', 'stdError', \\\n",
        "               'stdDev']]\n",
        "print(labels.shape)\n",
        "print(features.shape)\n"
      ],
      "metadata": {
        "colab": {
          "base_uri": "https://localhost:8080/"
        },
        "id": "zQD-OLGPQQCg",
        "outputId": "13102590-006e-4ba6-e7bd-075c24a93961"
      },
      "execution_count": 31,
      "outputs": [
        {
          "output_type": "stream",
          "name": "stdout",
          "text": [
            "(672,)\n",
            "(672, 13)\n"
          ]
        }
      ]
    },
    {
      "cell_type": "code",
      "source": [
        "scaler = MinMaxScaler()\n",
        "features_scaled = scaler.fit_transform(features)\n",
        "X_train, X_test, y_train, y_test = train_test_split(features_scaled, labels, test_size=0.2,random_state=17)"
      ],
      "metadata": {
        "id": "QzGqWbawsGP9"
      },
      "execution_count": 32,
      "outputs": []
    },
    {
      "cell_type": "code",
      "source": [
        "\n",
        "from sklearn.linear_model import LogisticRegression\n",
        "X, y = features, labels\n",
        "clf = LogisticRegression(random_state=0).fit(X, y)\n",
        "#clf.predict(y)\n",
        "#clf.predict_proba(X[:2, :])\n",
        "clf.score(X, y)"
      ],
      "metadata": {
        "colab": {
          "base_uri": "https://localhost:8080/"
        },
        "id": "KNZFwPrdrG6y",
        "outputId": "cd19925d-6748-4665-c184-81ad3691a845"
      },
      "execution_count": 19,
      "outputs": [
        {
          "output_type": "execute_result",
          "data": {
            "text/plain": [
              "0.6666666666666666"
            ]
          },
          "metadata": {},
          "execution_count": 19
        }
      ]
    },
    {
      "cell_type": "code",
      "source": [
        "X_train, y_train = features, labels\n",
        "clf = LogisticRegression(random_state=0).fit(X_train, y_train)\n",
        "clf.score(X_test, y_test)"
      ],
      "metadata": {
        "colab": {
          "base_uri": "https://localhost:8080/"
        },
        "id": "iy1ee5zisIcN",
        "outputId": "0b40481d-6a74-4313-d72b-e5ad62002f59"
      },
      "execution_count": 21,
      "outputs": [
        {
          "output_type": "stream",
          "name": "stderr",
          "text": [
            "/usr/local/lib/python3.10/dist-packages/sklearn/base.py:439: UserWarning: X does not have valid feature names, but LogisticRegression was fitted with feature names\n",
            "  warnings.warn(\n"
          ]
        },
        {
          "output_type": "execute_result",
          "data": {
            "text/plain": [
              "0.35555555555555557"
            ]
          },
          "metadata": {},
          "execution_count": 21
        }
      ]
    },
    {
      "cell_type": "code",
      "source": [
        "#decision tree\n",
        "from sklearn import tree\n",
        "clf = tree.DecisionTreeClassifier()\n",
        "clf = clf.fit(X_train, y_train)\n",
        "clf.score(X_test, y_test)\n",
        "#tree.plot_tree(clf)"
      ],
      "metadata": {
        "colab": {
          "base_uri": "https://localhost:8080/"
        },
        "id": "G552B5Rmr5Ov",
        "outputId": "73b78fe8-a6e3-4dc4-f332-e9b9f98139c8"
      },
      "execution_count": 33,
      "outputs": [
        {
          "output_type": "execute_result",
          "data": {
            "text/plain": [
              "0.9703703703703703"
            ]
          },
          "metadata": {},
          "execution_count": 33
        }
      ]
    },
    {
      "cell_type": "code",
      "source": [
        "#naive bayes\n",
        "from sklearn.naive_bayes import GaussianNB\n",
        "\n",
        "# Build a Gaussian Classifier\n",
        "model = GaussianNB()\n",
        "\n",
        "# Model training\n",
        "model.fit(X_train, y_train)\n",
        "\n",
        "# Predict Output\n",
        "predicted = model.predict([X_test[6]])\n",
        "\n",
        "from sklearn.metrics import (\n",
        "    accuracy_score,\n",
        "    confusion_matrix,\n",
        "    ConfusionMatrixDisplay,\n",
        "    f1_score,\n",
        ")\n",
        "\n",
        "y_pred = model.predict(X_test)\n",
        "accuray = accuracy_score(y_pred, y_test)\n",
        "f1 = f1_score(y_pred, y_test, average=\"weighted\")\n",
        "\n",
        "print(\"Accuracy:\", accuray)\n",
        "print(\"F1 Score:\", f1)"
      ],
      "metadata": {
        "colab": {
          "base_uri": "https://localhost:8080/"
        },
        "id": "VwHdSTXOvMkQ",
        "outputId": "c8373e29-2080-4e4e-c206-b58674b520c1"
      },
      "execution_count": 35,
      "outputs": [
        {
          "output_type": "stream",
          "name": "stdout",
          "text": [
            "Accuracy: 0.6444444444444445\n",
            "F1 Score: 0.6803333946191089\n"
          ]
        }
      ]
    },
    {
      "cell_type": "code",
      "source": [
        "#random forest\n",
        "# Import the model we are using\n",
        "from sklearn.ensemble import RandomForestRegressor\n",
        "# Instantiate model with 1000 decision trees\n",
        "rf = RandomForestRegressor(n_estimators = 1000, random_state = 42)\n",
        "# Train the model on training data\n",
        "rf.fit(X_train, y_train)"
      ],
      "metadata": {
        "colab": {
          "base_uri": "https://localhost:8080/",
          "height": 75
        },
        "id": "OpD36t5Nv35a",
        "outputId": "e1940f01-8297-4f5e-b0e6-ab0c2222faf2"
      },
      "execution_count": 37,
      "outputs": [
        {
          "output_type": "execute_result",
          "data": {
            "text/plain": [
              "RandomForestRegressor(n_estimators=1000, random_state=42)"
            ],
            "text/html": [
              "<style>#sk-container-id-1 {color: black;background-color: white;}#sk-container-id-1 pre{padding: 0;}#sk-container-id-1 div.sk-toggleable {background-color: white;}#sk-container-id-1 label.sk-toggleable__label {cursor: pointer;display: block;width: 100%;margin-bottom: 0;padding: 0.3em;box-sizing: border-box;text-align: center;}#sk-container-id-1 label.sk-toggleable__label-arrow:before {content: \"▸\";float: left;margin-right: 0.25em;color: #696969;}#sk-container-id-1 label.sk-toggleable__label-arrow:hover:before {color: black;}#sk-container-id-1 div.sk-estimator:hover label.sk-toggleable__label-arrow:before {color: black;}#sk-container-id-1 div.sk-toggleable__content {max-height: 0;max-width: 0;overflow: hidden;text-align: left;background-color: #f0f8ff;}#sk-container-id-1 div.sk-toggleable__content pre {margin: 0.2em;color: black;border-radius: 0.25em;background-color: #f0f8ff;}#sk-container-id-1 input.sk-toggleable__control:checked~div.sk-toggleable__content {max-height: 200px;max-width: 100%;overflow: auto;}#sk-container-id-1 input.sk-toggleable__control:checked~label.sk-toggleable__label-arrow:before {content: \"▾\";}#sk-container-id-1 div.sk-estimator input.sk-toggleable__control:checked~label.sk-toggleable__label {background-color: #d4ebff;}#sk-container-id-1 div.sk-label input.sk-toggleable__control:checked~label.sk-toggleable__label {background-color: #d4ebff;}#sk-container-id-1 input.sk-hidden--visually {border: 0;clip: rect(1px 1px 1px 1px);clip: rect(1px, 1px, 1px, 1px);height: 1px;margin: -1px;overflow: hidden;padding: 0;position: absolute;width: 1px;}#sk-container-id-1 div.sk-estimator {font-family: monospace;background-color: #f0f8ff;border: 1px dotted black;border-radius: 0.25em;box-sizing: border-box;margin-bottom: 0.5em;}#sk-container-id-1 div.sk-estimator:hover {background-color: #d4ebff;}#sk-container-id-1 div.sk-parallel-item::after {content: \"\";width: 100%;border-bottom: 1px solid gray;flex-grow: 1;}#sk-container-id-1 div.sk-label:hover label.sk-toggleable__label {background-color: #d4ebff;}#sk-container-id-1 div.sk-serial::before {content: \"\";position: absolute;border-left: 1px solid gray;box-sizing: border-box;top: 0;bottom: 0;left: 50%;z-index: 0;}#sk-container-id-1 div.sk-serial {display: flex;flex-direction: column;align-items: center;background-color: white;padding-right: 0.2em;padding-left: 0.2em;position: relative;}#sk-container-id-1 div.sk-item {position: relative;z-index: 1;}#sk-container-id-1 div.sk-parallel {display: flex;align-items: stretch;justify-content: center;background-color: white;position: relative;}#sk-container-id-1 div.sk-item::before, #sk-container-id-1 div.sk-parallel-item::before {content: \"\";position: absolute;border-left: 1px solid gray;box-sizing: border-box;top: 0;bottom: 0;left: 50%;z-index: -1;}#sk-container-id-1 div.sk-parallel-item {display: flex;flex-direction: column;z-index: 1;position: relative;background-color: white;}#sk-container-id-1 div.sk-parallel-item:first-child::after {align-self: flex-end;width: 50%;}#sk-container-id-1 div.sk-parallel-item:last-child::after {align-self: flex-start;width: 50%;}#sk-container-id-1 div.sk-parallel-item:only-child::after {width: 0;}#sk-container-id-1 div.sk-dashed-wrapped {border: 1px dashed gray;margin: 0 0.4em 0.5em 0.4em;box-sizing: border-box;padding-bottom: 0.4em;background-color: white;}#sk-container-id-1 div.sk-label label {font-family: monospace;font-weight: bold;display: inline-block;line-height: 1.2em;}#sk-container-id-1 div.sk-label-container {text-align: center;}#sk-container-id-1 div.sk-container {/* jupyter's `normalize.less` sets `[hidden] { display: none; }` but bootstrap.min.css set `[hidden] { display: none !important; }` so we also need the `!important` here to be able to override the default hidden behavior on the sphinx rendered scikit-learn.org. See: https://github.com/scikit-learn/scikit-learn/issues/21755 */display: inline-block !important;position: relative;}#sk-container-id-1 div.sk-text-repr-fallback {display: none;}</style><div id=\"sk-container-id-1\" class=\"sk-top-container\"><div class=\"sk-text-repr-fallback\"><pre>RandomForestRegressor(n_estimators=1000, random_state=42)</pre><b>In a Jupyter environment, please rerun this cell to show the HTML representation or trust the notebook. <br />On GitHub, the HTML representation is unable to render, please try loading this page with nbviewer.org.</b></div><div class=\"sk-container\" hidden><div class=\"sk-item\"><div class=\"sk-estimator sk-toggleable\"><input class=\"sk-toggleable__control sk-hidden--visually\" id=\"sk-estimator-id-1\" type=\"checkbox\" checked><label for=\"sk-estimator-id-1\" class=\"sk-toggleable__label sk-toggleable__label-arrow\">RandomForestRegressor</label><div class=\"sk-toggleable__content\"><pre>RandomForestRegressor(n_estimators=1000, random_state=42)</pre></div></div></div></div></div>"
            ]
          },
          "metadata": {},
          "execution_count": 37
        }
      ]
    },
    {
      "cell_type": "code",
      "source": [
        "# Use the forest's predict method on the test data\n",
        "predictions = rf.predict(X_test)\n",
        "# Calculate the absolute errors\n",
        "errors = abs(predictions - y_test)\n",
        "# Print out the mean absolute error (mae)\n",
        "print('Mean Absolute Error:', round(np.mean(errors), 2), 'degrees.')"
      ],
      "metadata": {
        "colab": {
          "base_uri": "https://localhost:8080/"
        },
        "id": "-fDvrcMTwCtH",
        "outputId": "96f190da-f862-4f4f-abe6-8964e70ffff4"
      },
      "execution_count": 41,
      "outputs": [
        {
          "output_type": "stream",
          "name": "stdout",
          "text": [
            "Mean Absolute Error: 0.14 degrees.\n"
          ]
        }
      ]
    },
    {
      "cell_type": "code",
      "source": [
        "# Calculate mean absolute percentage error (MAPE)\n",
        "mape = 100 * (errors / y_test)\n",
        "# Calculate and display accuracy\n",
        "accuracy = 100 - np.mean(mape)\n",
        "print('Accuracy:', round(accuracy, 2), '%.')"
      ],
      "metadata": {
        "colab": {
          "base_uri": "https://localhost:8080/"
        },
        "id": "mK2LQNGZwWa2",
        "outputId": "b052cb5c-6bc8-4911-f23e-639ebc677f47"
      },
      "execution_count": 44,
      "outputs": [
        {
          "output_type": "stream",
          "name": "stdout",
          "text": [
            "Accuracy: -inf %.\n"
          ]
        }
      ]
    },
    {
      "cell_type": "code",
      "source": [
        "#k nearest neighbours\n",
        "from sklearn.neighbors import KNeighborsClassifier\n",
        "knn = KNeighborsClassifier(algorithm = 'brute', n_jobs=-1)\n",
        "knn.fit(X_train, y_train)\n",
        "print(\"train shape: \" + str(X_train.shape))\n",
        "print(\"score on test: \" + str(knn.score(X_test, y_test)))\n",
        "print(\"score on train: \"+ str(knn.score(X_train, y_train)))"
      ],
      "metadata": {
        "colab": {
          "base_uri": "https://localhost:8080/"
        },
        "id": "pK-kIlQRv__m",
        "outputId": "da880865-b87c-469d-c633-d592f6945aad"
      },
      "execution_count": 45,
      "outputs": [
        {
          "output_type": "stream",
          "name": "stdout",
          "text": [
            "train shape: (537, 13)\n",
            "score on test: 0.8962962962962963\n",
            "score on train: 0.8994413407821229\n"
          ]
        }
      ]
    },
    {
      "cell_type": "code",
      "source": [
        "#SVM AGAIN\n",
        "from sklearn.svm import LinearSVC\n",
        "svm=LinearSVC(C=0.0001)\n",
        "svm.fit(X_train, y_train)\n",
        "print(\"score on test: \" + str(svm.score(X_test, y_test)))\n",
        "print(\"score on train: \"+ str(svm.score(X_train, y_train)))"
      ],
      "metadata": {
        "colab": {
          "base_uri": "https://localhost:8080/"
        },
        "id": "PuF3YXzmxUTR",
        "outputId": "c1b8685e-364c-453b-8be6-cb697b9f680a"
      },
      "execution_count": 46,
      "outputs": [
        {
          "output_type": "stream",
          "name": "stdout",
          "text": [
            "score on test: 0.6370370370370371\n",
            "score on train: 0.6852886405959032\n"
          ]
        }
      ]
    },
    {
      "cell_type": "code",
      "source": [
        "#bagging decision tree - ensemble 1\n",
        "from sklearn.ensemble import BaggingClassifier\n",
        "from sklearn.tree import DecisionTreeClassifier\n",
        "# max_samples: maximum size 0.5=50% of each sample taken from the full dataset\n",
        "# max_features: maximum of features 1=100% taken here all 10K \n",
        "# n_estimators: number of decision trees \n",
        "bg=BaggingClassifier(DecisionTreeClassifier(),max_samples=0.5,max_features=1.0,n_estimators=10)\n",
        "bg.fit(X_train, y_train)\n",
        "print(\"score on test: \" + str(bg.score(X_test, y_test)))\n",
        "print(\"score on train: \"+ str(bg.score(X_train, y_train)))"
      ],
      "metadata": {
        "colab": {
          "base_uri": "https://localhost:8080/"
        },
        "id": "FPcGjFjbxn-a",
        "outputId": "ff1e03cd-11e5-4536-b0f5-e6dc4eed90c7"
      },
      "execution_count": 47,
      "outputs": [
        {
          "output_type": "stream",
          "name": "stdout",
          "text": [
            "score on test: 0.8962962962962963\n",
            "score on train: 0.9776536312849162\n"
          ]
        }
      ]
    },
    {
      "cell_type": "code",
      "source": [
        "#boosting decision tree - ensemble 2\n",
        "from sklearn.ensemble import AdaBoostClassifier\n",
        "from sklearn.tree import DecisionTreeClassifier\n",
        "adb = AdaBoostClassifier(DecisionTreeClassifier(min_samples_split=10,max_depth=4),n_estimators=10,learning_rate=0.6)\n",
        "adb.fit(X_train, y_train)\n",
        "print(\"score on test: \" + str(adb.score(X_test, y_test)))\n",
        "print(\"score on train: \"+ str(adb.score(X_train, y_train)))"
      ],
      "metadata": {
        "colab": {
          "base_uri": "https://localhost:8080/"
        },
        "id": "Qz3ONe2sx0wq",
        "outputId": "6ded538a-6a01-4cfc-9fea-680f529daa6c"
      },
      "execution_count": 48,
      "outputs": [
        {
          "output_type": "stream",
          "name": "stdout",
          "text": [
            "score on test: 0.9555555555555556\n",
            "score on train: 1.0\n"
          ]
        }
      ]
    },
    {
      "cell_type": "code",
      "source": [
        "#random forests - ensemble 3\n",
        "from sklearn.ensemble import RandomForestClassifier\n",
        "# n_estimators = number of decision trees\n",
        "rf = RandomForestClassifier(n_estimators=30, max_depth=9)\n",
        "rf.fit(X_train, y_train)\n",
        "print(\"score on test: \" + str(rf.score(X_test, y_test)))\n",
        "print(\"score on train: \"+ str(rf.score(X_train, y_train)))"
      ],
      "metadata": {
        "colab": {
          "base_uri": "https://localhost:8080/"
        },
        "id": "tth1J_NgyI8d",
        "outputId": "78911644-d217-459a-be00-e1d18d4afa09"
      },
      "execution_count": 49,
      "outputs": [
        {
          "output_type": "stream",
          "name": "stdout",
          "text": [
            "score on test: 0.9259259259259259\n",
            "score on train: 0.9888268156424581\n"
          ]
        }
      ]
    },
    {
      "cell_type": "code",
      "source": [
        "import graphviz \n",
        "dot_data = tree.export_graphviz(clf, out_file=None) \n",
        "graph = graphviz.Source(dot_data) \n",
        "#graph.render(\"results\") \n",
        "dot_data = tree.export_graphviz(clf, out_file=None, \n",
        "                     feature_names=features,  \n",
        "                     class_names=iris.target_names,  \n",
        "                     filled=True, rounded=True,  \n",
        "                     special_characters=True)  \n",
        "graph = graphviz.Source(dot_data)  \n",
        "graph "
      ],
      "metadata": {
        "colab": {
          "base_uri": "https://localhost:8080/",
          "height": 35
        },
        "id": "8p_W-e5QtWOA",
        "outputId": "f22f0c85-2fc7-49f1-8d00-58ad2e404f59"
      },
      "execution_count": 23,
      "outputs": [
        {
          "output_type": "execute_result",
          "data": {
            "text/plain": [
              "'results.pdf'"
            ],
            "application/vnd.google.colaboratory.intrinsic+json": {
              "type": "string"
            }
          },
          "metadata": {},
          "execution_count": 23
        }
      ]
    },
    {
      "cell_type": "code",
      "source": [
        "from xgboost import XGBClassifier\n",
        "scaler = MinMaxScaler()\n",
        "features_scaled = scaler.fit_transform(features)\n",
        "X_train, X_test, y_train, y_test = train_test_split(features_scaled, labels, test_size=0.2,random_state=108)\n",
        "xgb_clf = XGBClassifier()\n",
        "xgb_clf.fit(X_train, y_train)\n",
        "score = xgb_clf.score(X_test, y_test)\n",
        "#score = xgb_clf.score(X_val, y_val)\n",
        "print(score)"
      ],
      "metadata": {
        "colab": {
          "base_uri": "https://localhost:8080/"
        },
        "id": "8kUi-3KLQUuf",
        "outputId": "3699d2f1-3527-4c8c-d5c3-7476bf0e410b"
      },
      "execution_count": null,
      "outputs": [
        {
          "output_type": "stream",
          "name": "stdout",
          "text": [
            "0.9703703703703703\n"
          ]
        }
      ]
    },
    {
      "cell_type": "code",
      "source": [
        "from sklearn import tree"
      ],
      "metadata": {
        "id": "LvHm8Xxdgouq"
      },
      "execution_count": null,
      "outputs": []
    }
  ]
}