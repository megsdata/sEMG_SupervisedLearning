{
  "nbformat": 4,
  "nbformat_minor": 0,
  "metadata": {
    "colab": {
      "provenance": [],
      "machine_shape": "hm",
      "gpuType": "T4",
      "authorship_tag": "ABX9TyNHGlXtSZk9I5PCsXaTyaI0",
      "include_colab_link": true
    },
    "kernelspec": {
      "name": "python3",
      "display_name": "Python 3"
    },
    "language_info": {
      "name": "python"
    },
    "accelerator": "GPU",
    "gpuClass": "standard"
  },
  "cells": [
    {
      "cell_type": "markdown",
      "metadata": {
        "id": "view-in-github",
        "colab_type": "text"
      },
      "source": [
        "<a href=\"https://colab.research.google.com/github/megsdata/sEMG_SupervisedLearning/blob/main/23May23_RectusFemoris_ON.ipynb\" target=\"_parent\"><img src=\"https://colab.research.google.com/assets/colab-badge.svg\" alt=\"Open In Colab\"/></a>"
      ]
    },
    {
      "cell_type": "code",
      "execution_count": 1,
      "metadata": {
        "id": "blOYjYQr6ZDj"
      },
      "outputs": [],
      "source": [
        "import pandas as pd\n",
        "import numpy as np\n",
        "import matplotlib.pyplot as plt"
      ]
    },
    {
      "cell_type": "code",
      "source": [
        "data = [[1, \"Mulder\"], [2, \"Scully\"]]\n",
        "temp1 = pd.DataFrame(data, columns=[\"Count\", \"Name\"])\n",
        "temp2 = pd.DataFrame(data, columns=[\"Count\", \"Name\"])\n",
        "pd.concat([temp1, temp2], axis=0)"
      ],
      "metadata": {
        "colab": {
          "base_uri": "https://localhost:8080/",
          "height": 175
        },
        "id": "l3hN4fRtsP0Z",
        "outputId": "a9bd052e-1911-4b47-bbe0-a694bcf5fe16"
      },
      "execution_count": 9,
      "outputs": [
        {
          "output_type": "execute_result",
          "data": {
            "text/plain": [
              "   Count    Name\n",
              "0      1  Mulder\n",
              "1      2  Scully\n",
              "0      1  Mulder\n",
              "1      2  Scully"
            ],
            "text/html": [
              "\n",
              "  <div id=\"df-9f7995e9-2265-424a-bfd3-afa2c09a4d48\">\n",
              "    <div class=\"colab-df-container\">\n",
              "      <div>\n",
              "<style scoped>\n",
              "    .dataframe tbody tr th:only-of-type {\n",
              "        vertical-align: middle;\n",
              "    }\n",
              "\n",
              "    .dataframe tbody tr th {\n",
              "        vertical-align: top;\n",
              "    }\n",
              "\n",
              "    .dataframe thead th {\n",
              "        text-align: right;\n",
              "    }\n",
              "</style>\n",
              "<table border=\"1\" class=\"dataframe\">\n",
              "  <thead>\n",
              "    <tr style=\"text-align: right;\">\n",
              "      <th></th>\n",
              "      <th>Count</th>\n",
              "      <th>Name</th>\n",
              "    </tr>\n",
              "  </thead>\n",
              "  <tbody>\n",
              "    <tr>\n",
              "      <th>0</th>\n",
              "      <td>1</td>\n",
              "      <td>Mulder</td>\n",
              "    </tr>\n",
              "    <tr>\n",
              "      <th>1</th>\n",
              "      <td>2</td>\n",
              "      <td>Scully</td>\n",
              "    </tr>\n",
              "    <tr>\n",
              "      <th>0</th>\n",
              "      <td>1</td>\n",
              "      <td>Mulder</td>\n",
              "    </tr>\n",
              "    <tr>\n",
              "      <th>1</th>\n",
              "      <td>2</td>\n",
              "      <td>Scully</td>\n",
              "    </tr>\n",
              "  </tbody>\n",
              "</table>\n",
              "</div>\n",
              "      <button class=\"colab-df-convert\" onclick=\"convertToInteractive('df-9f7995e9-2265-424a-bfd3-afa2c09a4d48')\"\n",
              "              title=\"Convert this dataframe to an interactive table.\"\n",
              "              style=\"display:none;\">\n",
              "        \n",
              "  <svg xmlns=\"http://www.w3.org/2000/svg\" height=\"24px\"viewBox=\"0 0 24 24\"\n",
              "       width=\"24px\">\n",
              "    <path d=\"M0 0h24v24H0V0z\" fill=\"none\"/>\n",
              "    <path d=\"M18.56 5.44l.94 2.06.94-2.06 2.06-.94-2.06-.94-.94-2.06-.94 2.06-2.06.94zm-11 1L8.5 8.5l.94-2.06 2.06-.94-2.06-.94L8.5 2.5l-.94 2.06-2.06.94zm10 10l.94 2.06.94-2.06 2.06-.94-2.06-.94-.94-2.06-.94 2.06-2.06.94z\"/><path d=\"M17.41 7.96l-1.37-1.37c-.4-.4-.92-.59-1.43-.59-.52 0-1.04.2-1.43.59L10.3 9.45l-7.72 7.72c-.78.78-.78 2.05 0 2.83L4 21.41c.39.39.9.59 1.41.59.51 0 1.02-.2 1.41-.59l7.78-7.78 2.81-2.81c.8-.78.8-2.07 0-2.86zM5.41 20L4 18.59l7.72-7.72 1.47 1.35L5.41 20z\"/>\n",
              "  </svg>\n",
              "      </button>\n",
              "      \n",
              "  <style>\n",
              "    .colab-df-container {\n",
              "      display:flex;\n",
              "      flex-wrap:wrap;\n",
              "      gap: 12px;\n",
              "    }\n",
              "\n",
              "    .colab-df-convert {\n",
              "      background-color: #E8F0FE;\n",
              "      border: none;\n",
              "      border-radius: 50%;\n",
              "      cursor: pointer;\n",
              "      display: none;\n",
              "      fill: #1967D2;\n",
              "      height: 32px;\n",
              "      padding: 0 0 0 0;\n",
              "      width: 32px;\n",
              "    }\n",
              "\n",
              "    .colab-df-convert:hover {\n",
              "      background-color: #E2EBFA;\n",
              "      box-shadow: 0px 1px 2px rgba(60, 64, 67, 0.3), 0px 1px 3px 1px rgba(60, 64, 67, 0.15);\n",
              "      fill: #174EA6;\n",
              "    }\n",
              "\n",
              "    [theme=dark] .colab-df-convert {\n",
              "      background-color: #3B4455;\n",
              "      fill: #D2E3FC;\n",
              "    }\n",
              "\n",
              "    [theme=dark] .colab-df-convert:hover {\n",
              "      background-color: #434B5C;\n",
              "      box-shadow: 0px 1px 3px 1px rgba(0, 0, 0, 0.15);\n",
              "      filter: drop-shadow(0px 1px 2px rgba(0, 0, 0, 0.3));\n",
              "      fill: #FFFFFF;\n",
              "    }\n",
              "  </style>\n",
              "\n",
              "      <script>\n",
              "        const buttonEl =\n",
              "          document.querySelector('#df-9f7995e9-2265-424a-bfd3-afa2c09a4d48 button.colab-df-convert');\n",
              "        buttonEl.style.display =\n",
              "          google.colab.kernel.accessAllowed ? 'block' : 'none';\n",
              "\n",
              "        async function convertToInteractive(key) {\n",
              "          const element = document.querySelector('#df-9f7995e9-2265-424a-bfd3-afa2c09a4d48');\n",
              "          const dataTable =\n",
              "            await google.colab.kernel.invokeFunction('convertToInteractive',\n",
              "                                                     [key], {});\n",
              "          if (!dataTable) return;\n",
              "\n",
              "          const docLinkHtml = 'Like what you see? Visit the ' +\n",
              "            '<a target=\"_blank\" href=https://colab.research.google.com/notebooks/data_table.ipynb>data table notebook</a>'\n",
              "            + ' to learn more about interactive tables.';\n",
              "          element.innerHTML = '';\n",
              "          dataTable['output_type'] = 'display_data';\n",
              "          await google.colab.output.renderOutput(dataTable, element);\n",
              "          const docLink = document.createElement('div');\n",
              "          docLink.innerHTML = docLinkHtml;\n",
              "          element.appendChild(docLink);\n",
              "        }\n",
              "      </script>\n",
              "    </div>\n",
              "  </div>\n",
              "  "
            ]
          },
          "metadata": {},
          "execution_count": 9
        }
      ]
    },
    {
      "cell_type": "code",
      "source": [
        "from google.colab import drive\n",
        "drive.mount('/MSC_THESIS/')"
      ],
      "metadata": {
        "id": "7f56ggMv615g",
        "colab": {
          "base_uri": "https://localhost:8080/"
        },
        "outputId": "ed0aa074-15c9-48e4-b605-586692953d19"
      },
      "execution_count": 12,
      "outputs": [
        {
          "output_type": "stream",
          "name": "stdout",
          "text": [
            "Mounted at /MSC_THESIS/\n"
          ]
        }
      ]
    },
    {
      "cell_type": "code",
      "source": [
        "from pandas.core.internals.array_manager import take_1d\n",
        "%cd /MSC_THESIS/MyDrive/School - Ryerson Graduate/MSC_THESIS/All_Data_byTrialType/1\n",
        "!ls\n",
        "#prep for concatenation\n",
        "temp1 = pd.read_excel(\"22-May-2023_21_MATRIX.xlsx\", usecols='A, D, H, J',\\\n",
        "                      dtype={'Participant ID': 'int32', 'Pulse Width':'float64', 'Pain Label': 'int32', 'EMG(mv)':'float64'})\n",
        "\n",
        "temp2 = pd.read_excel(\"22-May-2023_31_MATRIX.xlsx\", usecols='A, D, H, J',\\\n",
        "                      dtype={'Participant ID': 'int32', 'Pulse Width':'float64', 'Pain Label': 'int32', 'EMG(mv)':'float64'})\n",
        "\n",
        "temp3 = pd.read_excel(\"22-May-2023_41_MATRIX.xlsx\", usecols='A, D, H, J',\\\n",
        "                      dtype={'Participant ID': 'int32', 'Pulse Width':'float64', 'Pain Label': 'int32', 'EMG(mv)':'float64'})\n",
        "\n",
        "temp4 = pd.read_excel(\"22-May-2023_51_MATRIX.xlsx\", usecols='A, D, H, J',\\\n",
        "                      dtype={'Participant ID': 'int32', 'Pulse Width':'float64', 'Pain Label': 'int32', 'EMG(mv)':'float64'})\n",
        "\n",
        "temp5 = pd.read_excel(\"22-May-2023_61_MATRIX.xlsx\", usecols='A, D, H, J',\\\n",
        "                      dtype={'Participant ID': 'int32', 'Pulse Width':'float64', 'Pain Label': 'int32', 'EMG(mv)':'float64'})\n",
        "\n",
        "temp6 = pd.read_excel(\"22-May-2023_71_MATRIX.xlsx\", usecols='A, D, H, J',\\\n",
        "                      dtype={'Participant ID': 'int32', 'Pulse Width':'float64', 'Pain Label': 'int32', 'EMG(mv)':'float64'})\n",
        "\n",
        "temp7 = pd.read_excel(\"22-May-2023_81_MATRIX.xlsx\", usecols='A, D, H, J',\\\n",
        "                      dtype={'Participant ID': 'int32', 'Pulse Width':'float64', 'Pain Label': 'int32', 'EMG(mv)':'float64'})\n",
        "\n",
        "temp8 = pd.read_excel(\"22-May-2023_91_MATRIX.xlsx\", usecols='A, D, H, J',\\\n",
        "                      dtype={'Participant ID': 'int32', 'Pulse Width':'float64', 'Pain Label': 'int32', 'EMG(mv)':'float64'})\n",
        "\n",
        "temp9 = pd.read_excel(\"22-May-2023_101_MATRIX.xlsx\", usecols='A, D, H, J',\\\n",
        "                      dtype={'Participant ID': 'int32', 'Pulse Width':'float64', 'Pain Label': 'int32', 'EMG(mv)':'float64'})\n",
        "\n",
        "temp10 = pd.read_excel(\"22-May-2023_121_MATRIX.xlsx\", usecols='A, D, H, J',\\\n",
        "                      dtype={'Participant ID': 'int32', 'Pulse Width':'float64', 'Pain Label': 'int32', 'EMG(mv)':'float64'})"
      ],
      "metadata": {
        "colab": {
          "base_uri": "https://localhost:8080/",
          "height": 313
        },
        "id": "xKW-pwimQtA8",
        "outputId": "0255f6c0-b320-4409-b915-99ce9727a4cb"
      },
      "execution_count": 19,
      "outputs": [
        {
          "output_type": "stream",
          "name": "stdout",
          "text": [
            "/MSC_THESIS/MyDrive/School - Ryerson Graduate/MSC_THESIS/All_Data_byTrialType/1\n",
            "22-May-2023_101_MATRIX.xlsx  22-May-2023_51_MATRIX.xlsx\n",
            "22-May-2023_121_MATRIX.xlsx  22-May-2023_61_MATRIX.xlsx\n",
            "22-May-2023_21_MATRIX.xlsx   22-May-2023_71_MATRIX.xlsx\n",
            "22-May-2023_31_MATRIX.xlsx   22-May-2023_81_MATRIX.xlsx\n",
            "22-May-2023_41_MATRIX.xlsx   22-May-2023_91_MATRIX.xlsx\n"
          ]
        },
        {
          "output_type": "execute_result",
          "data": {
            "text/plain": [
              "   Participant ID  Pulse Width  Pain Label   EMG(mv)\n",
              "0               2     2.770736           1  1.720270\n",
              "1               2     2.770736           1  2.646474\n",
              "2               2     2.770736           1  3.926238\n",
              "3               2     2.770736           1  5.511613\n",
              "4               2     2.770736           1  7.348377"
            ],
            "text/html": [
              "\n",
              "  <div id=\"df-421a1b7c-bce4-4126-b52a-b7cbafd2a0f7\">\n",
              "    <div class=\"colab-df-container\">\n",
              "      <div>\n",
              "<style scoped>\n",
              "    .dataframe tbody tr th:only-of-type {\n",
              "        vertical-align: middle;\n",
              "    }\n",
              "\n",
              "    .dataframe tbody tr th {\n",
              "        vertical-align: top;\n",
              "    }\n",
              "\n",
              "    .dataframe thead th {\n",
              "        text-align: right;\n",
              "    }\n",
              "</style>\n",
              "<table border=\"1\" class=\"dataframe\">\n",
              "  <thead>\n",
              "    <tr style=\"text-align: right;\">\n",
              "      <th></th>\n",
              "      <th>Participant ID</th>\n",
              "      <th>Pulse Width</th>\n",
              "      <th>Pain Label</th>\n",
              "      <th>EMG(mv)</th>\n",
              "    </tr>\n",
              "  </thead>\n",
              "  <tbody>\n",
              "    <tr>\n",
              "      <th>0</th>\n",
              "      <td>2</td>\n",
              "      <td>2.770736</td>\n",
              "      <td>1</td>\n",
              "      <td>1.720270</td>\n",
              "    </tr>\n",
              "    <tr>\n",
              "      <th>1</th>\n",
              "      <td>2</td>\n",
              "      <td>2.770736</td>\n",
              "      <td>1</td>\n",
              "      <td>2.646474</td>\n",
              "    </tr>\n",
              "    <tr>\n",
              "      <th>2</th>\n",
              "      <td>2</td>\n",
              "      <td>2.770736</td>\n",
              "      <td>1</td>\n",
              "      <td>3.926238</td>\n",
              "    </tr>\n",
              "    <tr>\n",
              "      <th>3</th>\n",
              "      <td>2</td>\n",
              "      <td>2.770736</td>\n",
              "      <td>1</td>\n",
              "      <td>5.511613</td>\n",
              "    </tr>\n",
              "    <tr>\n",
              "      <th>4</th>\n",
              "      <td>2</td>\n",
              "      <td>2.770736</td>\n",
              "      <td>1</td>\n",
              "      <td>7.348377</td>\n",
              "    </tr>\n",
              "  </tbody>\n",
              "</table>\n",
              "</div>\n",
              "      <button class=\"colab-df-convert\" onclick=\"convertToInteractive('df-421a1b7c-bce4-4126-b52a-b7cbafd2a0f7')\"\n",
              "              title=\"Convert this dataframe to an interactive table.\"\n",
              "              style=\"display:none;\">\n",
              "        \n",
              "  <svg xmlns=\"http://www.w3.org/2000/svg\" height=\"24px\"viewBox=\"0 0 24 24\"\n",
              "       width=\"24px\">\n",
              "    <path d=\"M0 0h24v24H0V0z\" fill=\"none\"/>\n",
              "    <path d=\"M18.56 5.44l.94 2.06.94-2.06 2.06-.94-2.06-.94-.94-2.06-.94 2.06-2.06.94zm-11 1L8.5 8.5l.94-2.06 2.06-.94-2.06-.94L8.5 2.5l-.94 2.06-2.06.94zm10 10l.94 2.06.94-2.06 2.06-.94-2.06-.94-.94-2.06-.94 2.06-2.06.94z\"/><path d=\"M17.41 7.96l-1.37-1.37c-.4-.4-.92-.59-1.43-.59-.52 0-1.04.2-1.43.59L10.3 9.45l-7.72 7.72c-.78.78-.78 2.05 0 2.83L4 21.41c.39.39.9.59 1.41.59.51 0 1.02-.2 1.41-.59l7.78-7.78 2.81-2.81c.8-.78.8-2.07 0-2.86zM5.41 20L4 18.59l7.72-7.72 1.47 1.35L5.41 20z\"/>\n",
              "  </svg>\n",
              "      </button>\n",
              "      \n",
              "  <style>\n",
              "    .colab-df-container {\n",
              "      display:flex;\n",
              "      flex-wrap:wrap;\n",
              "      gap: 12px;\n",
              "    }\n",
              "\n",
              "    .colab-df-convert {\n",
              "      background-color: #E8F0FE;\n",
              "      border: none;\n",
              "      border-radius: 50%;\n",
              "      cursor: pointer;\n",
              "      display: none;\n",
              "      fill: #1967D2;\n",
              "      height: 32px;\n",
              "      padding: 0 0 0 0;\n",
              "      width: 32px;\n",
              "    }\n",
              "\n",
              "    .colab-df-convert:hover {\n",
              "      background-color: #E2EBFA;\n",
              "      box-shadow: 0px 1px 2px rgba(60, 64, 67, 0.3), 0px 1px 3px 1px rgba(60, 64, 67, 0.15);\n",
              "      fill: #174EA6;\n",
              "    }\n",
              "\n",
              "    [theme=dark] .colab-df-convert {\n",
              "      background-color: #3B4455;\n",
              "      fill: #D2E3FC;\n",
              "    }\n",
              "\n",
              "    [theme=dark] .colab-df-convert:hover {\n",
              "      background-color: #434B5C;\n",
              "      box-shadow: 0px 1px 3px 1px rgba(0, 0, 0, 0.15);\n",
              "      filter: drop-shadow(0px 1px 2px rgba(0, 0, 0, 0.3));\n",
              "      fill: #FFFFFF;\n",
              "    }\n",
              "  </style>\n",
              "\n",
              "      <script>\n",
              "        const buttonEl =\n",
              "          document.querySelector('#df-421a1b7c-bce4-4126-b52a-b7cbafd2a0f7 button.colab-df-convert');\n",
              "        buttonEl.style.display =\n",
              "          google.colab.kernel.accessAllowed ? 'block' : 'none';\n",
              "\n",
              "        async function convertToInteractive(key) {\n",
              "          const element = document.querySelector('#df-421a1b7c-bce4-4126-b52a-b7cbafd2a0f7');\n",
              "          const dataTable =\n",
              "            await google.colab.kernel.invokeFunction('convertToInteractive',\n",
              "                                                     [key], {});\n",
              "          if (!dataTable) return;\n",
              "\n",
              "          const docLinkHtml = 'Like what you see? Visit the ' +\n",
              "            '<a target=\"_blank\" href=https://colab.research.google.com/notebooks/data_table.ipynb>data table notebook</a>'\n",
              "            + ' to learn more about interactive tables.';\n",
              "          element.innerHTML = '';\n",
              "          dataTable['output_type'] = 'display_data';\n",
              "          await google.colab.output.renderOutput(dataTable, element);\n",
              "          const docLink = document.createElement('div');\n",
              "          docLink.innerHTML = docLinkHtml;\n",
              "          element.appendChild(docLink);\n",
              "        }\n",
              "      </script>\n",
              "    </div>\n",
              "  </div>\n",
              "  "
            ]
          },
          "metadata": {},
          "execution_count": 19
        }
      ]
    },
    {
      "cell_type": "code",
      "source": [
        "temp1 = pd.read_excel(\"22-May-2023_21_MATRIX.xlsx\", usecols='A, D, H, J',\\\n",
        "                      dtype={'Participant ID': 'int32', 'Pulse Width':'float64', 'Pain Label': 'int32', 'EMG(mv)':'float64'})\n",
        "\n",
        "temp2 = pd.read_excel(\"22-May-2023_31_MATRIX.xlsx\", usecols='A, D, H, J',\\\n",
        "                      dtype={'Participant ID': 'int32', 'Pulse Width':'float64', 'Pain Label': 'int32', 'EMG(mv)':'float64'})\n",
        "\n",
        "temp3 = pd.read_excel(\"22-May-2023_41_MATRIX.xlsx\", usecols='A, D, H, J',\\\n",
        "                      dtype={'Participant ID': 'int32', 'Pulse Width':'float64', 'Pain Label': 'int32', 'EMG(mv)':'float64'})\n",
        "\n",
        "temp4 = pd.read_excel(\"22-May-2023_51_MATRIX.xlsx\", usecols='A, D, H, J',\\\n",
        "                      dtype={'Participant ID': 'int32', 'Pulse Width':'float64', 'Pain Label': 'int32', 'EMG(mv)':'float64'})\n",
        "\n",
        "temp5 = pd.read_excel(\"22-May-2023_61_MATRIX.xlsx\", usecols='A, D, H, J',\\\n",
        "                      dtype={'Participant ID': 'int32', 'Pulse Width':'float64', 'Pain Label': 'int32', 'EMG(mv)':'float64'})\n",
        "\n",
        "temp6 = pd.read_excel(\"22-May-2023_71_MATRIX.xlsx\", usecols='A, D, H, J',\\\n",
        "                      dtype={'Participant ID': 'int32', 'Pulse Width':'float64', 'Pain Label': 'int32', 'EMG(mv)':'float64'})\n",
        "\n",
        "temp7 = pd.read_excel(\"22-May-2023_81_MATRIX.xlsx\", usecols='A, D, H, J',\\\n",
        "                      dtype={'Participant ID': 'int32', 'Pulse Width':'float64', 'Pain Label': 'int32', 'EMG(mv)':'float64'})\n",
        "\n",
        "temp8 = pd.read_excel(\"22-May-2023_91_MATRIX.xlsx\", usecols='A, D, H, J',\\\n",
        "                      dtype={'Participant ID': 'int32', 'Pulse Width':'float64', 'Pain Label': 'int32', 'EMG(mv)':'float64'})\n",
        "\n",
        "temp9 = pd.read_excel(\"22-May-2023_101_MATRIX.xlsx\", usecols='A, D, H, J',\\\n",
        "                      dtype={'Participant ID': 'int32', 'Pulse Width':'float64', 'Pain Label': 'int32', 'EMG(mv)':'float64'})\n",
        "\n",
        "temp10 = pd.read_excel(\"22-May-2023_121_MATRIX.xlsx\", usecols='A, D, H, J',\\\n",
        "                      dtype={'Participant ID': 'int32', 'Pulse Width':'float64', 'Pain Label': 'int32', 'EMG(mv)':'float64'})\n",
        "df_merged = pd.concat([temp1, temp2, temp3, temp4, temp5, temp6, temp7, temp8, temp9, temp10], axis=0)\n",
        "df_merged.head()"
      ],
      "metadata": {
        "colab": {
          "base_uri": "https://localhost:8080/",
          "height": 206
        },
        "id": "PzvvMkgG1Hou",
        "outputId": "b7ef5be3-18c0-4a3a-b097-663e7e15a229"
      },
      "execution_count": 23,
      "outputs": [
        {
          "output_type": "execute_result",
          "data": {
            "text/plain": [
              "   Participant ID  Pulse Width  Pain Label   EMG(mv)\n",
              "0               2     2.770736           1  1.720270\n",
              "1               2     2.770736           1  2.646474\n",
              "2               2     2.770736           1  3.926238\n",
              "3               2     2.770736           1  5.511613\n",
              "4               2     2.770736           1  7.348377"
            ],
            "text/html": [
              "\n",
              "  <div id=\"df-7ee9cd5b-70d7-4308-a5aa-409c420f504a\">\n",
              "    <div class=\"colab-df-container\">\n",
              "      <div>\n",
              "<style scoped>\n",
              "    .dataframe tbody tr th:only-of-type {\n",
              "        vertical-align: middle;\n",
              "    }\n",
              "\n",
              "    .dataframe tbody tr th {\n",
              "        vertical-align: top;\n",
              "    }\n",
              "\n",
              "    .dataframe thead th {\n",
              "        text-align: right;\n",
              "    }\n",
              "</style>\n",
              "<table border=\"1\" class=\"dataframe\">\n",
              "  <thead>\n",
              "    <tr style=\"text-align: right;\">\n",
              "      <th></th>\n",
              "      <th>Participant ID</th>\n",
              "      <th>Pulse Width</th>\n",
              "      <th>Pain Label</th>\n",
              "      <th>EMG(mv)</th>\n",
              "    </tr>\n",
              "  </thead>\n",
              "  <tbody>\n",
              "    <tr>\n",
              "      <th>0</th>\n",
              "      <td>2</td>\n",
              "      <td>2.770736</td>\n",
              "      <td>1</td>\n",
              "      <td>1.720270</td>\n",
              "    </tr>\n",
              "    <tr>\n",
              "      <th>1</th>\n",
              "      <td>2</td>\n",
              "      <td>2.770736</td>\n",
              "      <td>1</td>\n",
              "      <td>2.646474</td>\n",
              "    </tr>\n",
              "    <tr>\n",
              "      <th>2</th>\n",
              "      <td>2</td>\n",
              "      <td>2.770736</td>\n",
              "      <td>1</td>\n",
              "      <td>3.926238</td>\n",
              "    </tr>\n",
              "    <tr>\n",
              "      <th>3</th>\n",
              "      <td>2</td>\n",
              "      <td>2.770736</td>\n",
              "      <td>1</td>\n",
              "      <td>5.511613</td>\n",
              "    </tr>\n",
              "    <tr>\n",
              "      <th>4</th>\n",
              "      <td>2</td>\n",
              "      <td>2.770736</td>\n",
              "      <td>1</td>\n",
              "      <td>7.348377</td>\n",
              "    </tr>\n",
              "  </tbody>\n",
              "</table>\n",
              "</div>\n",
              "      <button class=\"colab-df-convert\" onclick=\"convertToInteractive('df-7ee9cd5b-70d7-4308-a5aa-409c420f504a')\"\n",
              "              title=\"Convert this dataframe to an interactive table.\"\n",
              "              style=\"display:none;\">\n",
              "        \n",
              "  <svg xmlns=\"http://www.w3.org/2000/svg\" height=\"24px\"viewBox=\"0 0 24 24\"\n",
              "       width=\"24px\">\n",
              "    <path d=\"M0 0h24v24H0V0z\" fill=\"none\"/>\n",
              "    <path d=\"M18.56 5.44l.94 2.06.94-2.06 2.06-.94-2.06-.94-.94-2.06-.94 2.06-2.06.94zm-11 1L8.5 8.5l.94-2.06 2.06-.94-2.06-.94L8.5 2.5l-.94 2.06-2.06.94zm10 10l.94 2.06.94-2.06 2.06-.94-2.06-.94-.94-2.06-.94 2.06-2.06.94z\"/><path d=\"M17.41 7.96l-1.37-1.37c-.4-.4-.92-.59-1.43-.59-.52 0-1.04.2-1.43.59L10.3 9.45l-7.72 7.72c-.78.78-.78 2.05 0 2.83L4 21.41c.39.39.9.59 1.41.59.51 0 1.02-.2 1.41-.59l7.78-7.78 2.81-2.81c.8-.78.8-2.07 0-2.86zM5.41 20L4 18.59l7.72-7.72 1.47 1.35L5.41 20z\"/>\n",
              "  </svg>\n",
              "      </button>\n",
              "      \n",
              "  <style>\n",
              "    .colab-df-container {\n",
              "      display:flex;\n",
              "      flex-wrap:wrap;\n",
              "      gap: 12px;\n",
              "    }\n",
              "\n",
              "    .colab-df-convert {\n",
              "      background-color: #E8F0FE;\n",
              "      border: none;\n",
              "      border-radius: 50%;\n",
              "      cursor: pointer;\n",
              "      display: none;\n",
              "      fill: #1967D2;\n",
              "      height: 32px;\n",
              "      padding: 0 0 0 0;\n",
              "      width: 32px;\n",
              "    }\n",
              "\n",
              "    .colab-df-convert:hover {\n",
              "      background-color: #E2EBFA;\n",
              "      box-shadow: 0px 1px 2px rgba(60, 64, 67, 0.3), 0px 1px 3px 1px rgba(60, 64, 67, 0.15);\n",
              "      fill: #174EA6;\n",
              "    }\n",
              "\n",
              "    [theme=dark] .colab-df-convert {\n",
              "      background-color: #3B4455;\n",
              "      fill: #D2E3FC;\n",
              "    }\n",
              "\n",
              "    [theme=dark] .colab-df-convert:hover {\n",
              "      background-color: #434B5C;\n",
              "      box-shadow: 0px 1px 3px 1px rgba(0, 0, 0, 0.15);\n",
              "      filter: drop-shadow(0px 1px 2px rgba(0, 0, 0, 0.3));\n",
              "      fill: #FFFFFF;\n",
              "    }\n",
              "  </style>\n",
              "\n",
              "      <script>\n",
              "        const buttonEl =\n",
              "          document.querySelector('#df-7ee9cd5b-70d7-4308-a5aa-409c420f504a button.colab-df-convert');\n",
              "        buttonEl.style.display =\n",
              "          google.colab.kernel.accessAllowed ? 'block' : 'none';\n",
              "\n",
              "        async function convertToInteractive(key) {\n",
              "          const element = document.querySelector('#df-7ee9cd5b-70d7-4308-a5aa-409c420f504a');\n",
              "          const dataTable =\n",
              "            await google.colab.kernel.invokeFunction('convertToInteractive',\n",
              "                                                     [key], {});\n",
              "          if (!dataTable) return;\n",
              "\n",
              "          const docLinkHtml = 'Like what you see? Visit the ' +\n",
              "            '<a target=\"_blank\" href=https://colab.research.google.com/notebooks/data_table.ipynb>data table notebook</a>'\n",
              "            + ' to learn more about interactive tables.';\n",
              "          element.innerHTML = '';\n",
              "          dataTable['output_type'] = 'display_data';\n",
              "          await google.colab.output.renderOutput(dataTable, element);\n",
              "          const docLink = document.createElement('div');\n",
              "          docLink.innerHTML = docLinkHtml;\n",
              "          element.appendChild(docLink);\n",
              "        }\n",
              "      </script>\n",
              "    </div>\n",
              "  </div>\n",
              "  "
            ]
          },
          "metadata": {},
          "execution_count": 23
        }
      ]
    },
    {
      "cell_type": "code",
      "source": [
        " len(df_merged. index)"
      ],
      "metadata": {
        "colab": {
          "base_uri": "https://localhost:8080/"
        },
        "id": "C9hWp0BQ8Iib",
        "outputId": "bdad83a1-b279-447e-8d0d-9528bcc89cbe"
      },
      "execution_count": 24,
      "outputs": [
        {
          "output_type": "execute_result",
          "data": {
            "text/plain": [
              "799352"
            ]
          },
          "metadata": {},
          "execution_count": 24
        }
      ]
    },
    {
      "cell_type": "code",
      "source": [
        "#select features\n",
        "X = df_merged[['EMG(mv)', 'Pulse Width']]\n",
        "y = df_merged['Pain Label']"
      ],
      "metadata": {
        "id": "iv8ip7YMRfoi"
      },
      "execution_count": 27,
      "outputs": []
    },
    {
      "cell_type": "code",
      "source": [
        "#create data split\n",
        "from sklearn.model_selection import train_test_split\n",
        "X_train, X_test, y_train, y_test = train_test_split(X, y, test_size=0.2, random_state=42)\n",
        "X_train, X_val, y_train, y_val = train_test_split(X_train, y_train, test_size=0.2, random_state=42)"
      ],
      "metadata": {
        "id": "4GP7Q1ZdQtky"
      },
      "execution_count": 28,
      "outputs": []
    },
    {
      "cell_type": "code",
      "source": [
        "from sklearn.preprocessing import StandardScaler\n",
        "\n",
        "scaler = StandardScaler()\n",
        "X_train_scaled = scaler.fit_transform(X_train)\n",
        "X_test_scaled = scaler.transform(X_test)"
      ],
      "metadata": {
        "id": "FuxCrPcJ8zuk"
      },
      "execution_count": 31,
      "outputs": []
    },
    {
      "cell_type": "markdown",
      "source": [
        "Fully Connected Multi-Layer Perceptron"
      ],
      "metadata": {
        "id": "BJ-rQsZCWZSj"
      }
    },
    {
      "cell_type": "code",
      "source": [
        "from sklearn.neural_network import MLPClassifier\n",
        "clf = MLPClassifier(hidden_layer_sizes=(6,5),\n",
        "                    random_state=5,\n",
        "                    verbose=True,\n",
        "                    learning_rate_init=0.01)\n",
        "clf.fit(X_train_scaled,y_train)"
      ],
      "metadata": {
        "colab": {
          "base_uri": "https://localhost:8080/",
          "height": 771
        },
        "id": "sFVuC_B3UVHM",
        "outputId": "f9f469cb-425e-455e-92e8-3acef9fbe165"
      },
      "execution_count": 32,
      "outputs": [
        {
          "output_type": "stream",
          "name": "stdout",
          "text": [
            "Iteration 1, loss = 0.08243528\n",
            "Iteration 2, loss = 0.06079487\n",
            "Iteration 3, loss = 0.06059014\n",
            "Iteration 4, loss = 0.05160919\n",
            "Iteration 5, loss = 0.04466699\n",
            "Iteration 6, loss = 0.02858075\n",
            "Iteration 7, loss = 0.02456911\n",
            "Iteration 8, loss = 0.02141924\n",
            "Iteration 9, loss = 0.02093842\n",
            "Iteration 10, loss = 0.02118995\n",
            "Iteration 11, loss = 0.02084012\n",
            "Iteration 12, loss = 0.02106768\n",
            "Iteration 13, loss = 0.02134514\n",
            "Iteration 14, loss = 0.02036282\n",
            "Iteration 15, loss = 0.02032941\n",
            "Iteration 16, loss = 0.02018457\n",
            "Iteration 17, loss = 0.01941471\n",
            "Iteration 18, loss = 0.01888197\n",
            "Iteration 19, loss = 0.01856891\n",
            "Iteration 20, loss = 0.01711698\n",
            "Iteration 21, loss = 0.01705552\n",
            "Iteration 22, loss = 0.01559011\n",
            "Iteration 23, loss = 0.01678097\n",
            "Iteration 24, loss = 0.01522697\n",
            "Iteration 25, loss = 0.01346152\n",
            "Iteration 26, loss = 0.01276287\n",
            "Iteration 27, loss = 0.01271924\n",
            "Iteration 28, loss = 0.01414577\n",
            "Iteration 29, loss = 0.01416270\n",
            "Iteration 30, loss = 0.01391824\n",
            "Iteration 31, loss = 0.01738923\n",
            "Iteration 32, loss = 0.02210430\n",
            "Iteration 33, loss = 0.02250914\n",
            "Iteration 34, loss = 0.02229164\n",
            "Iteration 35, loss = 0.02217272\n",
            "Iteration 36, loss = 0.02278706\n",
            "Iteration 37, loss = 0.02218423\n",
            "Training loss did not improve more than tol=0.000100 for 10 consecutive epochs. Stopping.\n"
          ]
        },
        {
          "output_type": "execute_result",
          "data": {
            "text/plain": [
              "MLPClassifier(hidden_layer_sizes=(6, 5), learning_rate_init=0.01,\n",
              "              random_state=5, verbose=True)"
            ],
            "text/html": [
              "<style>#sk-container-id-2 {color: black;background-color: white;}#sk-container-id-2 pre{padding: 0;}#sk-container-id-2 div.sk-toggleable {background-color: white;}#sk-container-id-2 label.sk-toggleable__label {cursor: pointer;display: block;width: 100%;margin-bottom: 0;padding: 0.3em;box-sizing: border-box;text-align: center;}#sk-container-id-2 label.sk-toggleable__label-arrow:before {content: \"▸\";float: left;margin-right: 0.25em;color: #696969;}#sk-container-id-2 label.sk-toggleable__label-arrow:hover:before {color: black;}#sk-container-id-2 div.sk-estimator:hover label.sk-toggleable__label-arrow:before {color: black;}#sk-container-id-2 div.sk-toggleable__content {max-height: 0;max-width: 0;overflow: hidden;text-align: left;background-color: #f0f8ff;}#sk-container-id-2 div.sk-toggleable__content pre {margin: 0.2em;color: black;border-radius: 0.25em;background-color: #f0f8ff;}#sk-container-id-2 input.sk-toggleable__control:checked~div.sk-toggleable__content {max-height: 200px;max-width: 100%;overflow: auto;}#sk-container-id-2 input.sk-toggleable__control:checked~label.sk-toggleable__label-arrow:before {content: \"▾\";}#sk-container-id-2 div.sk-estimator input.sk-toggleable__control:checked~label.sk-toggleable__label {background-color: #d4ebff;}#sk-container-id-2 div.sk-label input.sk-toggleable__control:checked~label.sk-toggleable__label {background-color: #d4ebff;}#sk-container-id-2 input.sk-hidden--visually {border: 0;clip: rect(1px 1px 1px 1px);clip: rect(1px, 1px, 1px, 1px);height: 1px;margin: -1px;overflow: hidden;padding: 0;position: absolute;width: 1px;}#sk-container-id-2 div.sk-estimator {font-family: monospace;background-color: #f0f8ff;border: 1px dotted black;border-radius: 0.25em;box-sizing: border-box;margin-bottom: 0.5em;}#sk-container-id-2 div.sk-estimator:hover {background-color: #d4ebff;}#sk-container-id-2 div.sk-parallel-item::after {content: \"\";width: 100%;border-bottom: 1px solid gray;flex-grow: 1;}#sk-container-id-2 div.sk-label:hover label.sk-toggleable__label {background-color: #d4ebff;}#sk-container-id-2 div.sk-serial::before {content: \"\";position: absolute;border-left: 1px solid gray;box-sizing: border-box;top: 0;bottom: 0;left: 50%;z-index: 0;}#sk-container-id-2 div.sk-serial {display: flex;flex-direction: column;align-items: center;background-color: white;padding-right: 0.2em;padding-left: 0.2em;position: relative;}#sk-container-id-2 div.sk-item {position: relative;z-index: 1;}#sk-container-id-2 div.sk-parallel {display: flex;align-items: stretch;justify-content: center;background-color: white;position: relative;}#sk-container-id-2 div.sk-item::before, #sk-container-id-2 div.sk-parallel-item::before {content: \"\";position: absolute;border-left: 1px solid gray;box-sizing: border-box;top: 0;bottom: 0;left: 50%;z-index: -1;}#sk-container-id-2 div.sk-parallel-item {display: flex;flex-direction: column;z-index: 1;position: relative;background-color: white;}#sk-container-id-2 div.sk-parallel-item:first-child::after {align-self: flex-end;width: 50%;}#sk-container-id-2 div.sk-parallel-item:last-child::after {align-self: flex-start;width: 50%;}#sk-container-id-2 div.sk-parallel-item:only-child::after {width: 0;}#sk-container-id-2 div.sk-dashed-wrapped {border: 1px dashed gray;margin: 0 0.4em 0.5em 0.4em;box-sizing: border-box;padding-bottom: 0.4em;background-color: white;}#sk-container-id-2 div.sk-label label {font-family: monospace;font-weight: bold;display: inline-block;line-height: 1.2em;}#sk-container-id-2 div.sk-label-container {text-align: center;}#sk-container-id-2 div.sk-container {/* jupyter's `normalize.less` sets `[hidden] { display: none; }` but bootstrap.min.css set `[hidden] { display: none !important; }` so we also need the `!important` here to be able to override the default hidden behavior on the sphinx rendered scikit-learn.org. See: https://github.com/scikit-learn/scikit-learn/issues/21755 */display: inline-block !important;position: relative;}#sk-container-id-2 div.sk-text-repr-fallback {display: none;}</style><div id=\"sk-container-id-2\" class=\"sk-top-container\"><div class=\"sk-text-repr-fallback\"><pre>MLPClassifier(hidden_layer_sizes=(6, 5), learning_rate_init=0.01,\n",
              "              random_state=5, verbose=True)</pre><b>In a Jupyter environment, please rerun this cell to show the HTML representation or trust the notebook. <br />On GitHub, the HTML representation is unable to render, please try loading this page with nbviewer.org.</b></div><div class=\"sk-container\" hidden><div class=\"sk-item\"><div class=\"sk-estimator sk-toggleable\"><input class=\"sk-toggleable__control sk-hidden--visually\" id=\"sk-estimator-id-2\" type=\"checkbox\" checked><label for=\"sk-estimator-id-2\" class=\"sk-toggleable__label sk-toggleable__label-arrow\">MLPClassifier</label><div class=\"sk-toggleable__content\"><pre>MLPClassifier(hidden_layer_sizes=(6, 5), learning_rate_init=0.01,\n",
              "              random_state=5, verbose=True)</pre></div></div></div></div></div>"
            ]
          },
          "metadata": {},
          "execution_count": 32
        }
      ]
    },
    {
      "cell_type": "code",
      "source": [
        "y_pred=clf.predict(X_test)\n",
        "from sklearn.metrics import accuracy_score\n",
        "accuracy_score(y_test,y_pred) #without scaling"
      ],
      "metadata": {
        "colab": {
          "base_uri": "https://localhost:8080/"
        },
        "id": "DeszPQ0IVAn2",
        "outputId": "38198c7f-9a08-4dc0-def8-9ab1e2dba5d1"
      },
      "execution_count": 30,
      "outputs": [
        {
          "output_type": "execute_result",
          "data": {
            "text/plain": [
              "0.8876781905411237"
            ]
          },
          "metadata": {},
          "execution_count": 30
        }
      ]
    },
    {
      "cell_type": "code",
      "source": [
        "y_pred=clf.predict(X_test)\n",
        "from sklearn.metrics import accuracy_score\n",
        "accuracy_score(y_test,y_pred) #withscaling"
      ],
      "metadata": {
        "colab": {
          "base_uri": "https://localhost:8080/"
        },
        "id": "5BN6HeaC9QkN",
        "outputId": "a29f936a-5971-4bd3-b49f-ec7c9327a1f2"
      },
      "execution_count": 33,
      "outputs": [
        {
          "output_type": "stream",
          "name": "stderr",
          "text": [
            "/usr/local/lib/python3.10/dist-packages/sklearn/base.py:432: UserWarning: X has feature names, but MLPClassifier was fitted without feature names\n",
            "  warnings.warn(\n"
          ]
        },
        {
          "output_type": "execute_result",
          "data": {
            "text/plain": [
              "0.3702797880791388"
            ]
          },
          "metadata": {},
          "execution_count": 33
        }
      ]
    },
    {
      "cell_type": "markdown",
      "source": [
        "Using Tensorflow"
      ],
      "metadata": {
        "id": "t0E9BH9SWOXd"
      }
    },
    {
      "cell_type": "code",
      "source": [
        "import tensorflow as tf\n",
        "print(\"TensorFlow version:\", tf.__version__)"
      ],
      "metadata": {
        "colab": {
          "base_uri": "https://localhost:8080/"
        },
        "id": "Kq2Snn_f8rTT",
        "outputId": "7b8931a0-24c0-4fea-ce05-32e5510488c8"
      },
      "execution_count": 34,
      "outputs": [
        {
          "output_type": "stream",
          "name": "stdout",
          "text": [
            "TensorFlow version: 2.12.0\n"
          ]
        }
      ]
    },
    {
      "cell_type": "code",
      "source": [
        "tf.random.set_seed(42)\n",
        "model = tf.keras.Sequential([\n",
        "    tf.keras.layers.Dense(128, activation='relu'),\n",
        "    tf.keras.layers.Dense(256, activation='relu'),\n",
        "    tf.keras.layers.Dense(256, activation='relu'),\n",
        "    tf.keras.layers.Dense(1, activation='sigmoid')\n",
        "])\n",
        "\n",
        "model.compile(\n",
        "    loss=tf.keras.losses.binary_crossentropy,\n",
        "    optimizer=tf.keras.optimizers.Adam(lr=0.03),\n",
        "    metrics=[\n",
        "        tf.keras.metrics.BinaryAccuracy(name='accuracy'),\n",
        "        tf.keras.metrics.Precision(name='precision'),\n",
        "        tf.keras.metrics.Recall(name='recall')\n",
        "    ]\n",
        ")\n",
        "\n",
        "history = model.fit(X_train_scaled, y_train, epochs=10)"
      ],
      "metadata": {
        "colab": {
          "base_uri": "https://localhost:8080/"
        },
        "id": "o9kJDd1r9aQg",
        "outputId": "4e06a074-7bed-4699-9770-b3aa02ae3d8a"
      },
      "execution_count": 35,
      "outputs": [
        {
          "output_type": "stream",
          "name": "stderr",
          "text": [
            "WARNING:absl:`lr` is deprecated in Keras optimizer, please use `learning_rate` or use the legacy optimizer, e.g.,tf.keras.optimizers.legacy.Adam.\n"
          ]
        },
        {
          "output_type": "stream",
          "name": "stdout",
          "text": [
            "Epoch 1/10\n",
            "15987/15987 [==============================] - 58s 3ms/step - loss: 0.0358 - accuracy: 0.9847 - precision: 0.9878 - recall: 0.9950\n",
            "Epoch 2/10\n",
            "15987/15987 [==============================] - 48s 3ms/step - loss: 0.0236 - accuracy: 0.9887 - precision: 0.9935 - recall: 0.9937\n",
            "Epoch 3/10\n",
            "15987/15987 [==============================] - 47s 3ms/step - loss: 0.0227 - accuracy: 0.9888 - precision: 0.9936 - recall: 0.9938\n",
            "Epoch 4/10\n",
            "15987/15987 [==============================] - 47s 3ms/step - loss: 0.0214 - accuracy: 0.9894 - precision: 0.9942 - recall: 0.9938\n",
            "Epoch 5/10\n",
            "15987/15987 [==============================] - 47s 3ms/step - loss: 0.0206 - accuracy: 0.9898 - precision: 0.9946 - recall: 0.9939\n",
            "Epoch 6/10\n",
            "15987/15987 [==============================] - 46s 3ms/step - loss: 0.0202 - accuracy: 0.9900 - precision: 0.9945 - recall: 0.9942\n",
            "Epoch 7/10\n",
            "15987/15987 [==============================] - 47s 3ms/step - loss: 0.0200 - accuracy: 0.9902 - precision: 0.9947 - recall: 0.9942\n",
            "Epoch 8/10\n",
            "15987/15987 [==============================] - 47s 3ms/step - loss: 0.0195 - accuracy: 0.9902 - precision: 0.9947 - recall: 0.9942\n",
            "Epoch 9/10\n",
            "15987/15987 [==============================] - 46s 3ms/step - loss: 0.0191 - accuracy: 0.9905 - precision: 0.9950 - recall: 0.9943\n",
            "Epoch 10/10\n",
            "15987/15987 [==============================] - 46s 3ms/step - loss: 0.0188 - accuracy: 0.9907 - precision: 0.9950 - recall: 0.9945\n"
          ]
        }
      ]
    },
    {
      "cell_type": "code",
      "source": [
        "#visualize performance\n",
        "import matplotlib.pyplot as plt\n",
        "from matplotlib import rcParams\n",
        "\n",
        "rcParams['figure.figsize'] = (18, 8)\n",
        "rcParams['axes.spines.top'] = False\n",
        "rcParams['axes.spines.right'] = False\n",
        "plt.plot(\n",
        "    np.arange(1, 11), \n",
        "    history.history['loss'], label='Loss'\n",
        ")\n",
        "plt.plot(\n",
        "    np.arange(1, 11), \n",
        "    history.history['accuracy'], label='Accuracy'\n",
        ")\n",
        "plt.plot(\n",
        "    np.arange(1, 11), \n",
        "    history.history['precision'], label='Precision'\n",
        ")\n",
        "plt.plot(\n",
        "    np.arange(1, 11), \n",
        "    history.history['recall'], label='Recall'\n",
        ")\n",
        "plt.title('Evaluation metrics', size=20)\n",
        "plt.xlabel('Epoch', size=14)\n",
        "plt.legend();"
      ],
      "metadata": {
        "colab": {
          "base_uri": "https://localhost:8080/",
          "height": 570
        },
        "id": "kgEPrTdg9gIT",
        "outputId": "f6b6ae7d-6f48-42c7-a992-d8d6cc8ff3d3"
      },
      "execution_count": 36,
      "outputs": [
        {
          "output_type": "display_data",
          "data": {
            "text/plain": [
              "<Figure size 1800x800 with 1 Axes>"
            ],
            "image/png": "[encoded data removed]"
          },
          "metadata": {}
        }
      ]
    },
    {
      "cell_type": "code",
      "source": [
        "#evaluate performance\n",
        "predictions = model.predict(X_test_scaled)\n",
        "prediction_classes = [\n",
        "    1 if prob > 0.5 else 0 for prob in np.ravel(predictions)\n",
        "]\n",
        "prediction_classes = [\n",
        "    1 if prob > 0.5 else 0 for prob in np.ravel(predictions)\n",
        "]\n",
        "from sklearn.metrics import accuracy_score, precision_score, recall_score\n",
        "\n",
        "print(f'Accuracy: {accuracy_score(y_test, prediction_classes):.4f}')\n",
        "print(f'Precision: {precision_score(y_test, prediction_classes):.4f}')\n",
        "print(f'Recall: {recall_score(y_test, prediction_classes):.4f}')"
      ],
      "metadata": {
        "colab": {
          "base_uri": "https://localhost:8080/"
        },
        "id": "wALC8FTy9jS_",
        "outputId": "497ec1b8-4b96-4787-e99a-7584f7e0bd16"
      },
      "execution_count": 38,
      "outputs": [
        {
          "output_type": "stream",
          "name": "stdout",
          "text": [
            "4996/4996 [==============================] - 7s 1ms/step\n",
            "Accuracy: 0.9927\n",
            "Precision: 0.9991\n",
            "Recall: 0.9926\n"
          ]
        }
      ]
    },
    {
      "cell_type": "code",
      "source": [],
      "metadata": {
        "id": "hyQ_i4PAAYCl"
      },
      "execution_count": null,
      "outputs": []
    }
  ]
}