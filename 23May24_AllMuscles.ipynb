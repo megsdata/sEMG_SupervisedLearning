{
  "nbformat": 4,
  "nbformat_minor": 0,
  "metadata": {
    "colab": {
      "provenance": [],
      "machine_shape": "hm",
      "gpuType": "T4",
      "authorship_tag": "ABX9TyPnnih3TaPs/+3UMA9UMH6Q",
      "include_colab_link": true
    },
    "kernelspec": {
      "name": "python3",
      "display_name": "Python 3"
    },
    "language_info": {
      "name": "python"
    },
    "accelerator": "GPU",
    "gpuClass": "standard"
  },
  "cells": [
    {
      "cell_type": "markdown",
      "metadata": {
        "id": "view-in-github",
        "colab_type": "text"
      },
      "source": [
        "<a href=\"https://colab.research.google.com/github/megsdata/sEMG_SupervisedLearning/blob/main/23May24_AllMuscles.ipynb\" target=\"_parent\"><img src=\"https://colab.research.google.com/assets/colab-badge.svg\" alt=\"Open In Colab\"/></a>"
      ]
    },
    {
      "cell_type": "code",
      "execution_count": 57,
      "metadata": {
        "id": "blOYjYQr6ZDj"
      },
      "outputs": [],
      "source": [
        "import pandas as pd\n",
        "import numpy as np\n",
        "import matplotlib.pyplot as plt\n",
        "import pyspark"
      ]
    },
    {
      "cell_type": "code",
      "source": [
        "!pip install pyspark"
      ],
      "metadata": {
        "colab": {
          "base_uri": "https://localhost:8080/"
        },
        "id": "5fpjt6I1tD1n",
        "outputId": "dd69d64a-2298-4e41-ddd4-f3f1f7f8970e"
      },
      "execution_count": 53,
      "outputs": [
        {
          "output_type": "stream",
          "name": "stdout",
          "text": [
            "Looking in indexes: https://pypi.org/simple, https://us-python.pkg.dev/colab-wheels/public/simple/\n",
            "Collecting pyspark\n",
            "  Downloading pyspark-3.4.0.tar.gz (310.8 MB)\n",
            "\u001b[2K     \u001b[90m━━━━━━━━━━━━━━━━━━━━━━━━━━━━━━━━━━━━━━━\u001b[0m \u001b[32m310.8/310.8 MB\u001b[0m \u001b[31m3.3 MB/s\u001b[0m eta \u001b[36m0:00:00\u001b[0m\n",
            "\u001b[?25h  Preparing metadata (setup.py) ... \u001b[?25l\u001b[?25hdone\n",
            "Requirement already satisfied: py4j==0.10.9.7 in /usr/local/lib/python3.10/dist-packages (from pyspark) (0.10.9.7)\n",
            "Building wheels for collected packages: pyspark\n",
            "  Building wheel for pyspark (setup.py) ... \u001b[?25l\u001b[?25hdone\n",
            "  Created wheel for pyspark: filename=pyspark-3.4.0-py2.py3-none-any.whl size=311317130 sha256=676ec94abad02bee8302393556b2e157098a9715f2e7edddddfe00b6c5a99267\n",
            "  Stored in directory: /root/.cache/pip/wheels/7b/1b/4b/3363a1d04368e7ff0d408e57ff57966fcdf00583774e761327\n",
            "Successfully built pyspark\n",
            "Installing collected packages: pyspark\n",
            "Successfully installed pyspark-3.4.0\n"
          ]
        }
      ]
    },
    {
      "cell_type": "code",
      "source": [
        "from google.colab import drive\n",
        "drive.mount('/MSC_THESIS/')"
      ],
      "metadata": {
        "id": "7f56ggMv615g",
        "colab": {
          "base_uri": "https://localhost:8080/"
        },
        "outputId": "8ecc1d47-62af-4b7f-e247-8504f825ac1b"
      },
      "execution_count": 2,
      "outputs": [
        {
          "output_type": "stream",
          "name": "stdout",
          "text": [
            "Mounted at /MSC_THESIS/\n"
          ]
        }
      ]
    },
    {
      "cell_type": "code",
      "source": [
        "from pandas.core.internals.array_manager import take_1d\n",
        "%cd /MSC_THESIS/MyDrive/School - Ryerson Graduate/MSC_THESIS/All_Data\n",
        "!ls -m"
      ],
      "metadata": {
        "colab": {
          "base_uri": "https://localhost:8080/"
        },
        "id": "xKW-pwimQtA8",
        "outputId": "fbbc4711-4fda-4aa3-d3a1-d480478c98ab"
      },
      "execution_count": 31,
      "outputs": [
        {
          "output_type": "stream",
          "name": "stdout",
          "text": [
            "/MSC_THESIS/MyDrive/School - Ryerson Graduate/MSC_THESIS/All_Data\n",
            "22-May-2023_101_MATRIX.xlsx, 22-May-2023_102_MATRIX.xlsx,\n",
            "22-May-2023_103_MATRIX.xlsx, 22-May-2023_104_MATRIX.xlsx,\n",
            "22-May-2023_116_MATRIX.xlsx, 22-May-2023_121_MATRIX.xlsx,\n",
            "22-May-2023_122_MATRIX.xlsx, 22-May-2023_123_MATRIX.xlsx,\n",
            "22-May-2023_124_MATRIX.xlsx, 22-May-2023_125_MATRIX.xlsx,\n",
            "22-May-2023_12_MATRIX.xlsx, 22-May-2023_13_MATRIX.xlsx,\n",
            "22-May-2023_14_MATRIX.xlsx, 22-May-2023_15_MATRIX.xlsx,\n",
            "22-May-2023_16_MATRIX.xlsx, 22-May-2023_21_MATRIX.xlsx,\n",
            "22-May-2023_22_MATRIX.xlsx, 22-May-2023_23_MATRIX.xlsx,\n",
            "22-May-2023_24_MATRIX.xlsx, 22-May-2023_25_MATRIX.xlsx,\n",
            "22-May-2023_26_MATRIX.xlsx, 22-May-2023_31_MATRIX.xlsx,\n",
            "22-May-2023_32_MATRIX.xlsx, 22-May-2023_33_MATRIX.xlsx,\n",
            "22-May-2023_35_MATRIX.xlsx, 22-May-2023_36_MATRIX.xlsx,\n",
            "22-May-2023_41_MATRIX.xlsx, 22-May-2023_42_MATRIX.xlsx,\n",
            "22-May-2023_43_MATRIX.xlsx, 22-May-2023_44_MATRIX.xlsx,\n",
            "22-May-2023_45_MATRIX.xlsx, 22-May-2023_46_MATRIX.xlsx,\n",
            "22-May-2023_51_MATRIX.xlsx, 22-May-2023_52_MATRIX.xlsx,\n",
            "22-May-2023_53_MATRIX.xlsx, 22-May-2023_54_MATRIX.xlsx,\n",
            "22-May-2023_55_MATRIX.xlsx, 22-May-2023_56_MATRIX.xlsx,\n",
            "22-May-2023_61_MATRIX.xlsx, 22-May-2023_62_MATRIX.xlsx,\n",
            "22-May-2023_63_MATRIX.xlsx, 22-May-2023_64_MATRIX.xlsx,\n",
            "22-May-2023_65_MATRIX.xlsx, 22-May-2023_66_MATRIX.xlsx,\n",
            "22-May-2023_71_MATRIX.xlsx, 22-May-2023_72_MATRIX.xlsx,\n",
            "22-May-2023_73_MATRIX.xlsx, 22-May-2023_74_MATRIX.xlsx,\n",
            "22-May-2023_75_MATRIX.xlsx, 22-May-2023_76_MATRIX.xlsx,\n",
            "22-May-2023_81_MATRIX.xlsx, 22-May-2023_82_MATRIX.xlsx,\n",
            "22-May-2023_83_MATRIX.xlsx, 22-May-2023_84_MATRIX.xlsx,\n",
            "22-May-2023_85_MATRIX.xlsx, 22-May-2023_86_MATRIX.xlsx,\n",
            "22-May-2023_91_MATRIX.xlsx, 22-May-2023_92_MATRIX.xlsx,\n",
            "22-May-2023_93_MATRIX.xlsx, 22-May-2023_94_MATRIX.xlsx,\n",
            "22-May-2023_95_MATRIX.xlsx, 22-May-2023_96_MATRIX.xlsx\n"
          ]
        }
      ]
    },
    {
      "cell_type": "code",
      "source": [
        "#making reading the files more efficient -ignore for now\n",
        "mylist = !ls -m\n",
        "elements = list()\n",
        "for i in range(len(mylist)):\n",
        "  elements.append(mylist[i].split(\",\"))\n",
        "  elements.pop()\n",
        "print(elements)"
      ],
      "metadata": {
        "id": "R6EySPK-deAc"
      },
      "execution_count": null,
      "outputs": []
    },
    {
      "cell_type": "code",
      "source": [
        "#reading all the files\n",
        "all_list = ['22-May-2023_101_MATRIX.xlsx', '22-May-2023_102_MATRIX.xlsx', \\\n",
        "            '22-May-2023_103_MATRIX.xlsx', '22-May-2023_104_MATRIX.xlsx', \\\n",
        "            '22-May-2023_116_MATRIX.xlsx', '22-May-2023_121_MATRIX.xlsx', \\\n",
        "            '22-May-2023_122_MATRIX.xlsx', '22-May-2023_123_MATRIX.xlsx', \\\n",
        "            '22-May-2023_124_MATRIX.xlsx', '22-May-2023_125_MATRIX.xlsx', \\\n",
        "            '22-May-2023_12_MATRIX.xlsx', '22-May-2023_13_MATRIX.xlsx', \\\n",
        "            '22-May-2023_14_MATRIX.xlsx', '22-May-2023_15_MATRIX.xlsx', \\\n",
        "            '22-May-2023_16_MATRIX.xlsx', '22-May-2023_21_MATRIX.xlsx', \\\n",
        "            '22-May-2023_22_MATRIX.xlsx', '22-May-2023_23_MATRIX.xlsx', \\\n",
        "            '22-May-2023_24_MATRIX.xlsx', '22-May-2023_25_MATRIX.xlsx', \\\n",
        "            '22-May-2023_26_MATRIX.xlsx', '22-May-2023_31_MATRIX.xlsx', \\\n",
        "            '22-May-2023_32_MATRIX.xlsx', '22-May-2023_33_MATRIX.xlsx', \\\n",
        "            '22-May-2023_35_MATRIX.xlsx', '22-May-2023_36_MATRIX.xlsx', \\\n",
        "            '22-May-2023_41_MATRIX.xlsx', '22-May-2023_42_MATRIX.xlsx', \\\n",
        "            '22-May-2023_43_MATRIX.xlsx', '22-May-2023_44_MATRIX.xlsx', \\\n",
        "            '22-May-2023_45_MATRIX.xlsx', '22-May-2023_46_MATRIX.xlsx', \\\n",
        "            '22-May-2023_51_MATRIX.xlsx', '22-May-2023_52_MATRIX.xlsx', \\\n",
        "            '22-May-2023_53_MATRIX.xlsx', '22-May-2023_54_MATRIX.xlsx', \\\n",
        "            '22-May-2023_55_MATRIX.xlsx', '22-May-2023_56_MATRIX.xlsx', \\\n",
        "            '22-May-2023_61_MATRIX.xlsx', '22-May-2023_62_MATRIX.xlsx', \\\n",
        "            '22-May-2023_63_MATRIX.xlsx', '22-May-2023_64_MATRIX.xlsx', \\\n",
        "            '22-May-2023_65_MATRIX.xlsx', '22-May-2023_66_MATRIX.xlsx', \\\n",
        "            '22-May-2023_71_MATRIX.xlsx', '22-May-2023_72_MATRIX.xlsx', \\\n",
        "            '22-May-2023_73_MATRIX.xlsx', '22-May-2023_74_MATRIX.xlsx', \\\n",
        "            '22-May-2023_75_MATRIX.xlsx', '22-May-2023_76_MATRIX.xlsx', \\\n",
        "            '22-May-2023_81_MATRIX.xlsx', '22-May-2023_82_MATRIX.xlsx', \\\n",
        "            '22-May-2023_83_MATRIX.xlsx', '22-May-2023_84_MATRIX.xlsx', \\\n",
        "            '22-May-2023_85_MATRIX.xlsx', '22-May-2023_86_MATRIX.xlsx', \\\n",
        "            '22-May-2023_91_MATRIX.xlsx', '22-May-2023_92_MATRIX.xlsx', \\\n",
        "            '22-May-2023_93_MATRIX.xlsx', '22-May-2023_94_MATRIX.xlsx', \\\n",
        "            '22-May-2023_95_MATRIX.xlsx', '22-May-2023_96_MATRIX.xlsx' \\\n",
        "]"
      ],
      "metadata": {
        "colab": {
          "base_uri": "https://localhost:8080/"
        },
        "id": "cPtk9VSPehqn",
        "outputId": "1a8d1ae0-25de-4f03-e801-066c28f087a6"
      },
      "execution_count": 32,
      "outputs": [
        {
          "output_type": "stream",
          "name": "stdout",
          "text": [
            "['22-May-2023_101_MATRIX.xlsx', '22-May-2023_102_MATRIX.xlsx', '22-May-2023_103_MATRIX.xlsx', '22-May-2023_104_MATRIX.xlsx', '22-May-2023_116_MATRIX.xlsx', '22-May-2023_121_MATRIX.xlsx', '22-May-2023_122_MATRIX.xlsx', '22-May-2023_123_MATRIX.xlsx', '22-May-2023_124_MATRIX.xlsx', '22-May-2023_125_MATRIX.xlsx', '22-May-2023_12_MATRIX.xlsx', '22-May-2023_13_MATRIX.xlsx', '22-May-2023_14_MATRIX.xlsx', '22-May-2023_15_MATRIX.xlsx', '22-May-2023_16_MATRIX.xlsx', '22-May-2023_21_MATRIX.xlsx', '22-May-2023_22_MATRIX.xlsx', '22-May-2023_23_MATRIX.xlsx', '22-May-2023_24_MATRIX.xlsx', '22-May-2023_25_MATRIX.xlsx', '22-May-2023_26_MATRIX.xlsx', '22-May-2023_31_MATRIX.xlsx', '22-May-2023_32_MATRIX.xlsx', '22-May-2023_33_MATRIX.xlsx', '22-May-2023_35_MATRIX.xlsx', '22-May-2023_36_MATRIX.xlsx', '22-May-2023_41_MATRIX.xlsx', '22-May-2023_42_MATRIX.xlsx', '22-May-2023_43_MATRIX.xlsx', '22-May-2023_44_MATRIX.xlsx', '22-May-2023_45_MATRIX.xlsx', '22-May-2023_46_MATRIX.xlsx', '22-May-2023_51_MATRIX.xlsx', '22-May-2023_52_MATRIX.xlsx', '22-May-2023_53_MATRIX.xlsx', '22-May-2023_54_MATRIX.xlsx', '22-May-2023_55_MATRIX.xlsx', '22-May-2023_56_MATRIX.xlsx', '22-May-2023_61_MATRIX.xlsx', '22-May-2023_62_MATRIX.xlsx', '22-May-2023_63_MATRIX.xlsx', '22-May-2023_64_MATRIX.xlsx', '22-May-2023_65_MATRIX.xlsx', '22-May-2023_66_MATRIX.xlsx', '22-May-2023_71_MATRIX.xlsx', '22-May-2023_72_MATRIX.xlsx', '22-May-2023_73_MATRIX.xlsx', '22-May-2023_74_MATRIX.xlsx', '22-May-2023_75_MATRIX.xlsx', '22-May-2023_76_MATRIX.xlsx', '22-May-2023_81_MATRIX.xlsx', '22-May-2023_82_MATRIX.xlsx', '22-May-2023_83_MATRIX.xlsx', '22-May-2023_84_MATRIX.xlsx', '22-May-2023_85_MATRIX.xlsx', '22-May-2023_86_MATRIX.xlsx', '22-May-2023_91_MATRIX.xlsx', '22-May-2023_92_MATRIX.xlsx', '22-May-2023_93_MATRIX.xlsx', '22-May-2023_94_MATRIX.xlsx', '22-May-2023_95_MATRIX.xlsx', '22-May-2023_96_MATRIX.xlsx']\n"
          ]
        }
      ]
    },
    {
      "cell_type": "code",
      "source": [
        "test_df = pyspark.pandas.read_excel('22-May-2023_91_MATRIX.xlsx', index_col=0) \n",
        "test_df.show() "
      ],
      "metadata": {
        "colab": {
          "base_uri": "https://localhost:8080/",
          "height": 187
        },
        "id": "8qr-sbgEuDjJ",
        "outputId": "a347b39a-7193-4bab-d305-b6ad8288b5c4"
      },
      "execution_count": 58,
      "outputs": [
        {
          "output_type": "error",
          "ename": "AttributeError",
          "evalue": "ignored",
          "traceback": [
            "\u001b[0;31m---------------------------------------------------------------------------\u001b[0m",
            "\u001b[0;31mAttributeError\u001b[0m                            Traceback (most recent call last)",
            "\u001b[0;32m<ipython-input-58-546407ff47b7>\u001b[0m in \u001b[0;36m<cell line: 1>\u001b[0;34m()\u001b[0m\n\u001b[0;32m----> 1\u001b[0;31m \u001b[0mtest_df\u001b[0m \u001b[0;34m=\u001b[0m \u001b[0mpyspark\u001b[0m\u001b[0;34m.\u001b[0m\u001b[0mpandas\u001b[0m\u001b[0;34m.\u001b[0m\u001b[0mread_excel\u001b[0m\u001b[0;34m(\u001b[0m\u001b[0;34m'22-May-2023_91_MATRIX.xlsx'\u001b[0m\u001b[0;34m,\u001b[0m \u001b[0mindex_col\u001b[0m\u001b[0;34m=\u001b[0m\u001b[0;36m0\u001b[0m\u001b[0;34m)\u001b[0m\u001b[0;34m\u001b[0m\u001b[0;34m\u001b[0m\u001b[0m\n\u001b[0m\u001b[1;32m      2\u001b[0m \u001b[0mtest_df\u001b[0m\u001b[0;34m.\u001b[0m\u001b[0mshow\u001b[0m\u001b[0;34m(\u001b[0m\u001b[0;34m)\u001b[0m\u001b[0;34m\u001b[0m\u001b[0;34m\u001b[0m\u001b[0m\n",
            "\u001b[0;31mAttributeError\u001b[0m: module 'pyspark' has no attribute 'pandas'"
          ]
        }
      ]
    },
    {
      "cell_type": "code",
      "source": [
        "all_df = pd.read_excel('22-May-2023_101_MATRIX.xlsx', usecols='A, C, D, H, J',\\\n",
        "                 dtype={'Participant ID': 'int32', 'Trial Type':'int32', \\\n",
        "                        'Pulse Width':'float64', 'Pain Label': 'int32', \\\n",
        "                        'EMG(mv)':'float64'})\n",
        "for i in all_list[1:2]:\n",
        "  temp = pd.read_excel(i, usecols='A, C, D, H, J',\\\n",
        "                 dtype={'Participant ID': 'int32', 'Trial Type':'int32', \\\n",
        "                        'Pulse Width':'float64', 'Pain Label': 'int32', \\\n",
        "                        'EMG(mv)':'float64'})\n",
        "  pd.concat([all_df, temp], axis=0)\n",
        "\n",
        "all_df.head()\n",
        "len(all_df.index)"
      ],
      "metadata": {
        "colab": {
          "base_uri": "https://localhost:8080/",
          "height": 206
        },
        "id": "YRJVyd7lgEof",
        "outputId": "3102bcfd-913f-4247-df3b-5d85e4a3e1b0"
      },
      "execution_count": 49,
      "outputs": [
        {
          "output_type": "execute_result",
          "data": {
            "text/plain": [
              "   Participant ID  Trial Type  Pulse Width  Pain Label    EMG(mv)\n",
              "0              10           1     2.299034           1  27.455004\n",
              "1              10           1     2.299034           1  36.682096\n",
              "2              10           1     2.299034           1  48.090407\n",
              "3              10           1     2.299034           1  57.477865\n",
              "4              10           1     2.299034           1  55.186837"
            ],
            "text/html": [
              "\n",
              "  <div id=\"df-ee5046a8-c416-4fda-b832-c0f0d7df87ff\">\n",
              "    <div class=\"colab-df-container\">\n",
              "      <div>\n",
              "<style scoped>\n",
              "    .dataframe tbody tr th:only-of-type {\n",
              "        vertical-align: middle;\n",
              "    }\n",
              "\n",
              "    .dataframe tbody tr th {\n",
              "        vertical-align: top;\n",
              "    }\n",
              "\n",
              "    .dataframe thead th {\n",
              "        text-align: right;\n",
              "    }\n",
              "</style>\n",
              "<table border=\"1\" class=\"dataframe\">\n",
              "  <thead>\n",
              "    <tr style=\"text-align: right;\">\n",
              "      <th></th>\n",
              "      <th>Participant ID</th>\n",
              "      <th>Trial Type</th>\n",
              "      <th>Pulse Width</th>\n",
              "      <th>Pain Label</th>\n",
              "      <th>EMG(mv)</th>\n",
              "    </tr>\n",
              "  </thead>\n",
              "  <tbody>\n",
              "    <tr>\n",
              "      <th>0</th>\n",
              "      <td>10</td>\n",
              "      <td>1</td>\n",
              "      <td>2.299034</td>\n",
              "      <td>1</td>\n",
              "      <td>27.455004</td>\n",
              "    </tr>\n",
              "    <tr>\n",
              "      <th>1</th>\n",
              "      <td>10</td>\n",
              "      <td>1</td>\n",
              "      <td>2.299034</td>\n",
              "      <td>1</td>\n",
              "      <td>36.682096</td>\n",
              "    </tr>\n",
              "    <tr>\n",
              "      <th>2</th>\n",
              "      <td>10</td>\n",
              "      <td>1</td>\n",
              "      <td>2.299034</td>\n",
              "      <td>1</td>\n",
              "      <td>48.090407</td>\n",
              "    </tr>\n",
              "    <tr>\n",
              "      <th>3</th>\n",
              "      <td>10</td>\n",
              "      <td>1</td>\n",
              "      <td>2.299034</td>\n",
              "      <td>1</td>\n",
              "      <td>57.477865</td>\n",
              "    </tr>\n",
              "    <tr>\n",
              "      <th>4</th>\n",
              "      <td>10</td>\n",
              "      <td>1</td>\n",
              "      <td>2.299034</td>\n",
              "      <td>1</td>\n",
              "      <td>55.186837</td>\n",
              "    </tr>\n",
              "  </tbody>\n",
              "</table>\n",
              "</div>\n",
              "      <button class=\"colab-df-convert\" onclick=\"convertToInteractive('df-ee5046a8-c416-4fda-b832-c0f0d7df87ff')\"\n",
              "              title=\"Convert this dataframe to an interactive table.\"\n",
              "              style=\"display:none;\">\n",
              "        \n",
              "  <svg xmlns=\"http://www.w3.org/2000/svg\" height=\"24px\"viewBox=\"0 0 24 24\"\n",
              "       width=\"24px\">\n",
              "    <path d=\"M0 0h24v24H0V0z\" fill=\"none\"/>\n",
              "    <path d=\"M18.56 5.44l.94 2.06.94-2.06 2.06-.94-2.06-.94-.94-2.06-.94 2.06-2.06.94zm-11 1L8.5 8.5l.94-2.06 2.06-.94-2.06-.94L8.5 2.5l-.94 2.06-2.06.94zm10 10l.94 2.06.94-2.06 2.06-.94-2.06-.94-.94-2.06-.94 2.06-2.06.94z\"/><path d=\"M17.41 7.96l-1.37-1.37c-.4-.4-.92-.59-1.43-.59-.52 0-1.04.2-1.43.59L10.3 9.45l-7.72 7.72c-.78.78-.78 2.05 0 2.83L4 21.41c.39.39.9.59 1.41.59.51 0 1.02-.2 1.41-.59l7.78-7.78 2.81-2.81c.8-.78.8-2.07 0-2.86zM5.41 20L4 18.59l7.72-7.72 1.47 1.35L5.41 20z\"/>\n",
              "  </svg>\n",
              "      </button>\n",
              "      \n",
              "  <style>\n",
              "    .colab-df-container {\n",
              "      display:flex;\n",
              "      flex-wrap:wrap;\n",
              "      gap: 12px;\n",
              "    }\n",
              "\n",
              "    .colab-df-convert {\n",
              "      background-color: #E8F0FE;\n",
              "      border: none;\n",
              "      border-radius: 50%;\n",
              "      cursor: pointer;\n",
              "      display: none;\n",
              "      fill: #1967D2;\n",
              "      height: 32px;\n",
              "      padding: 0 0 0 0;\n",
              "      width: 32px;\n",
              "    }\n",
              "\n",
              "    .colab-df-convert:hover {\n",
              "      background-color: #E2EBFA;\n",
              "      box-shadow: 0px 1px 2px rgba(60, 64, 67, 0.3), 0px 1px 3px 1px rgba(60, 64, 67, 0.15);\n",
              "      fill: #174EA6;\n",
              "    }\n",
              "\n",
              "    [theme=dark] .colab-df-convert {\n",
              "      background-color: #3B4455;\n",
              "      fill: #D2E3FC;\n",
              "    }\n",
              "\n",
              "    [theme=dark] .colab-df-convert:hover {\n",
              "      background-color: #434B5C;\n",
              "      box-shadow: 0px 1px 3px 1px rgba(0, 0, 0, 0.15);\n",
              "      filter: drop-shadow(0px 1px 2px rgba(0, 0, 0, 0.3));\n",
              "      fill: #FFFFFF;\n",
              "    }\n",
              "  </style>\n",
              "\n",
              "      <script>\n",
              "        const buttonEl =\n",
              "          document.querySelector('#df-ee5046a8-c416-4fda-b832-c0f0d7df87ff button.colab-df-convert');\n",
              "        buttonEl.style.display =\n",
              "          google.colab.kernel.accessAllowed ? 'block' : 'none';\n",
              "\n",
              "        async function convertToInteractive(key) {\n",
              "          const element = document.querySelector('#df-ee5046a8-c416-4fda-b832-c0f0d7df87ff');\n",
              "          const dataTable =\n",
              "            await google.colab.kernel.invokeFunction('convertToInteractive',\n",
              "                                                     [key], {});\n",
              "          if (!dataTable) return;\n",
              "\n",
              "          const docLinkHtml = 'Like what you see? Visit the ' +\n",
              "            '<a target=\"_blank\" href=https://colab.research.google.com/notebooks/data_table.ipynb>data table notebook</a>'\n",
              "            + ' to learn more about interactive tables.';\n",
              "          element.innerHTML = '';\n",
              "          dataTable['output_type'] = 'display_data';\n",
              "          await google.colab.output.renderOutput(dataTable, element);\n",
              "          const docLink = document.createElement('div');\n",
              "          docLink.innerHTML = docLinkHtml;\n",
              "          element.appendChild(docLink);\n",
              "        }\n",
              "      </script>\n",
              "    </div>\n",
              "  </div>\n",
              "  "
            ]
          },
          "metadata": {},
          "execution_count": 49
        }
      ]
    },
    {
      "cell_type": "code",
      "source": [
        "len(all_df.index)"
      ],
      "metadata": {
        "colab": {
          "base_uri": "https://localhost:8080/"
        },
        "id": "C9hWp0BQ8Iib",
        "outputId": "41f89654-9bb6-4e07-b7a4-fe89fa880006"
      },
      "execution_count": 50,
      "outputs": [
        {
          "output_type": "execute_result",
          "data": {
            "text/plain": [
              "80734"
            ]
          },
          "metadata": {},
          "execution_count": 50
        }
      ]
    },
    {
      "cell_type": "code",
      "source": [
        "all_df.shape[0]"
      ],
      "metadata": {
        "colab": {
          "base_uri": "https://localhost:8080/"
        },
        "id": "g31mtQxrsiWL",
        "outputId": "eb00753b-08be-4865-84ae-94be61899e78"
      },
      "execution_count": 52,
      "outputs": [
        {
          "output_type": "execute_result",
          "data": {
            "text/plain": [
              "80734"
            ]
          },
          "metadata": {},
          "execution_count": 52
        }
      ]
    },
    {
      "cell_type": "code",
      "source": [
        "import sys\n",
        "import gc\n",
        "def obj_size_fmt(num):\n",
        "    if num<10**3:\n",
        "        return \"{:.2f}{}\".format(num,\"B\")\n",
        "    elif ((num>=10**3)&(num<10**6)):\n",
        "        return \"{:.2f}{}\".format(num/(1.024*10**3),\"KB\")\n",
        "    elif ((num>=10**6)&(num<10**9)):\n",
        "        return \"{:.2f}{}\".format(num/(1.024*10**6),\"MB\")\n",
        "    else:\n",
        "        return \"{:.2f}{}\".format(num/(1.024*10**9),\"GB\")\n",
        "\n",
        "\n",
        "def memory_usage():\n",
        "    memory_usage_by_variable=pd.DataFrame({k:sys.getsizeof(v)\\\n",
        "    for (k,v) in globals().items()},index=['Size'])\n",
        "    memory_usage_by_variable=memory_usage_by_variable.T\n",
        "    memory_usage_by_variable=memory_usage_by_variable\\\n",
        "    .sort_values(by='Size',ascending=False).head(10)\n",
        "    memory_usage_by_variable['Size']=memory_usage_by_variable['Size']\\\n",
        "    .apply(lambda x: obj_size_fmt(x))\n",
        "    return memory_usage_by_variable\n",
        "memory_usage()"
      ],
      "metadata": {
        "colab": {
          "base_uri": "https://localhost:8080/",
          "height": 363
        },
        "id": "5rni-KcpHAV7",
        "outputId": "aa902a0b-a58e-4bc0-9d63-b7ac52986d26"
      },
      "execution_count": 51,
      "outputs": [
        {
          "output_type": "execute_result",
          "data": {
            "text/plain": [
              "           Size\n",
              "all_df   2.21MB\n",
              "temp     1.72MB\n",
              "_i32     2.34KB\n",
              "_i41    913.00B\n",
              "_i51    868.00B\n",
              "_ii     644.00B\n",
              "_i49    644.00B\n",
              "_i40    610.00B\n",
              "_i39    589.00B\n",
              "_i38    572.00B"
            ],
            "text/html": [
              "\n",
              "  <div id=\"df-24c57bf7-eab5-41b4-9b68-1a98a8c9d61d\">\n",
              "    <div class=\"colab-df-container\">\n",
              "      <div>\n",
              "<style scoped>\n",
              "    .dataframe tbody tr th:only-of-type {\n",
              "        vertical-align: middle;\n",
              "    }\n",
              "\n",
              "    .dataframe tbody tr th {\n",
              "        vertical-align: top;\n",
              "    }\n",
              "\n",
              "    .dataframe thead th {\n",
              "        text-align: right;\n",
              "    }\n",
              "</style>\n",
              "<table border=\"1\" class=\"dataframe\">\n",
              "  <thead>\n",
              "    <tr style=\"text-align: right;\">\n",
              "      <th></th>\n",
              "      <th>Size</th>\n",
              "    </tr>\n",
              "  </thead>\n",
              "  <tbody>\n",
              "    <tr>\n",
              "      <th>all_df</th>\n",
              "      <td>2.21MB</td>\n",
              "    </tr>\n",
              "    <tr>\n",
              "      <th>temp</th>\n",
              "      <td>1.72MB</td>\n",
              "    </tr>\n",
              "    <tr>\n",
              "      <th>_i32</th>\n",
              "      <td>2.34KB</td>\n",
              "    </tr>\n",
              "    <tr>\n",
              "      <th>_i41</th>\n",
              "      <td>913.00B</td>\n",
              "    </tr>\n",
              "    <tr>\n",
              "      <th>_i51</th>\n",
              "      <td>868.00B</td>\n",
              "    </tr>\n",
              "    <tr>\n",
              "      <th>_ii</th>\n",
              "      <td>644.00B</td>\n",
              "    </tr>\n",
              "    <tr>\n",
              "      <th>_i49</th>\n",
              "      <td>644.00B</td>\n",
              "    </tr>\n",
              "    <tr>\n",
              "      <th>_i40</th>\n",
              "      <td>610.00B</td>\n",
              "    </tr>\n",
              "    <tr>\n",
              "      <th>_i39</th>\n",
              "      <td>589.00B</td>\n",
              "    </tr>\n",
              "    <tr>\n",
              "      <th>_i38</th>\n",
              "      <td>572.00B</td>\n",
              "    </tr>\n",
              "  </tbody>\n",
              "</table>\n",
              "</div>\n",
              "      <button class=\"colab-df-convert\" onclick=\"convertToInteractive('df-24c57bf7-eab5-41b4-9b68-1a98a8c9d61d')\"\n",
              "              title=\"Convert this dataframe to an interactive table.\"\n",
              "              style=\"display:none;\">\n",
              "        \n",
              "  <svg xmlns=\"http://www.w3.org/2000/svg\" height=\"24px\"viewBox=\"0 0 24 24\"\n",
              "       width=\"24px\">\n",
              "    <path d=\"M0 0h24v24H0V0z\" fill=\"none\"/>\n",
              "    <path d=\"M18.56 5.44l.94 2.06.94-2.06 2.06-.94-2.06-.94-.94-2.06-.94 2.06-2.06.94zm-11 1L8.5 8.5l.94-2.06 2.06-.94-2.06-.94L8.5 2.5l-.94 2.06-2.06.94zm10 10l.94 2.06.94-2.06 2.06-.94-2.06-.94-.94-2.06-.94 2.06-2.06.94z\"/><path d=\"M17.41 7.96l-1.37-1.37c-.4-.4-.92-.59-1.43-.59-.52 0-1.04.2-1.43.59L10.3 9.45l-7.72 7.72c-.78.78-.78 2.05 0 2.83L4 21.41c.39.39.9.59 1.41.59.51 0 1.02-.2 1.41-.59l7.78-7.78 2.81-2.81c.8-.78.8-2.07 0-2.86zM5.41 20L4 18.59l7.72-7.72 1.47 1.35L5.41 20z\"/>\n",
              "  </svg>\n",
              "      </button>\n",
              "      \n",
              "  <style>\n",
              "    .colab-df-container {\n",
              "      display:flex;\n",
              "      flex-wrap:wrap;\n",
              "      gap: 12px;\n",
              "    }\n",
              "\n",
              "    .colab-df-convert {\n",
              "      background-color: #E8F0FE;\n",
              "      border: none;\n",
              "      border-radius: 50%;\n",
              "      cursor: pointer;\n",
              "      display: none;\n",
              "      fill: #1967D2;\n",
              "      height: 32px;\n",
              "      padding: 0 0 0 0;\n",
              "      width: 32px;\n",
              "    }\n",
              "\n",
              "    .colab-df-convert:hover {\n",
              "      background-color: #E2EBFA;\n",
              "      box-shadow: 0px 1px 2px rgba(60, 64, 67, 0.3), 0px 1px 3px 1px rgba(60, 64, 67, 0.15);\n",
              "      fill: #174EA6;\n",
              "    }\n",
              "\n",
              "    [theme=dark] .colab-df-convert {\n",
              "      background-color: #3B4455;\n",
              "      fill: #D2E3FC;\n",
              "    }\n",
              "\n",
              "    [theme=dark] .colab-df-convert:hover {\n",
              "      background-color: #434B5C;\n",
              "      box-shadow: 0px 1px 3px 1px rgba(0, 0, 0, 0.15);\n",
              "      filter: drop-shadow(0px 1px 2px rgba(0, 0, 0, 0.3));\n",
              "      fill: #FFFFFF;\n",
              "    }\n",
              "  </style>\n",
              "\n",
              "      <script>\n",
              "        const buttonEl =\n",
              "          document.querySelector('#df-24c57bf7-eab5-41b4-9b68-1a98a8c9d61d button.colab-df-convert');\n",
              "        buttonEl.style.display =\n",
              "          google.colab.kernel.accessAllowed ? 'block' : 'none';\n",
              "\n",
              "        async function convertToInteractive(key) {\n",
              "          const element = document.querySelector('#df-24c57bf7-eab5-41b4-9b68-1a98a8c9d61d');\n",
              "          const dataTable =\n",
              "            await google.colab.kernel.invokeFunction('convertToInteractive',\n",
              "                                                     [key], {});\n",
              "          if (!dataTable) return;\n",
              "\n",
              "          const docLinkHtml = 'Like what you see? Visit the ' +\n",
              "            '<a target=\"_blank\" href=https://colab.research.google.com/notebooks/data_table.ipynb>data table notebook</a>'\n",
              "            + ' to learn more about interactive tables.';\n",
              "          element.innerHTML = '';\n",
              "          dataTable['output_type'] = 'display_data';\n",
              "          await google.colab.output.renderOutput(dataTable, element);\n",
              "          const docLink = document.createElement('div');\n",
              "          docLink.innerHTML = docLinkHtml;\n",
              "          element.appendChild(docLink);\n",
              "        }\n",
              "      </script>\n",
              "    </div>\n",
              "  </div>\n",
              "  "
            ]
          },
          "metadata": {},
          "execution_count": 51
        }
      ]
    },
    {
      "cell_type": "code",
      "source": [
        "#select features\n",
        "X = df_merged[['EMG(mv)', 'Pulse Width']]\n",
        "y = df_merged['Pain Label']"
      ],
      "metadata": {
        "id": "iv8ip7YMRfoi",
        "colab": {
          "base_uri": "https://localhost:8080/",
          "height": 204
        },
        "outputId": "7ffdccf1-7b4c-43b1-bba8-dd2b94a83acd"
      },
      "execution_count": null,
      "outputs": [
        {
          "output_type": "error",
          "ename": "NameError",
          "evalue": "ignored",
          "traceback": [
            "\u001b[0;31m---------------------------------------------------------------------------\u001b[0m",
            "\u001b[0;31mNameError\u001b[0m                                 Traceback (most recent call last)",
            "\u001b[0;32m<ipython-input-2-9503db503f58>\u001b[0m in \u001b[0;36m<cell line: 2>\u001b[0;34m()\u001b[0m\n\u001b[1;32m      1\u001b[0m \u001b[0;31m#select features\u001b[0m\u001b[0;34m\u001b[0m\u001b[0;34m\u001b[0m\u001b[0m\n\u001b[0;32m----> 2\u001b[0;31m \u001b[0mX\u001b[0m \u001b[0;34m=\u001b[0m \u001b[0mdf_merged\u001b[0m\u001b[0;34m[\u001b[0m\u001b[0;34m[\u001b[0m\u001b[0;34m'EMG(mv)'\u001b[0m\u001b[0;34m,\u001b[0m \u001b[0;34m'Pulse Width'\u001b[0m\u001b[0;34m]\u001b[0m\u001b[0;34m]\u001b[0m\u001b[0;34m\u001b[0m\u001b[0;34m\u001b[0m\u001b[0m\n\u001b[0m\u001b[1;32m      3\u001b[0m \u001b[0my\u001b[0m \u001b[0;34m=\u001b[0m \u001b[0mdf_merged\u001b[0m\u001b[0;34m[\u001b[0m\u001b[0;34m'Pain Label'\u001b[0m\u001b[0;34m]\u001b[0m\u001b[0;34m\u001b[0m\u001b[0;34m\u001b[0m\u001b[0m\n",
            "\u001b[0;31mNameError\u001b[0m: name 'df_merged' is not defined"
          ]
        }
      ]
    },
    {
      "cell_type": "code",
      "source": [
        "#create data split\n",
        "from sklearn.model_selection import train_test_split\n",
        "X_train, X_test, y_train, y_test = train_test_split(X, y, test_size=0.2, random_state=42)\n",
        "X_train, X_val, y_train, y_val = train_test_split(X_train, y_train, test_size=0.2, random_state=42)"
      ],
      "metadata": {
        "id": "4GP7Q1ZdQtky"
      },
      "execution_count": null,
      "outputs": []
    },
    {
      "cell_type": "code",
      "source": [
        "from sklearn.preprocessing import StandardScaler\n",
        "\n",
        "scaler = StandardScaler()\n",
        "X_train_scaled = scaler.fit_transform(X_train)\n",
        "X_test_scaled = scaler.transform(X_test)\n",
        "X_vak_scaled = scaler.transform(X_val)"
      ],
      "metadata": {
        "id": "FuxCrPcJ8zuk",
        "colab": {
          "base_uri": "https://localhost:8080/",
          "height": 240
        },
        "outputId": "5eb9da5a-5bf4-4ad1-d8c6-03fa43a3e34d"
      },
      "execution_count": null,
      "outputs": [
        {
          "output_type": "error",
          "ename": "NameError",
          "evalue": "ignored",
          "traceback": [
            "\u001b[0;31m---------------------------------------------------------------------------\u001b[0m",
            "\u001b[0;31mNameError\u001b[0m                                 Traceback (most recent call last)",
            "\u001b[0;32m<ipython-input-1-317e677bad4d>\u001b[0m in \u001b[0;36m<cell line: 4>\u001b[0;34m()\u001b[0m\n\u001b[1;32m      2\u001b[0m \u001b[0;34m\u001b[0m\u001b[0m\n\u001b[1;32m      3\u001b[0m \u001b[0mscaler\u001b[0m \u001b[0;34m=\u001b[0m \u001b[0mStandardScaler\u001b[0m\u001b[0;34m(\u001b[0m\u001b[0;34m)\u001b[0m\u001b[0;34m\u001b[0m\u001b[0;34m\u001b[0m\u001b[0m\n\u001b[0;32m----> 4\u001b[0;31m \u001b[0mX_train_scaled\u001b[0m \u001b[0;34m=\u001b[0m \u001b[0mscaler\u001b[0m\u001b[0;34m.\u001b[0m\u001b[0mfit_transform\u001b[0m\u001b[0;34m(\u001b[0m\u001b[0mX_train\u001b[0m\u001b[0;34m)\u001b[0m\u001b[0;34m\u001b[0m\u001b[0;34m\u001b[0m\u001b[0m\n\u001b[0m\u001b[1;32m      5\u001b[0m \u001b[0mX_test_scaled\u001b[0m \u001b[0;34m=\u001b[0m \u001b[0mscaler\u001b[0m\u001b[0;34m.\u001b[0m\u001b[0mtransform\u001b[0m\u001b[0;34m(\u001b[0m\u001b[0mX_test\u001b[0m\u001b[0;34m)\u001b[0m\u001b[0;34m\u001b[0m\u001b[0;34m\u001b[0m\u001b[0m\n\u001b[1;32m      6\u001b[0m \u001b[0mX_vak_scaled\u001b[0m \u001b[0;34m=\u001b[0m \u001b[0mscaler\u001b[0m\u001b[0;34m.\u001b[0m\u001b[0mtransform\u001b[0m\u001b[0;34m(\u001b[0m\u001b[0mX_val\u001b[0m\u001b[0;34m)\u001b[0m\u001b[0;34m\u001b[0m\u001b[0;34m\u001b[0m\u001b[0m\n",
            "\u001b[0;31mNameError\u001b[0m: name 'X_train' is not defined"
          ]
        }
      ]
    },
    {
      "cell_type": "markdown",
      "source": [
        "Fully Connected Multi-Layer Perceptron"
      ],
      "metadata": {
        "id": "BJ-rQsZCWZSj"
      }
    },
    {
      "cell_type": "code",
      "source": [
        "from sklearn.neural_network import MLPClassifier\n",
        "clf = MLPClassifier(hidden_layer_sizes=(6,5),\n",
        "                    random_state=5,\n",
        "                    verbose=True,\n",
        "                    learning_rate_init=0.01)\n",
        "clf.fit(X_train,y_train)"
      ],
      "metadata": {
        "colab": {
          "base_uri": "https://localhost:8080/",
          "height": 431
        },
        "id": "sFVuC_B3UVHM",
        "outputId": "74ff50a1-0c70-4390-cd6d-30e802841b42"
      },
      "execution_count": null,
      "outputs": [
        {
          "output_type": "stream",
          "name": "stdout",
          "text": [
            "Iteration 1, loss = 0.58793879\n",
            "Iteration 2, loss = 0.55681952\n",
            "Iteration 3, loss = 0.55099153\n",
            "Iteration 4, loss = 0.55036981\n",
            "Iteration 5, loss = 0.54528280\n",
            "Iteration 6, loss = 0.54069254\n",
            "Iteration 7, loss = 0.53794120\n",
            "Iteration 8, loss = 0.53951568\n",
            "Iteration 9, loss = 0.54397273\n",
            "Iteration 10, loss = 0.56205983\n",
            "Iteration 11, loss = 0.56153038\n",
            "Iteration 12, loss = 0.56193324\n",
            "Iteration 13, loss = 0.56159193\n",
            "Iteration 14, loss = 0.56040713\n",
            "Iteration 15, loss = 0.56043947\n",
            "Iteration 16, loss = 0.56189055\n",
            "Iteration 17, loss = 0.56115181\n",
            "Iteration 18, loss = 0.56205467\n",
            "Training loss did not improve more than tol=0.000100 for 10 consecutive epochs. Stopping.\n"
          ]
        },
        {
          "output_type": "execute_result",
          "data": {
            "text/plain": [
              "MLPClassifier(hidden_layer_sizes=(6, 5), learning_rate_init=0.01,\n",
              "              random_state=5, verbose=True)"
            ],
            "text/html": [
              "<style>#sk-container-id-2 {color: black;background-color: white;}#sk-container-id-2 pre{padding: 0;}#sk-container-id-2 div.sk-toggleable {background-color: white;}#sk-container-id-2 label.sk-toggleable__label {cursor: pointer;display: block;width: 100%;margin-bottom: 0;padding: 0.3em;box-sizing: border-box;text-align: center;}#sk-container-id-2 label.sk-toggleable__label-arrow:before {content: \"▸\";float: left;margin-right: 0.25em;color: #696969;}#sk-container-id-2 label.sk-toggleable__label-arrow:hover:before {color: black;}#sk-container-id-2 div.sk-estimator:hover label.sk-toggleable__label-arrow:before {color: black;}#sk-container-id-2 div.sk-toggleable__content {max-height: 0;max-width: 0;overflow: hidden;text-align: left;background-color: #f0f8ff;}#sk-container-id-2 div.sk-toggleable__content pre {margin: 0.2em;color: black;border-radius: 0.25em;background-color: #f0f8ff;}#sk-container-id-2 input.sk-toggleable__control:checked~div.sk-toggleable__content {max-height: 200px;max-width: 100%;overflow: auto;}#sk-container-id-2 input.sk-toggleable__control:checked~label.sk-toggleable__label-arrow:before {content: \"▾\";}#sk-container-id-2 div.sk-estimator input.sk-toggleable__control:checked~label.sk-toggleable__label {background-color: #d4ebff;}#sk-container-id-2 div.sk-label input.sk-toggleable__control:checked~label.sk-toggleable__label {background-color: #d4ebff;}#sk-container-id-2 input.sk-hidden--visually {border: 0;clip: rect(1px 1px 1px 1px);clip: rect(1px, 1px, 1px, 1px);height: 1px;margin: -1px;overflow: hidden;padding: 0;position: absolute;width: 1px;}#sk-container-id-2 div.sk-estimator {font-family: monospace;background-color: #f0f8ff;border: 1px dotted black;border-radius: 0.25em;box-sizing: border-box;margin-bottom: 0.5em;}#sk-container-id-2 div.sk-estimator:hover {background-color: #d4ebff;}#sk-container-id-2 div.sk-parallel-item::after {content: \"\";width: 100%;border-bottom: 1px solid gray;flex-grow: 1;}#sk-container-id-2 div.sk-label:hover label.sk-toggleable__label {background-color: #d4ebff;}#sk-container-id-2 div.sk-serial::before {content: \"\";position: absolute;border-left: 1px solid gray;box-sizing: border-box;top: 0;bottom: 0;left: 50%;z-index: 0;}#sk-container-id-2 div.sk-serial {display: flex;flex-direction: column;align-items: center;background-color: white;padding-right: 0.2em;padding-left: 0.2em;position: relative;}#sk-container-id-2 div.sk-item {position: relative;z-index: 1;}#sk-container-id-2 div.sk-parallel {display: flex;align-items: stretch;justify-content: center;background-color: white;position: relative;}#sk-container-id-2 div.sk-item::before, #sk-container-id-2 div.sk-parallel-item::before {content: \"\";position: absolute;border-left: 1px solid gray;box-sizing: border-box;top: 0;bottom: 0;left: 50%;z-index: -1;}#sk-container-id-2 div.sk-parallel-item {display: flex;flex-direction: column;z-index: 1;position: relative;background-color: white;}#sk-container-id-2 div.sk-parallel-item:first-child::after {align-self: flex-end;width: 50%;}#sk-container-id-2 div.sk-parallel-item:last-child::after {align-self: flex-start;width: 50%;}#sk-container-id-2 div.sk-parallel-item:only-child::after {width: 0;}#sk-container-id-2 div.sk-dashed-wrapped {border: 1px dashed gray;margin: 0 0.4em 0.5em 0.4em;box-sizing: border-box;padding-bottom: 0.4em;background-color: white;}#sk-container-id-2 div.sk-label label {font-family: monospace;font-weight: bold;display: inline-block;line-height: 1.2em;}#sk-container-id-2 div.sk-label-container {text-align: center;}#sk-container-id-2 div.sk-container {/* jupyter's `normalize.less` sets `[hidden] { display: none; }` but bootstrap.min.css set `[hidden] { display: none !important; }` so we also need the `!important` here to be able to override the default hidden behavior on the sphinx rendered scikit-learn.org. See: https://github.com/scikit-learn/scikit-learn/issues/21755 */display: inline-block !important;position: relative;}#sk-container-id-2 div.sk-text-repr-fallback {display: none;}</style><div id=\"sk-container-id-2\" class=\"sk-top-container\"><div class=\"sk-text-repr-fallback\"><pre>MLPClassifier(hidden_layer_sizes=(6, 5), learning_rate_init=0.01,\n",
              "              random_state=5, verbose=True)</pre><b>In a Jupyter environment, please rerun this cell to show the HTML representation or trust the notebook. <br />On GitHub, the HTML representation is unable to render, please try loading this page with nbviewer.org.</b></div><div class=\"sk-container\" hidden><div class=\"sk-item\"><div class=\"sk-estimator sk-toggleable\"><input class=\"sk-toggleable__control sk-hidden--visually\" id=\"sk-estimator-id-2\" type=\"checkbox\" checked><label for=\"sk-estimator-id-2\" class=\"sk-toggleable__label sk-toggleable__label-arrow\">MLPClassifier</label><div class=\"sk-toggleable__content\"><pre>MLPClassifier(hidden_layer_sizes=(6, 5), learning_rate_init=0.01,\n",
              "              random_state=5, verbose=True)</pre></div></div></div></div></div>"
            ]
          },
          "metadata": {},
          "execution_count": 17
        }
      ]
    },
    {
      "cell_type": "code",
      "source": [
        "y_pred=clf.predict(X_test)\n",
        "from sklearn.metrics import accuracy_score\n",
        "accuracy_score(y_test,y_pred) #without scaling"
      ],
      "metadata": {
        "colab": {
          "base_uri": "https://localhost:8080/"
        },
        "id": "DeszPQ0IVAn2",
        "outputId": "343a01ba-d8f5-4c82-eb94-abb4a55e3a04"
      },
      "execution_count": null,
      "outputs": [
        {
          "output_type": "execute_result",
          "data": {
            "text/plain": [
              "0.7501774988966284"
            ]
          },
          "metadata": {},
          "execution_count": 18
        }
      ]
    },
    {
      "cell_type": "code",
      "source": [
        "y_pred_val=clf.predict(X_val)\n",
        "from sklearn.metrics import accuracy_score\n",
        "accuracy_score(y_test,y_pred) #without scaling"
      ],
      "metadata": {
        "id": "E9-v9iImSbDX"
      },
      "execution_count": null,
      "outputs": []
    },
    {
      "cell_type": "markdown",
      "source": [
        "Using Tensorflow"
      ],
      "metadata": {
        "id": "t0E9BH9SWOXd"
      }
    },
    {
      "cell_type": "code",
      "source": [
        "import tensorflow as tf\n",
        "print(\"TensorFlow version:\", tf.__version__)"
      ],
      "metadata": {
        "colab": {
          "base_uri": "https://localhost:8080/"
        },
        "id": "Kq2Snn_f8rTT",
        "outputId": "b8ce6f60-8175-42db-b821-08be11da602d"
      },
      "execution_count": null,
      "outputs": [
        {
          "output_type": "stream",
          "name": "stdout",
          "text": [
            "TensorFlow version: 2.12.0\n"
          ]
        }
      ]
    },
    {
      "cell_type": "code",
      "source": [
        "tf.random.set_seed(42)\n",
        "model = tf.keras.Sequential([\n",
        "    tf.keras.layers.Dense(128, activation='relu'),\n",
        "    tf.keras.layers.Dense(256, activation='relu'),\n",
        "    tf.keras.layers.Dense(256, activation='relu'),\n",
        "    tf.keras.layers.Dense(1, activation='sigmoid')\n",
        "])\n",
        "\n",
        "model.compile(\n",
        "    loss=tf.keras.losses.binary_crossentropy,\n",
        "    optimizer=tf.keras.optimizers.Adam(lr=0.03),\n",
        "    metrics=[\n",
        "        tf.keras.metrics.BinaryAccuracy(name='accuracy'),\n",
        "        tf.keras.metrics.Precision(name='precision'),\n",
        "        tf.keras.metrics.Recall(name='recall')\n",
        "    ]\n",
        ")\n",
        "\n",
        "history = model.fit(X_train_scaled, y_train, epochs=10)"
      ],
      "metadata": {
        "colab": {
          "base_uri": "https://localhost:8080/"
        },
        "id": "o9kJDd1r9aQg",
        "outputId": "7b41724e-bdda-410b-88d1-0b186d11df53"
      },
      "execution_count": null,
      "outputs": [
        {
          "output_type": "stream",
          "name": "stderr",
          "text": [
            "WARNING:absl:`lr` is deprecated in Keras optimizer, please use `learning_rate` or use the legacy optimizer, e.g.,tf.keras.optimizers.legacy.Adam.\n"
          ]
        },
        {
          "output_type": "stream",
          "name": "stdout",
          "text": [
            "Epoch 1/10\n",
            "31268/31268 [==============================] - 116s 4ms/step - loss: 0.3255 - accuracy: 0.8374 - precision: 0.8788 - recall: 0.9027\n",
            "Epoch 2/10\n",
            "31268/31268 [==============================] - 109s 3ms/step - loss: 0.2430 - accuracy: 0.8750 - precision: 0.9229 - recall: 0.9051\n",
            "Epoch 3/10\n",
            "31268/31268 [==============================] - 109s 3ms/step - loss: 0.2072 - accuracy: 0.8959 - precision: 0.9356 - recall: 0.9214\n",
            "Epoch 4/10\n",
            "31268/31268 [==============================] - 107s 3ms/step - loss: 0.1587 - accuracy: 0.9220 - precision: 0.9527 - recall: 0.9404\n",
            "Epoch 5/10\n",
            "31268/31268 [==============================] - 107s 3ms/step - loss: 0.1400 - accuracy: 0.9325 - precision: 0.9577 - recall: 0.9499\n",
            "Epoch 6/10\n",
            "31268/31268 [==============================] - 108s 3ms/step - loss: 0.1480 - accuracy: 0.9266 - precision: 0.9552 - recall: 0.9441\n",
            "Epoch 7/10\n",
            "31268/31268 [==============================] - 107s 3ms/step - loss: 0.1206 - accuracy: 0.9420 - precision: 0.9640 - recall: 0.9566\n",
            "Epoch 8/10\n",
            "31268/31268 [==============================] - 106s 3ms/step - loss: 0.1166 - accuracy: 0.9410 - precision: 0.9621 - recall: 0.9572\n",
            "Epoch 9/10\n",
            "31268/31268 [==============================] - 108s 3ms/step - loss: 0.1094 - accuracy: 0.9455 - precision: 0.9648 - recall: 0.9607\n",
            "Epoch 10/10\n",
            "31268/31268 [==============================] - 107s 3ms/step - loss: 0.1117 - accuracy: 0.9468 - precision: 0.9695 - recall: 0.9576\n"
          ]
        }
      ]
    },
    {
      "cell_type": "code",
      "source": [
        "#visualize performance\n",
        "import matplotlib.pyplot as plt\n",
        "from matplotlib import rcParams\n",
        "\n",
        "rcParams['figure.figsize'] = (18, 8)\n",
        "rcParams['axes.spines.top'] = False\n",
        "rcParams['axes.spines.right'] = False\n",
        "plt.plot(\n",
        "    np.arange(1, 11), \n",
        "    history.history['loss'], label='Loss'\n",
        ")\n",
        "plt.plot(\n",
        "    np.arange(1, 11), \n",
        "    history.history['accuracy'], label='Accuracy'\n",
        ")\n",
        "plt.plot(\n",
        "    np.arange(1, 11), \n",
        "    history.history['precision'], label='Precision'\n",
        ")\n",
        "plt.plot(\n",
        "    np.arange(1, 11), \n",
        "    history.history['recall'], label='Recall'\n",
        ")\n",
        "plt.title('Evaluation metrics', size=20)\n",
        "plt.xlabel('Epoch', size=14)\n",
        "plt.legend();"
      ],
      "metadata": {
        "colab": {
          "base_uri": "https://localhost:8080/",
          "height": 570
        },
        "id": "kgEPrTdg9gIT",
        "outputId": "cd25d2ca-3e3f-4d33-f24f-38f9a5df613a"
      },
      "execution_count": null,
      "outputs": [
        {
          "output_type": "display_data",
          "data": {
            "text/plain": [
              "<Figure size 1800x800 with 1 Axes>"
            ],
            "image/png": "[encoded data removed]"
          },
          "metadata": {}
        }
      ]
    },
    {
      "cell_type": "code",
      "source": [
        "#evaluate performance\n",
        "predictions = model.predict(X_test_scaled)\n",
        "prediction_classes = [\n",
        "    1 if prob > 0.5 else 0 for prob in np.ravel(predictions)\n",
        "]\n",
        "prediction_classes = [\n",
        "    1 if prob > 0.5 else 0 for prob in np.ravel(predictions)\n",
        "]\n",
        "from sklearn.metrics import accuracy_score, precision_score, recall_score\n",
        "\n",
        "print(f'Accuracy: {accuracy_score(y_test, prediction_classes):.4f}')\n",
        "print(f'Precision: {precision_score(y_test, prediction_classes):.4f}')\n",
        "print(f'Recall: {recall_score(y_test, prediction_classes):.4f}')"
      ],
      "metadata": {
        "colab": {
          "base_uri": "https://localhost:8080/"
        },
        "id": "wALC8FTy9jS_",
        "outputId": "c5292dfe-9603-4404-edfe-1a2d22a1792c"
      },
      "execution_count": null,
      "outputs": [
        {
          "output_type": "stream",
          "name": "stdout",
          "text": [
            "9772/9772 [==============================] - 14s 1ms/step\n",
            "Accuracy: 0.9491\n",
            "Precision: 0.9563\n",
            "Recall: 0.9751\n"
          ]
        }
      ]
    },
    {
      "cell_type": "code",
      "source": [],
      "metadata": {
        "id": "hyQ_i4PAAYCl"
      },
      "execution_count": null,
      "outputs": []
    }
  ]
}